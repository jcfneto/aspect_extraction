{
 "cells": [
  {
   "cell_type": "code",
   "execution_count": 1,
   "metadata": {
    "collapsed": true
   },
   "outputs": [],
   "source": [
    "import matplotlib.pyplot as plt\n",
    "import pandas as pd\n",
    "import seaborn as sns\n",
    "\n",
    "from ast import literal_eval\n",
    "from scipy.stats import median_abs_deviation"
   ]
  },
  {
   "cell_type": "code",
   "execution_count": 2,
   "outputs": [],
   "source": [
    "# lendo os dados\n",
    "tv = pd.read_csv('../../datasets/processed/tv_stratified.csv')\n",
    "\n",
    "# mudando o formato das colunas\n",
    "for col in ('tokens', 'aspect_tags'):\n",
    "    tv[col] = tv[col].apply(literal_eval)"
   ],
   "metadata": {
    "collapsed": false
   }
  },
  {
   "cell_type": "code",
   "execution_count": 3,
   "outputs": [],
   "source": [
    "# comprimento das reviews\n",
    "tv['lengths'] = tv.tokens.map(len)"
   ],
   "metadata": {
    "collapsed": false
   }
  },
  {
   "cell_type": "code",
   "execution_count": 4,
   "outputs": [
    {
     "data": {
      "text/plain": "[]"
     },
     "execution_count": 4,
     "metadata": {},
     "output_type": "execute_result"
    },
    {
     "data": {
      "text/plain": "<Figure size 432x288 with 1 Axes>",
      "image/png": "[encoded data removed]"
     },
     "metadata": {},
     "output_type": "display_data"
    }
   ],
   "source": [
    "# distribuicão dos comprimentos das reviews\n",
    "sns.histplot(tv['lengths'])\n",
    "plt.plot()"
   ],
   "metadata": {
    "collapsed": false
   }
  },
  {
   "cell_type": "code",
   "execution_count": 5,
   "outputs": [
    {
     "data": {
      "text/plain": "       total_aspects   has_aspect       review         fold      lengths\ncount    1091.000000  1091.000000  1091.000000  1091.000000  1091.000000\nmean        2.132906     0.906508   546.000000     5.496792    28.601283\nstd         1.402399     0.291254   315.088876     2.874235    22.898010\nmin         0.000000     0.000000     1.000000     1.000000    10.000000\n25%         1.000000     1.000000   273.500000     3.000000    15.000000\n50%         2.000000     1.000000   546.000000     5.000000    21.000000\n75%         3.000000     1.000000   818.500000     8.000000    33.500000\nmax        10.000000     1.000000  1091.000000    10.000000   223.000000",
      "text/html": "<div>\n<style scoped>\n    .dataframe tbody tr th:only-of-type {\n        vertical-align: middle;\n    }\n\n    .dataframe tbody tr th {\n        vertical-align: top;\n    }\n\n    .dataframe thead th {\n        text-align: right;\n    }\n</style>\n<table border=\"1\" class=\"dataframe\">\n  <thead>\n    <tr style=\"text-align: right;\">\n      <th></th>\n      <th>total_aspects</th>\n      <th>has_aspect</th>\n      <th>review</th>\n      <th>fold</th>\n      <th>lengths</th>\n    </tr>\n  </thead>\n  <tbody>\n    <tr>\n      <th>count</th>\n      <td>1091.000000</td>\n      <td>1091.000000</td>\n      <td>1091.000000</td>\n      <td>1091.000000</td>\n      <td>1091.000000</td>\n    </tr>\n    <tr>\n      <th>mean</th>\n      <td>2.132906</td>\n      <td>0.906508</td>\n      <td>546.000000</td>\n      <td>5.496792</td>\n      <td>28.601283</td>\n    </tr>\n    <tr>\n      <th>std</th>\n      <td>1.402399</td>\n      <td>0.291254</td>\n      <td>315.088876</td>\n      <td>2.874235</td>\n      <td>22.898010</td>\n    </tr>\n    <tr>\n      <th>min</th>\n      <td>0.000000</td>\n      <td>0.000000</td>\n      <td>1.000000</td>\n      <td>1.000000</td>\n      <td>10.000000</td>\n    </tr>\n    <tr>\n      <th>25%</th>\n      <td>1.000000</td>\n      <td>1.000000</td>\n      <td>273.500000</td>\n      <td>3.000000</td>\n      <td>15.000000</td>\n    </tr>\n    <tr>\n      <th>50%</th>\n      <td>2.000000</td>\n      <td>1.000000</td>\n      <td>546.000000</td>\n      <td>5.000000</td>\n      <td>21.000000</td>\n    </tr>\n    <tr>\n      <th>75%</th>\n      <td>3.000000</td>\n      <td>1.000000</td>\n      <td>818.500000</td>\n      <td>8.000000</td>\n      <td>33.500000</td>\n    </tr>\n    <tr>\n      <th>max</th>\n      <td>10.000000</td>\n      <td>1.000000</td>\n      <td>1091.000000</td>\n      <td>10.000000</td>\n      <td>223.000000</td>\n    </tr>\n  </tbody>\n</table>\n</div>"
     },
     "execution_count": 5,
     "metadata": {},
     "output_type": "execute_result"
    }
   ],
   "source": [
    "# estatísticas do dataset\n",
    "tv.describe()"
   ],
   "metadata": {
    "collapsed": false
   }
  },
  {
   "cell_type": "code",
   "execution_count": 6,
   "outputs": [
    {
     "data": {
      "text/plain": "(18, 2)"
     },
     "execution_count": 6,
     "metadata": {},
     "output_type": "execute_result"
    }
   ],
   "source": [
    "# quantidade de reviews maior do que 100 e maior do que 200 tokens\n",
    "tv[tv.lengths > 100].shape[0], tv[tv.lengths > 200].shape[0]"
   ],
   "metadata": {
    "collapsed": false
   }
  },
  {
   "cell_type": "markdown",
   "source": [
    "- São 1.091 reviews no conjunto todo.\n",
    "- Em média, as reviews possuem 2 aspectos. Sendo 10 o maior número de aspecto em uma única review.\n",
    "- 90.65% das reviews possuem ao menos um aspecto.\n",
    "- Em média, as reviews possuem aproximadamente 29 tokens.\n",
    "- 75% das reviews possuem até 33 tokens.\n",
    "- A review que possui o maior comprimento, possui 223 tokens.\n",
    "- 18 reviews possui mais do que 100 tokens e 2 reviews possui mais do que 200."
   ],
   "metadata": {
    "collapsed": false
   }
  },
  {
   "cell_type": "code",
   "execution_count": 7,
   "outputs": [
    {
     "data": {
      "text/plain": "   fold  review  total_aspects\n0     1     109            234\n1     2     110            230\n2     3     109            236\n3     4     109            234\n4     5     109            235\n5     6     109            235\n6     7     109            226\n7     8     109            234\n8     9     109            229\n9    10     109            234",
      "text/html": "<div>\n<style scoped>\n    .dataframe tbody tr th:only-of-type {\n        vertical-align: middle;\n    }\n\n    .dataframe tbody tr th {\n        vertical-align: top;\n    }\n\n    .dataframe thead th {\n        text-align: right;\n    }\n</style>\n<table border=\"1\" class=\"dataframe\">\n  <thead>\n    <tr style=\"text-align: right;\">\n      <th></th>\n      <th>fold</th>\n      <th>review</th>\n      <th>total_aspects</th>\n    </tr>\n  </thead>\n  <tbody>\n    <tr>\n      <th>0</th>\n      <td>1</td>\n      <td>109</td>\n      <td>234</td>\n    </tr>\n    <tr>\n      <th>1</th>\n      <td>2</td>\n      <td>110</td>\n      <td>230</td>\n    </tr>\n    <tr>\n      <th>2</th>\n      <td>3</td>\n      <td>109</td>\n      <td>236</td>\n    </tr>\n    <tr>\n      <th>3</th>\n      <td>4</td>\n      <td>109</td>\n      <td>234</td>\n    </tr>\n    <tr>\n      <th>4</th>\n      <td>5</td>\n      <td>109</td>\n      <td>235</td>\n    </tr>\n    <tr>\n      <th>5</th>\n      <td>6</td>\n      <td>109</td>\n      <td>235</td>\n    </tr>\n    <tr>\n      <th>6</th>\n      <td>7</td>\n      <td>109</td>\n      <td>226</td>\n    </tr>\n    <tr>\n      <th>7</th>\n      <td>8</td>\n      <td>109</td>\n      <td>234</td>\n    </tr>\n    <tr>\n      <th>8</th>\n      <td>9</td>\n      <td>109</td>\n      <td>229</td>\n    </tr>\n    <tr>\n      <th>9</th>\n      <td>10</td>\n      <td>109</td>\n      <td>234</td>\n    </tr>\n  </tbody>\n</table>\n</div>"
     },
     "execution_count": 7,
     "metadata": {},
     "output_type": "execute_result"
    }
   ],
   "source": [
    "# total de reviews por particão e total de aspectos por particão\n",
    "summary = tv.groupby(['fold']).agg({'review': 'nunique', 'total_aspects': 'sum'}).reset_index()\n",
    "summary"
   ],
   "metadata": {
    "collapsed": false
   }
  },
  {
   "cell_type": "code",
   "execution_count": 8,
   "outputs": [
    {
     "data": {
      "text/plain": "(234.0, 1.0)"
     },
     "execution_count": 8,
     "metadata": {},
     "output_type": "execute_result"
    }
   ],
   "source": [
    "# mediana e o desvio absoluto da mediana\n",
    "summary.total_aspects.median(), median_abs_deviation(summary.total_aspects)"
   ],
   "metadata": {
    "collapsed": false
   }
  }
 ],
 "metadata": {
  "kernelspec": {
   "display_name": "Python 3",
   "language": "python",
   "name": "python3"
  },
  "language_info": {
   "codemirror_mode": {
    "name": "ipython",
    "version": 2
   },
   "file_extension": ".py",
   "mimetype": "text/x-python",
   "name": "python",
   "nbconvert_exporter": "python",
   "pygments_lexer": "ipython2",
   "version": "2.7.6"
  }
 },
 "nbformat": 4,
 "nbformat_minor": 0
}
