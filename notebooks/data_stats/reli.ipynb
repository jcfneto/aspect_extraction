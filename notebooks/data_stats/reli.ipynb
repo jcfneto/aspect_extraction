{
 "cells": [
  {
   "cell_type": "code",
   "execution_count": 1,
   "outputs": [],
   "source": [
    "import matplotlib.pyplot as plt\n",
    "import pandas as pd\n",
    "import seaborn as sns\n",
    "\n",
    "from ast import literal_eval\n",
    "from scipy.stats import median_abs_deviation"
   ],
   "metadata": {
    "collapsed": false
   }
  },
  {
   "cell_type": "code",
   "execution_count": 2,
   "outputs": [],
   "source": [
    "# lendo os dados\n",
    "reli = pd.read_csv('../../datasets/processed/reli_stratified.csv')\n",
    "\n",
    "# mudando o formato das colunas\n",
    "for col in ('tokens', 'aspect_tags'):\n",
    "    reli[col] = reli[col].apply(literal_eval)"
   ],
   "metadata": {
    "collapsed": false
   }
  },
  {
   "cell_type": "code",
   "execution_count": 3,
   "outputs": [],
   "source": [
    "# comprimento das reviews\n",
    "reli['lengths'] = reli.tokens.map(len)"
   ],
   "metadata": {
    "collapsed": false
   }
  },
  {
   "cell_type": "code",
   "execution_count": 4,
   "outputs": [],
   "source": [
    "# agrupando por review\n",
    "reli_reviews = reli.groupby(['review']).agg({\n",
    "    'total_aspects': 'sum',\n",
    "    'lengths': 'sum',\n",
    "}).reset_index()\n",
    "reli_reviews['has_aspect'] = (reli_reviews.total_aspects > 0) * 1"
   ],
   "metadata": {
    "collapsed": false
   }
  },
  {
   "cell_type": "code",
   "execution_count": 5,
   "outputs": [
    {
     "data": {
      "text/plain": "(1417,)"
     },
     "execution_count": 5,
     "metadata": {},
     "output_type": "execute_result"
    }
   ],
   "source": [
    "# reviews com mais do que um token\n",
    "reviews = reli_reviews[reli_reviews.lengths > 1].review\n",
    "reviews.shape"
   ],
   "metadata": {
    "collapsed": false
   }
  },
  {
   "cell_type": "code",
   "execution_count": 6,
   "outputs": [
    {
     "data": {
      "text/plain": "[]"
     },
     "execution_count": 6,
     "metadata": {},
     "output_type": "execute_result"
    },
    {
     "data": {
      "text/plain": "<Figure size 432x288 with 1 Axes>",
      "image/png": "[encoded data removed]"
     },
     "metadata": {},
     "output_type": "display_data"
    }
   ],
   "source": [
    "# distribuicão dos comprimentos das sentencas\n",
    "sns.histplot(reli[reli.review.isin(reviews)]['lengths'])\n",
    "plt.plot()"
   ],
   "metadata": {
    "collapsed": false
   }
  },
  {
   "cell_type": "code",
   "execution_count": 7,
   "outputs": [
    {
     "data": {
      "text/plain": "[]"
     },
     "execution_count": 7,
     "metadata": {},
     "output_type": "execute_result"
    },
    {
     "data": {
      "text/plain": "<Figure size 432x288 with 1 Axes>",
      "image/png": "[encoded data removed]"
     },
     "metadata": {},
     "output_type": "display_data"
    }
   ],
   "source": [
    "# distribuicão dos comprimentos das reviews\n",
    "sns.histplot(reli_reviews[reli_reviews.review.isin(reviews)]['lengths'])\n",
    "plt.plot()"
   ],
   "metadata": {
    "collapsed": false
   }
  },
  {
   "cell_type": "code",
   "execution_count": 8,
   "outputs": [
    {
     "data": {
      "text/plain": "             review      sentence  total_aspects    has_aspect          fold  \\\ncount  10489.000000  10489.000000   10489.000000  10489.000000  10489.000000   \nmean     760.995710   5254.200782       0.188674      0.161789      5.507007   \nstd      447.610816   3032.680202       0.470285      0.368274      2.745042   \nmin        1.000000      1.000000       0.000000      0.000000      1.000000   \n25%      358.000000   2628.000000       0.000000      0.000000      3.000000   \n50%      722.000000   5254.000000       0.000000      0.000000      6.000000   \n75%     1138.000000   7881.000000       0.000000      0.000000      8.000000   \nmax     1601.000000  10507.000000       5.000000      1.000000     10.000000   \n\n            lengths  \ncount  10489.000000  \nmean      21.841739  \nstd       18.200021  \nmin        1.000000  \n25%       10.000000  \n50%       18.000000  \n75%       29.000000  \nmax      404.000000  ",
      "text/html": "<div>\n<style scoped>\n    .dataframe tbody tr th:only-of-type {\n        vertical-align: middle;\n    }\n\n    .dataframe tbody tr th {\n        vertical-align: top;\n    }\n\n    .dataframe thead th {\n        text-align: right;\n    }\n</style>\n<table border=\"1\" class=\"dataframe\">\n  <thead>\n    <tr style=\"text-align: right;\">\n      <th></th>\n      <th>review</th>\n      <th>sentence</th>\n      <th>total_aspects</th>\n      <th>has_aspect</th>\n      <th>fold</th>\n      <th>lengths</th>\n    </tr>\n  </thead>\n  <tbody>\n    <tr>\n      <th>count</th>\n      <td>10489.000000</td>\n      <td>10489.000000</td>\n      <td>10489.000000</td>\n      <td>10489.000000</td>\n      <td>10489.000000</td>\n      <td>10489.000000</td>\n    </tr>\n    <tr>\n      <th>mean</th>\n      <td>760.995710</td>\n      <td>5254.200782</td>\n      <td>0.188674</td>\n      <td>0.161789</td>\n      <td>5.507007</td>\n      <td>21.841739</td>\n    </tr>\n    <tr>\n      <th>std</th>\n      <td>447.610816</td>\n      <td>3032.680202</td>\n      <td>0.470285</td>\n      <td>0.368274</td>\n      <td>2.745042</td>\n      <td>18.200021</td>\n    </tr>\n    <tr>\n      <th>min</th>\n      <td>1.000000</td>\n      <td>1.000000</td>\n      <td>0.000000</td>\n      <td>0.000000</td>\n      <td>1.000000</td>\n      <td>1.000000</td>\n    </tr>\n    <tr>\n      <th>25%</th>\n      <td>358.000000</td>\n      <td>2628.000000</td>\n      <td>0.000000</td>\n      <td>0.000000</td>\n      <td>3.000000</td>\n      <td>10.000000</td>\n    </tr>\n    <tr>\n      <th>50%</th>\n      <td>722.000000</td>\n      <td>5254.000000</td>\n      <td>0.000000</td>\n      <td>0.000000</td>\n      <td>6.000000</td>\n      <td>18.000000</td>\n    </tr>\n    <tr>\n      <th>75%</th>\n      <td>1138.000000</td>\n      <td>7881.000000</td>\n      <td>0.000000</td>\n      <td>0.000000</td>\n      <td>8.000000</td>\n      <td>29.000000</td>\n    </tr>\n    <tr>\n      <th>max</th>\n      <td>1601.000000</td>\n      <td>10507.000000</td>\n      <td>5.000000</td>\n      <td>1.000000</td>\n      <td>10.000000</td>\n      <td>404.000000</td>\n    </tr>\n  </tbody>\n</table>\n</div>"
     },
     "execution_count": 8,
     "metadata": {},
     "output_type": "execute_result"
    }
   ],
   "source": [
    "# estatísticas a nível de sentencas\n",
    "reli[reli.review.isin(reviews)].describe()"
   ],
   "metadata": {
    "collapsed": false
   }
  },
  {
   "cell_type": "code",
   "execution_count": 9,
   "outputs": [
    {
     "data": {
      "text/plain": "(47, 5)"
     },
     "execution_count": 9,
     "metadata": {},
     "output_type": "execute_result"
    }
   ],
   "source": [
    "# quantidade de sentencas maior do que 100 e maior do que 200 tokens\n",
    "reli[reli.lengths > 100].shape[0], reli[reli.lengths > 200].shape[0]"
   ],
   "metadata": {
    "collapsed": false
   }
  },
  {
   "cell_type": "markdown",
   "source": [
    "- São 10.507 sentencas, porém, 10.489 são sentencas que pertecem a reviews que possui mais do que um token no total.\n",
    "- 1.601 reviews, porém, 1.417 possui mais do que 1 token.\n",
    "- Apenas 16.18% das sentencas possuem aspectos.\n",
    "- Em média, as sentencas possui aproximadamente 22 aspectos.\n",
    "- 75% das sentencas possuem até 29 tokens.\n",
    "- A sentenca com maior comprimento, possui 404.\n",
    "- 47 sentencas possui mais do que 100 tokens e 5 possui mais do que 200."
   ],
   "metadata": {
    "collapsed": false
   }
  },
  {
   "cell_type": "code",
   "execution_count": 10,
   "outputs": [
    {
     "data": {
      "text/plain": "            review  total_aspects      lengths   has_aspect\ncount  1417.000000    1417.000000  1417.000000  1417.000000\nmean    802.917431       1.396613   161.678193     0.633028\nstd     462.499839       1.685579   230.221898     0.482149\nmin       1.000000       0.000000     2.000000     0.000000\n25%     405.000000       0.000000    38.000000     0.000000\n50%     805.000000       1.000000    87.000000     1.000000\n75%    1203.000000       2.000000   193.000000     1.000000\nmax    1601.000000      13.000000  2664.000000     1.000000",
      "text/html": "<div>\n<style scoped>\n    .dataframe tbody tr th:only-of-type {\n        vertical-align: middle;\n    }\n\n    .dataframe tbody tr th {\n        vertical-align: top;\n    }\n\n    .dataframe thead th {\n        text-align: right;\n    }\n</style>\n<table border=\"1\" class=\"dataframe\">\n  <thead>\n    <tr style=\"text-align: right;\">\n      <th></th>\n      <th>review</th>\n      <th>total_aspects</th>\n      <th>lengths</th>\n      <th>has_aspect</th>\n    </tr>\n  </thead>\n  <tbody>\n    <tr>\n      <th>count</th>\n      <td>1417.000000</td>\n      <td>1417.000000</td>\n      <td>1417.000000</td>\n      <td>1417.000000</td>\n    </tr>\n    <tr>\n      <th>mean</th>\n      <td>802.917431</td>\n      <td>1.396613</td>\n      <td>161.678193</td>\n      <td>0.633028</td>\n    </tr>\n    <tr>\n      <th>std</th>\n      <td>462.499839</td>\n      <td>1.685579</td>\n      <td>230.221898</td>\n      <td>0.482149</td>\n    </tr>\n    <tr>\n      <th>min</th>\n      <td>1.000000</td>\n      <td>0.000000</td>\n      <td>2.000000</td>\n      <td>0.000000</td>\n    </tr>\n    <tr>\n      <th>25%</th>\n      <td>405.000000</td>\n      <td>0.000000</td>\n      <td>38.000000</td>\n      <td>0.000000</td>\n    </tr>\n    <tr>\n      <th>50%</th>\n      <td>805.000000</td>\n      <td>1.000000</td>\n      <td>87.000000</td>\n      <td>1.000000</td>\n    </tr>\n    <tr>\n      <th>75%</th>\n      <td>1203.000000</td>\n      <td>2.000000</td>\n      <td>193.000000</td>\n      <td>1.000000</td>\n    </tr>\n    <tr>\n      <th>max</th>\n      <td>1601.000000</td>\n      <td>13.000000</td>\n      <td>2664.000000</td>\n      <td>1.000000</td>\n    </tr>\n  </tbody>\n</table>\n</div>"
     },
     "execution_count": 10,
     "metadata": {},
     "output_type": "execute_result"
    }
   ],
   "source": [
    "# estatísticas a nível de review\n",
    "reli_reviews[reli_reviews.review.isin(reviews)].describe()"
   ],
   "metadata": {
    "collapsed": false
   }
  },
  {
   "cell_type": "code",
   "execution_count": 11,
   "outputs": [
    {
     "data": {
      "text/plain": "(635, 337, 18)"
     },
     "execution_count": 11,
     "metadata": {},
     "output_type": "execute_result"
    }
   ],
   "source": [
    "# reviews com mais do que 100, 200 e 1000 tokens\n",
    "reli_reviews[reli_reviews.review.isin(reviews) & (reli_reviews.lengths > 100)].shape[0], reli_reviews[reli_reviews.review.isin(reviews) & (reli_reviews.lengths > 200)].shape[0], \\\n",
    "    reli_reviews[reli_reviews.review.isin(reviews) & (reli_reviews.lengths > 1000)].shape[0]"
   ],
   "metadata": {
    "collapsed": false
   }
  },
  {
   "cell_type": "markdown",
   "source": [
    "- Das 1.417 reviews, 63.3% possuem pelo menos 1 aspecto.\n",
    "- Em média, as reviews possuem aproximadamente 162 aspectos.\n",
    "- 75% das reviews possuem até 193 aspectos.\n",
    "- 635 reviews possui mais do que 100 tokens, 337 possui mais do que 200, e 18 possui mais do que 1.000."
   ],
   "metadata": {
    "collapsed": false
   }
  },
  {
   "cell_type": "code",
   "execution_count": 12,
   "outputs": [
    {
     "data": {
      "text/plain": "   fold  review  total_aspects\n0     1     141            197\n1     2     143            198\n2     3     142            198\n3     4     138            198\n4     5     142            198\n5     6     144            198\n6     7     141            198\n7     8     142            198\n8     9     141            198\n9    10     143            198",
      "text/html": "<div>\n<style scoped>\n    .dataframe tbody tr th:only-of-type {\n        vertical-align: middle;\n    }\n\n    .dataframe tbody tr th {\n        vertical-align: top;\n    }\n\n    .dataframe thead th {\n        text-align: right;\n    }\n</style>\n<table border=\"1\" class=\"dataframe\">\n  <thead>\n    <tr style=\"text-align: right;\">\n      <th></th>\n      <th>fold</th>\n      <th>review</th>\n      <th>total_aspects</th>\n    </tr>\n  </thead>\n  <tbody>\n    <tr>\n      <th>0</th>\n      <td>1</td>\n      <td>141</td>\n      <td>197</td>\n    </tr>\n    <tr>\n      <th>1</th>\n      <td>2</td>\n      <td>143</td>\n      <td>198</td>\n    </tr>\n    <tr>\n      <th>2</th>\n      <td>3</td>\n      <td>142</td>\n      <td>198</td>\n    </tr>\n    <tr>\n      <th>3</th>\n      <td>4</td>\n      <td>138</td>\n      <td>198</td>\n    </tr>\n    <tr>\n      <th>4</th>\n      <td>5</td>\n      <td>142</td>\n      <td>198</td>\n    </tr>\n    <tr>\n      <th>5</th>\n      <td>6</td>\n      <td>144</td>\n      <td>198</td>\n    </tr>\n    <tr>\n      <th>6</th>\n      <td>7</td>\n      <td>141</td>\n      <td>198</td>\n    </tr>\n    <tr>\n      <th>7</th>\n      <td>8</td>\n      <td>142</td>\n      <td>198</td>\n    </tr>\n    <tr>\n      <th>8</th>\n      <td>9</td>\n      <td>141</td>\n      <td>198</td>\n    </tr>\n    <tr>\n      <th>9</th>\n      <td>10</td>\n      <td>143</td>\n      <td>198</td>\n    </tr>\n  </tbody>\n</table>\n</div>"
     },
     "execution_count": 12,
     "metadata": {},
     "output_type": "execute_result"
    }
   ],
   "source": [
    "# total de reviews por particão e total de aspectos por particão\n",
    "summary = reli[reli.review.isin(reviews)].groupby(['fold']).agg({'review': 'nunique', 'total_aspects': 'sum'}).reset_index()\n",
    "summary"
   ],
   "metadata": {
    "collapsed": false
   }
  },
  {
   "cell_type": "code",
   "execution_count": 13,
   "outputs": [
    {
     "data": {
      "text/plain": "(198.0, 0.0)"
     },
     "execution_count": 13,
     "metadata": {},
     "output_type": "execute_result"
    }
   ],
   "source": [
    "# mediana e o desvio absoluto da mediana\n",
    "summary.total_aspects.median(), median_abs_deviation(summary.total_aspects)"
   ],
   "metadata": {
    "collapsed": false
   }
  }
 ],
 "metadata": {
  "kernelspec": {
   "display_name": "Python 3",
   "language": "python",
   "name": "python3"
  },
  "language_info": {
   "codemirror_mode": {
    "name": "ipython",
    "version": 2
   },
   "file_extension": ".py",
   "mimetype": "text/x-python",
   "name": "python",
   "nbconvert_exporter": "python",
   "pygments_lexer": "ipython2",
   "version": "2.7.6"
  }
 },
 "nbformat": 4,
 "nbformat_minor": 0
}
