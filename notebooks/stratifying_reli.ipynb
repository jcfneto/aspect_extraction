{
 "cells": [
  {
   "cell_type": "code",
   "execution_count": 1,
   "metadata": {
    "ExecuteTime": {
     "end_time": "2022-12-23T00:26:27.030011Z",
     "start_time": "2022-12-23T00:26:24.759157Z"
    }
   },
   "outputs": [],
   "source": [
    "import pandas as pd\n",
    "\n",
    "from src import utils\n",
    "from src import pre_processing"
   ]
  },
  {
   "cell_type": "code",
   "execution_count": 2,
   "metadata": {
    "ExecuteTime": {
     "end_time": "2022-12-23T00:26:27.896563Z",
     "start_time": "2022-12-23T00:26:27.030950Z"
    }
   },
   "outputs": [
    {
     "data": {
      "text/plain": "                                              tokens  \\\n0  [Um, livro, muito, bom, que, retrata, a, cruel...   \n\n                                         aspect_tags author  \n0  [0, 1, 0, 0, 0, 0, 0, 0, 0, 0, 0, 0, 0, 0, 0, ...  amado  ",
      "text/html": "<div>\n<style scoped>\n    .dataframe tbody tr th:only-of-type {\n        vertical-align: middle;\n    }\n\n    .dataframe tbody tr th {\n        vertical-align: top;\n    }\n\n    .dataframe thead th {\n        text-align: right;\n    }\n</style>\n<table border=\"1\" class=\"dataframe\">\n  <thead>\n    <tr style=\"text-align: right;\">\n      <th></th>\n      <th>tokens</th>\n      <th>aspect_tags</th>\n      <th>author</th>\n    </tr>\n  </thead>\n  <tbody>\n    <tr>\n      <th>0</th>\n      <td>[Um, livro, muito, bom, que, retrata, a, cruel...</td>\n      <td>[0, 1, 0, 0, 0, 0, 0, 0, 0, 0, 0, 0, 0, 0, 0, ...</td>\n      <td>amado</td>\n    </tr>\n  </tbody>\n</table>\n</div>"
     },
     "execution_count": 2,
     "metadata": {},
     "output_type": "execute_result"
    }
   ],
   "source": [
    "# lendo e pré-processando os dados (json to dataframe)\n",
    "data = pre_processing.pre_processing_reli_dataset('../datasets/reli/')\n",
    "data.head(1)"
   ]
  },
  {
   "cell_type": "code",
   "execution_count": 3,
   "metadata": {
    "ExecuteTime": {
     "end_time": "2022-12-23T00:26:27.905706Z",
     "start_time": "2022-12-23T00:26:27.897966Z"
    }
   },
   "outputs": [
    {
     "data": {
      "text/plain": "                                              tokens  \\\n0  [Um, livro, muito, bom, que, retrata, a, cruel...   \n\n                                         aspect_tags author  num_aspects  \n0  [0, 1, 0, 0, 0, 0, 0, 0, 0, 0, 0, 0, 0, 0, 0, ...  amado            1  ",
      "text/html": "<div>\n<style scoped>\n    .dataframe tbody tr th:only-of-type {\n        vertical-align: middle;\n    }\n\n    .dataframe tbody tr th {\n        vertical-align: top;\n    }\n\n    .dataframe thead th {\n        text-align: right;\n    }\n</style>\n<table border=\"1\" class=\"dataframe\">\n  <thead>\n    <tr style=\"text-align: right;\">\n      <th></th>\n      <th>tokens</th>\n      <th>aspect_tags</th>\n      <th>author</th>\n      <th>num_aspects</th>\n    </tr>\n  </thead>\n  <tbody>\n    <tr>\n      <th>0</th>\n      <td>[Um, livro, muito, bom, que, retrata, a, cruel...</td>\n      <td>[0, 1, 0, 0, 0, 0, 0, 0, 0, 0, 0, 0, 0, 0, 0, ...</td>\n      <td>amado</td>\n      <td>1</td>\n    </tr>\n  </tbody>\n</table>\n</div>"
     },
     "execution_count": 3,
     "metadata": {},
     "output_type": "execute_result"
    }
   ],
   "source": [
    "# contabilizando o número de aspectos por registro\n",
    "data = utils.aspect_counter(data)\n",
    "data.head(1)"
   ]
  },
  {
   "cell_type": "code",
   "execution_count": 4,
   "metadata": {
    "ExecuteTime": {
     "end_time": "2022-12-23T00:26:27.914353Z",
     "start_time": "2022-12-23T00:26:27.907087Z"
    }
   },
   "outputs": [
    {
     "data": {
      "text/plain": "                                              tokens  \\\n0  [Um, livro, muito, bom, que, retrata, a, cruel...   \n\n                                         aspect_tags author  num_aspects  \\\n0  [0, 1, 0, 0, 0, 0, 0, 0, 0, 0, 0, 0, 0, 0, 0, ...  amado            1   \n\n   has_aspect  \n0           1  ",
      "text/html": "<div>\n<style scoped>\n    .dataframe tbody tr th:only-of-type {\n        vertical-align: middle;\n    }\n\n    .dataframe tbody tr th {\n        vertical-align: top;\n    }\n\n    .dataframe thead th {\n        text-align: right;\n    }\n</style>\n<table border=\"1\" class=\"dataframe\">\n  <thead>\n    <tr style=\"text-align: right;\">\n      <th></th>\n      <th>tokens</th>\n      <th>aspect_tags</th>\n      <th>author</th>\n      <th>num_aspects</th>\n      <th>has_aspect</th>\n    </tr>\n  </thead>\n  <tbody>\n    <tr>\n      <th>0</th>\n      <td>[Um, livro, muito, bom, que, retrata, a, cruel...</td>\n      <td>[0, 1, 0, 0, 0, 0, 0, 0, 0, 0, 0, 0, 0, 0, 0, ...</td>\n      <td>amado</td>\n      <td>1</td>\n      <td>1</td>\n    </tr>\n  </tbody>\n</table>\n</div>"
     },
     "execution_count": 4,
     "metadata": {},
     "output_type": "execute_result"
    }
   ],
   "source": [
    "# definindo se um registro possui aspecto ou não\n",
    "data = utils.has_aspect(data)\n",
    "data.head(1)"
   ]
  },
  {
   "cell_type": "code",
   "execution_count": 5,
   "outputs": [
    {
     "data": {
      "text/plain": "     author  original_dataset\n0     meyer          0.258018\n1    orwell          0.187399\n2  saramago          0.158656\n3   sheldon          0.124488\n4     amado          0.107071\n5  salinger          0.094508\n6  reboucas          0.069858",
      "text/html": "<div>\n<style scoped>\n    .dataframe tbody tr th:only-of-type {\n        vertical-align: middle;\n    }\n\n    .dataframe tbody tr th {\n        vertical-align: top;\n    }\n\n    .dataframe thead th {\n        text-align: right;\n    }\n</style>\n<table border=\"1\" class=\"dataframe\">\n  <thead>\n    <tr style=\"text-align: right;\">\n      <th></th>\n      <th>author</th>\n      <th>original_dataset</th>\n    </tr>\n  </thead>\n  <tbody>\n    <tr>\n      <th>0</th>\n      <td>meyer</td>\n      <td>0.258018</td>\n    </tr>\n    <tr>\n      <th>1</th>\n      <td>orwell</td>\n      <td>0.187399</td>\n    </tr>\n    <tr>\n      <th>2</th>\n      <td>saramago</td>\n      <td>0.158656</td>\n    </tr>\n    <tr>\n      <th>3</th>\n      <td>sheldon</td>\n      <td>0.124488</td>\n    </tr>\n    <tr>\n      <th>4</th>\n      <td>amado</td>\n      <td>0.107071</td>\n    </tr>\n    <tr>\n      <th>5</th>\n      <td>salinger</td>\n      <td>0.094508</td>\n    </tr>\n    <tr>\n      <th>6</th>\n      <td>reboucas</td>\n      <td>0.069858</td>\n    </tr>\n  </tbody>\n</table>\n</div>"
     },
     "execution_count": 5,
     "metadata": {},
     "output_type": "execute_result"
    }
   ],
   "source": [
    "# contabilizando reviews por author do dataset original\n",
    "author_summary = data.author.value_counts(normalize=True).reset_index().rename(\n",
    "    columns={'index': 'author', 'author': 'original_dataset'})\n",
    "author_summary"
   ],
   "metadata": {
    "collapsed": false
   }
  },
  {
   "cell_type": "code",
   "execution_count": 6,
   "outputs": [
    {
     "data": {
      "text/plain": "   num_aspects  original_dataset\n0            0          0.838489\n1            1          0.140192\n2            2          0.017227\n3            3          0.002855\n4            4          0.001047\n5            5          0.000190",
      "text/html": "<div>\n<style scoped>\n    .dataframe tbody tr th:only-of-type {\n        vertical-align: middle;\n    }\n\n    .dataframe tbody tr th {\n        vertical-align: top;\n    }\n\n    .dataframe thead th {\n        text-align: right;\n    }\n</style>\n<table border=\"1\" class=\"dataframe\">\n  <thead>\n    <tr style=\"text-align: right;\">\n      <th></th>\n      <th>num_aspects</th>\n      <th>original_dataset</th>\n    </tr>\n  </thead>\n  <tbody>\n    <tr>\n      <th>0</th>\n      <td>0</td>\n      <td>0.838489</td>\n    </tr>\n    <tr>\n      <th>1</th>\n      <td>1</td>\n      <td>0.140192</td>\n    </tr>\n    <tr>\n      <th>2</th>\n      <td>2</td>\n      <td>0.017227</td>\n    </tr>\n    <tr>\n      <th>3</th>\n      <td>3</td>\n      <td>0.002855</td>\n    </tr>\n    <tr>\n      <th>4</th>\n      <td>4</td>\n      <td>0.001047</td>\n    </tr>\n    <tr>\n      <th>5</th>\n      <td>5</td>\n      <td>0.000190</td>\n    </tr>\n  </tbody>\n</table>\n</div>"
     },
     "execution_count": 6,
     "metadata": {},
     "output_type": "execute_result"
    }
   ],
   "source": [
    "# contabilizando a quantidade de registros por número de aspectos na frase do dataset original\n",
    "num_aspects_summary = data.num_aspects.value_counts(normalize=True).reset_index().rename(\n",
    "    columns={'num_aspects': 'original_dataset', 'index': 'num_aspects'})\n",
    "num_aspects_summary"
   ],
   "metadata": {
    "collapsed": false
   }
  },
  {
   "cell_type": "code",
   "execution_count": 7,
   "outputs": [
    {
     "data": {
      "text/plain": "   has_aspect  original_dataset\n0           0          0.838489\n1           1          0.161511",
      "text/html": "<div>\n<style scoped>\n    .dataframe tbody tr th:only-of-type {\n        vertical-align: middle;\n    }\n\n    .dataframe tbody tr th {\n        vertical-align: top;\n    }\n\n    .dataframe thead th {\n        text-align: right;\n    }\n</style>\n<table border=\"1\" class=\"dataframe\">\n  <thead>\n    <tr style=\"text-align: right;\">\n      <th></th>\n      <th>has_aspect</th>\n      <th>original_dataset</th>\n    </tr>\n  </thead>\n  <tbody>\n    <tr>\n      <th>0</th>\n      <td>0</td>\n      <td>0.838489</td>\n    </tr>\n    <tr>\n      <th>1</th>\n      <td>1</td>\n      <td>0.161511</td>\n    </tr>\n  </tbody>\n</table>\n</div>"
     },
     "execution_count": 7,
     "metadata": {},
     "output_type": "execute_result"
    }
   ],
   "source": [
    "# contabilizando a quantidade de registros com e sem aspectos do dataset original\n",
    "aspects_summary = data.has_aspect.value_counts(normalize=True).reset_index().rename(\n",
    "    columns={'index': 'has_aspect', 'has_aspect': 'original_dataset'})\n",
    "aspects_summary"
   ],
   "metadata": {
    "collapsed": false
   }
  },
  {
   "cell_type": "code",
   "execution_count": 8,
   "outputs": [],
   "source": [
    "# nome das colunas para estraficacão\n",
    "y_col = 'author'\n",
    "X_cols = ['tokens', 'aspect_tags', 'num_aspects', 'has_aspect']"
   ],
   "metadata": {
    "collapsed": false
   }
  },
  {
   "cell_type": "code",
   "execution_count": 9,
   "outputs": [],
   "source": [
    "# gerando os folds com estratificação\n",
    "data = utils.stratified_k_fold(data, X_cols, y_col, k=10)"
   ],
   "metadata": {
    "collapsed": false
   }
  },
  {
   "cell_type": "code",
   "execution_count": 10,
   "outputs": [
    {
     "data": {
      "text/plain": "   index  fold\n0      1  1051\n1      2  1051\n2      3  1051\n3      4  1051\n4      5  1051\n5      6  1051\n6      7  1051\n7      8  1050\n8      9  1050\n9     10  1050",
      "text/html": "<div>\n<style scoped>\n    .dataframe tbody tr th:only-of-type {\n        vertical-align: middle;\n    }\n\n    .dataframe tbody tr th {\n        vertical-align: top;\n    }\n\n    .dataframe thead th {\n        text-align: right;\n    }\n</style>\n<table border=\"1\" class=\"dataframe\">\n  <thead>\n    <tr style=\"text-align: right;\">\n      <th></th>\n      <th>index</th>\n      <th>fold</th>\n    </tr>\n  </thead>\n  <tbody>\n    <tr>\n      <th>0</th>\n      <td>1</td>\n      <td>1051</td>\n    </tr>\n    <tr>\n      <th>1</th>\n      <td>2</td>\n      <td>1051</td>\n    </tr>\n    <tr>\n      <th>2</th>\n      <td>3</td>\n      <td>1051</td>\n    </tr>\n    <tr>\n      <th>3</th>\n      <td>4</td>\n      <td>1051</td>\n    </tr>\n    <tr>\n      <th>4</th>\n      <td>5</td>\n      <td>1051</td>\n    </tr>\n    <tr>\n      <th>5</th>\n      <td>6</td>\n      <td>1051</td>\n    </tr>\n    <tr>\n      <th>6</th>\n      <td>7</td>\n      <td>1051</td>\n    </tr>\n    <tr>\n      <th>7</th>\n      <td>8</td>\n      <td>1050</td>\n    </tr>\n    <tr>\n      <th>8</th>\n      <td>9</td>\n      <td>1050</td>\n    </tr>\n    <tr>\n      <th>9</th>\n      <td>10</td>\n      <td>1050</td>\n    </tr>\n  </tbody>\n</table>\n</div>"
     },
     "execution_count": 10,
     "metadata": {},
     "output_type": "execute_result"
    }
   ],
   "source": [
    "# número de registros por fold\n",
    "data.fold.value_counts().reset_index()"
   ],
   "metadata": {
    "collapsed": false
   }
  },
  {
   "cell_type": "raw",
   "source": [
    "# salvando\n",
    "data.to_csv('../datasets/processed/reli_stratified.csv', index=False)"
   ],
   "metadata": {
    "collapsed": false
   }
  },
  {
   "cell_type": "code",
   "execution_count": 14,
   "outputs": [],
   "source": [
    "# lendo a base salva\n",
    "data = pd.read_csv('../datasets/processed/reli_stratified.csv')"
   ],
   "metadata": {
    "collapsed": false
   }
  },
  {
   "cell_type": "code",
   "execution_count": 15,
   "outputs": [],
   "source": [
    "# gerando estatísticas dos folds\n",
    "for fold in data.fold.unique():\n",
    "\n",
    "    # filtrando\n",
    "    curr = data[data.fold == fold]\n",
    "\n",
    "    # contabilizando reviews por author\n",
    "    curr_author_summary = curr.author.value_counts(normalize=True).reset_index().rename(\n",
    "        columns={'index': 'author', 'author': f'fold_{fold}'})\n",
    "    author_summary = author_summary.merge(curr_author_summary, how='outer')\n",
    "\n",
    "    # contabilizando a quantidade de registros por número de aspectos na frase\n",
    "    curr_num_aspects_summary = curr.num_aspects.value_counts(normalize=True).reset_index().rename(\n",
    "        columns={'num_aspects': f'fold_{fold}', 'index': 'num_aspects'})\n",
    "    num_aspects_summary = num_aspects_summary.merge(curr_num_aspects_summary, how='outer')\n",
    "\n",
    "    # contabilizando a quantidade de registros com e sem aspectos\n",
    "    curr_aspects_summary = curr.has_aspect.value_counts(normalize=True).reset_index().rename(\n",
    "        columns={'has_aspect': f'fold_{fold}', 'index': 'has_aspect'})\n",
    "    aspects_summary = aspects_summary.merge(curr_aspects_summary, how='outer')"
   ],
   "metadata": {
    "collapsed": false
   }
  },
  {
   "cell_type": "code",
   "execution_count": 16,
   "outputs": [
    {
     "data": {
      "text/plain": "     author  original_dataset  fold_1  fold_2  fold_3  fold_4  fold_5  fold_6  \\\n0     meyer             25.80   25.78   25.78   25.78   25.78   25.78   25.88   \n1    orwell             18.74   18.74   18.74   18.74   18.74   18.74   18.65   \n2  saramago             15.87   15.79   15.79   15.89   15.89   15.89   15.89   \n3   sheldon             12.45   12.46   12.46   12.46   12.46   12.46   12.46   \n4     amado             10.71   10.75   10.75   10.75   10.75   10.75   10.66   \n5  salinger              9.45    9.51    9.51    9.42    9.42    9.42    9.42   \n6  reboucas              6.99    6.95    6.95    6.95    6.95    6.95    7.04   \n\n   fold_7  fold_8  fold_9  fold_10  fold_avg  fold_std  \n0   25.78   25.81   25.81    25.81     25.80      0.03  \n1   18.74   18.76   18.76    18.76     18.74      0.03  \n2   15.89   15.90   15.90    15.81     15.87      0.04  \n3   12.46   12.38   12.38    12.48     12.45      0.03  \n4   10.66   10.67   10.67    10.67     10.71      0.04  \n5    9.42    9.43    9.43     9.52      9.45      0.04  \n6    7.04    7.05    7.05     6.95      6.99      0.05  ",
      "text/html": "<div>\n<style scoped>\n    .dataframe tbody tr th:only-of-type {\n        vertical-align: middle;\n    }\n\n    .dataframe tbody tr th {\n        vertical-align: top;\n    }\n\n    .dataframe thead th {\n        text-align: right;\n    }\n</style>\n<table border=\"1\" class=\"dataframe\">\n  <thead>\n    <tr style=\"text-align: right;\">\n      <th></th>\n      <th>author</th>\n      <th>original_dataset</th>\n      <th>fold_1</th>\n      <th>fold_2</th>\n      <th>fold_3</th>\n      <th>fold_4</th>\n      <th>fold_5</th>\n      <th>fold_6</th>\n      <th>fold_7</th>\n      <th>fold_8</th>\n      <th>fold_9</th>\n      <th>fold_10</th>\n      <th>fold_avg</th>\n      <th>fold_std</th>\n    </tr>\n  </thead>\n  <tbody>\n    <tr>\n      <th>0</th>\n      <td>meyer</td>\n      <td>25.80</td>\n      <td>25.78</td>\n      <td>25.78</td>\n      <td>25.78</td>\n      <td>25.78</td>\n      <td>25.78</td>\n      <td>25.88</td>\n      <td>25.78</td>\n      <td>25.81</td>\n      <td>25.81</td>\n      <td>25.81</td>\n      <td>25.80</td>\n      <td>0.03</td>\n    </tr>\n    <tr>\n      <th>1</th>\n      <td>orwell</td>\n      <td>18.74</td>\n      <td>18.74</td>\n      <td>18.74</td>\n      <td>18.74</td>\n      <td>18.74</td>\n      <td>18.74</td>\n      <td>18.65</td>\n      <td>18.74</td>\n      <td>18.76</td>\n      <td>18.76</td>\n      <td>18.76</td>\n      <td>18.74</td>\n      <td>0.03</td>\n    </tr>\n    <tr>\n      <th>2</th>\n      <td>saramago</td>\n      <td>15.87</td>\n      <td>15.79</td>\n      <td>15.79</td>\n      <td>15.89</td>\n      <td>15.89</td>\n      <td>15.89</td>\n      <td>15.89</td>\n      <td>15.89</td>\n      <td>15.90</td>\n      <td>15.90</td>\n      <td>15.81</td>\n      <td>15.87</td>\n      <td>0.04</td>\n    </tr>\n    <tr>\n      <th>3</th>\n      <td>sheldon</td>\n      <td>12.45</td>\n      <td>12.46</td>\n      <td>12.46</td>\n      <td>12.46</td>\n      <td>12.46</td>\n      <td>12.46</td>\n      <td>12.46</td>\n      <td>12.46</td>\n      <td>12.38</td>\n      <td>12.38</td>\n      <td>12.48</td>\n      <td>12.45</td>\n      <td>0.03</td>\n    </tr>\n    <tr>\n      <th>4</th>\n      <td>amado</td>\n      <td>10.71</td>\n      <td>10.75</td>\n      <td>10.75</td>\n      <td>10.75</td>\n      <td>10.75</td>\n      <td>10.75</td>\n      <td>10.66</td>\n      <td>10.66</td>\n      <td>10.67</td>\n      <td>10.67</td>\n      <td>10.67</td>\n      <td>10.71</td>\n      <td>0.04</td>\n    </tr>\n    <tr>\n      <th>5</th>\n      <td>salinger</td>\n      <td>9.45</td>\n      <td>9.51</td>\n      <td>9.51</td>\n      <td>9.42</td>\n      <td>9.42</td>\n      <td>9.42</td>\n      <td>9.42</td>\n      <td>9.42</td>\n      <td>9.43</td>\n      <td>9.43</td>\n      <td>9.52</td>\n      <td>9.45</td>\n      <td>0.04</td>\n    </tr>\n    <tr>\n      <th>6</th>\n      <td>reboucas</td>\n      <td>6.99</td>\n      <td>6.95</td>\n      <td>6.95</td>\n      <td>6.95</td>\n      <td>6.95</td>\n      <td>6.95</td>\n      <td>7.04</td>\n      <td>7.04</td>\n      <td>7.05</td>\n      <td>7.05</td>\n      <td>6.95</td>\n      <td>6.99</td>\n      <td>0.05</td>\n    </tr>\n  </tbody>\n</table>\n</div>"
     },
     "execution_count": 16,
     "metadata": {},
     "output_type": "execute_result"
    }
   ],
   "source": [
    "# reviews por author\n",
    "for col in author_summary.iloc[:, 1:].columns:\n",
    "    author_summary[col] = author_summary[col] * 100\n",
    "author_summary['fold_avg'] = author_summary.iloc[:, 2:].mean(axis=1)\n",
    "author_summary['fold_std'] = author_summary.iloc[:, 2:].std(axis=1)\n",
    "author_summary = round(author_summary, 2)\n",
    "author_summary"
   ],
   "metadata": {
    "collapsed": false
   }
  },
  {
   "cell_type": "code",
   "execution_count": 17,
   "outputs": [
    {
     "data": {
      "text/plain": "   num_aspects  original_dataset  fold_1  fold_2  fold_3  fold_4  fold_5  \\\n0            0             83.85   84.11   86.87   88.87   90.10   84.21   \n1            1             14.02   13.99   11.23    9.51    8.56   13.89   \n2            2              1.72    1.43    1.71    1.43    1.05    1.43   \n3            3              0.29    0.19    0.19    0.19    0.19    0.29   \n4            4              0.10    0.19     NaN     NaN    0.10    0.19   \n5            5              0.02    0.10     NaN     NaN     NaN     NaN   \n\n   fold_6  fold_7  fold_8  fold_9  fold_10  fold_avg  fold_std  \n0   81.92   80.59   83.24   81.71    76.86     83.85      3.77  \n1   15.51   16.94   14.57   16.29    19.71     14.02      3.26  \n2    2.28    1.81    1.52    1.81     2.76      1.72      0.47  \n3    0.19    0.57    0.57     NaN     0.48      0.32      0.16  \n4    0.10    0.10    0.10    0.19     0.10      0.13      0.05  \n5     NaN     NaN     NaN     NaN     0.10      0.10      0.00  ",
      "text/html": "<div>\n<style scoped>\n    .dataframe tbody tr th:only-of-type {\n        vertical-align: middle;\n    }\n\n    .dataframe tbody tr th {\n        vertical-align: top;\n    }\n\n    .dataframe thead th {\n        text-align: right;\n    }\n</style>\n<table border=\"1\" class=\"dataframe\">\n  <thead>\n    <tr style=\"text-align: right;\">\n      <th></th>\n      <th>num_aspects</th>\n      <th>original_dataset</th>\n      <th>fold_1</th>\n      <th>fold_2</th>\n      <th>fold_3</th>\n      <th>fold_4</th>\n      <th>fold_5</th>\n      <th>fold_6</th>\n      <th>fold_7</th>\n      <th>fold_8</th>\n      <th>fold_9</th>\n      <th>fold_10</th>\n      <th>fold_avg</th>\n      <th>fold_std</th>\n    </tr>\n  </thead>\n  <tbody>\n    <tr>\n      <th>0</th>\n      <td>0</td>\n      <td>83.85</td>\n      <td>84.11</td>\n      <td>86.87</td>\n      <td>88.87</td>\n      <td>90.10</td>\n      <td>84.21</td>\n      <td>81.92</td>\n      <td>80.59</td>\n      <td>83.24</td>\n      <td>81.71</td>\n      <td>76.86</td>\n      <td>83.85</td>\n      <td>3.77</td>\n    </tr>\n    <tr>\n      <th>1</th>\n      <td>1</td>\n      <td>14.02</td>\n      <td>13.99</td>\n      <td>11.23</td>\n      <td>9.51</td>\n      <td>8.56</td>\n      <td>13.89</td>\n      <td>15.51</td>\n      <td>16.94</td>\n      <td>14.57</td>\n      <td>16.29</td>\n      <td>19.71</td>\n      <td>14.02</td>\n      <td>3.26</td>\n    </tr>\n    <tr>\n      <th>2</th>\n      <td>2</td>\n      <td>1.72</td>\n      <td>1.43</td>\n      <td>1.71</td>\n      <td>1.43</td>\n      <td>1.05</td>\n      <td>1.43</td>\n      <td>2.28</td>\n      <td>1.81</td>\n      <td>1.52</td>\n      <td>1.81</td>\n      <td>2.76</td>\n      <td>1.72</td>\n      <td>0.47</td>\n    </tr>\n    <tr>\n      <th>3</th>\n      <td>3</td>\n      <td>0.29</td>\n      <td>0.19</td>\n      <td>0.19</td>\n      <td>0.19</td>\n      <td>0.19</td>\n      <td>0.29</td>\n      <td>0.19</td>\n      <td>0.57</td>\n      <td>0.57</td>\n      <td>NaN</td>\n      <td>0.48</td>\n      <td>0.32</td>\n      <td>0.16</td>\n    </tr>\n    <tr>\n      <th>4</th>\n      <td>4</td>\n      <td>0.10</td>\n      <td>0.19</td>\n      <td>NaN</td>\n      <td>NaN</td>\n      <td>0.10</td>\n      <td>0.19</td>\n      <td>0.10</td>\n      <td>0.10</td>\n      <td>0.10</td>\n      <td>0.19</td>\n      <td>0.10</td>\n      <td>0.13</td>\n      <td>0.05</td>\n    </tr>\n    <tr>\n      <th>5</th>\n      <td>5</td>\n      <td>0.02</td>\n      <td>0.10</td>\n      <td>NaN</td>\n      <td>NaN</td>\n      <td>NaN</td>\n      <td>NaN</td>\n      <td>NaN</td>\n      <td>NaN</td>\n      <td>NaN</td>\n      <td>NaN</td>\n      <td>0.10</td>\n      <td>0.10</td>\n      <td>0.00</td>\n    </tr>\n  </tbody>\n</table>\n</div>"
     },
     "execution_count": 17,
     "metadata": {},
     "output_type": "execute_result"
    }
   ],
   "source": [
    "# quantidade de registros por número de aspectos na frase\n",
    "for col in num_aspects_summary.iloc[:, 1:].columns:\n",
    "    num_aspects_summary[col] = num_aspects_summary[col] * 100\n",
    "num_aspects_summary['fold_avg'] = num_aspects_summary.iloc[:, 2:].mean(axis=1)\n",
    "num_aspects_summary['fold_std'] = num_aspects_summary.iloc[:, 2:].std(axis=1)\n",
    "num_aspects_summary = round(num_aspects_summary, 2)\n",
    "num_aspects_summary"
   ],
   "metadata": {
    "collapsed": false
   }
  },
  {
   "cell_type": "code",
   "execution_count": 18,
   "outputs": [
    {
     "data": {
      "text/plain": "   has_aspect  original_dataset  fold_1  fold_2  fold_3  fold_4  fold_5  \\\n0           0             83.85   84.11   86.87   88.87    90.1   84.21   \n1           1             16.15   15.89   13.13   11.13     9.9   15.79   \n\n   fold_6  fold_7  fold_8  fold_9  fold_10  fold_avg  fold_std  \n0   81.92   80.59   83.24   81.71    76.86     83.85      3.77  \n1   18.08   19.41   16.76   18.29    23.14     16.15      3.77  ",
      "text/html": "<div>\n<style scoped>\n    .dataframe tbody tr th:only-of-type {\n        vertical-align: middle;\n    }\n\n    .dataframe tbody tr th {\n        vertical-align: top;\n    }\n\n    .dataframe thead th {\n        text-align: right;\n    }\n</style>\n<table border=\"1\" class=\"dataframe\">\n  <thead>\n    <tr style=\"text-align: right;\">\n      <th></th>\n      <th>has_aspect</th>\n      <th>original_dataset</th>\n      <th>fold_1</th>\n      <th>fold_2</th>\n      <th>fold_3</th>\n      <th>fold_4</th>\n      <th>fold_5</th>\n      <th>fold_6</th>\n      <th>fold_7</th>\n      <th>fold_8</th>\n      <th>fold_9</th>\n      <th>fold_10</th>\n      <th>fold_avg</th>\n      <th>fold_std</th>\n    </tr>\n  </thead>\n  <tbody>\n    <tr>\n      <th>0</th>\n      <td>0</td>\n      <td>83.85</td>\n      <td>84.11</td>\n      <td>86.87</td>\n      <td>88.87</td>\n      <td>90.1</td>\n      <td>84.21</td>\n      <td>81.92</td>\n      <td>80.59</td>\n      <td>83.24</td>\n      <td>81.71</td>\n      <td>76.86</td>\n      <td>83.85</td>\n      <td>3.77</td>\n    </tr>\n    <tr>\n      <th>1</th>\n      <td>1</td>\n      <td>16.15</td>\n      <td>15.89</td>\n      <td>13.13</td>\n      <td>11.13</td>\n      <td>9.9</td>\n      <td>15.79</td>\n      <td>18.08</td>\n      <td>19.41</td>\n      <td>16.76</td>\n      <td>18.29</td>\n      <td>23.14</td>\n      <td>16.15</td>\n      <td>3.77</td>\n    </tr>\n  </tbody>\n</table>\n</div>"
     },
     "execution_count": 18,
     "metadata": {},
     "output_type": "execute_result"
    }
   ],
   "source": [
    "# tem ou não aspecto\n",
    "for col in aspects_summary.iloc[:, 1:].columns:\n",
    "    aspects_summary[col] = aspects_summary[col] * 100\n",
    "aspects_summary['fold_avg'] = aspects_summary.iloc[:, 2:].mean(axis=1)\n",
    "aspects_summary['fold_std'] = aspects_summary.iloc[:, 2:].std(axis=1)\n",
    "aspects_summary = round(aspects_summary, 2)\n",
    "aspects_summary"
   ],
   "metadata": {
    "collapsed": false
   }
  }
 ],
 "metadata": {
  "hide_input": false,
  "kernelspec": {
   "display_name": "Python 3 (ipykernel)",
   "language": "python",
   "name": "python3"
  },
  "language_info": {
   "codemirror_mode": {
    "name": "ipython",
    "version": 3
   },
   "file_extension": ".py",
   "mimetype": "text/x-python",
   "name": "python",
   "nbconvert_exporter": "python",
   "pygments_lexer": "ipython3",
   "version": "3.9.7"
  }
 },
 "nbformat": 4,
 "nbformat_minor": 1
}
