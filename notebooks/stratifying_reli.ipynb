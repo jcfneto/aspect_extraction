{
 "cells": [
  {
   "cell_type": "code",
   "execution_count": 1,
   "metadata": {
    "ExecuteTime": {
     "end_time": "2022-12-23T00:26:27.030011Z",
     "start_time": "2022-12-23T00:26:24.759157Z"
    }
   },
   "outputs": [],
   "source": [
    "import pandas as pd\n",
    "\n",
    "from src import utils\n",
    "from src import pre_processing"
   ]
  },
  {
   "cell_type": "code",
   "execution_count": 2,
   "metadata": {
    "ExecuteTime": {
     "end_time": "2022-12-23T00:26:27.896563Z",
     "start_time": "2022-12-23T00:26:27.030950Z"
    }
   },
   "outputs": [
    {
     "data": {
      "text/plain": "                                              tokens  \\\n0  [Um, livro, muito, bom, que, retrata, a, cruel...   \n\n                                         aspect_tags  review author  sentence  \n0  [0, 1, 0, 0, 0, 0, 0, 0, 0, 0, 0, 0, 0, 0, 0, ...       1  amado         1  ",
      "text/html": "<div>\n<style scoped>\n    .dataframe tbody tr th:only-of-type {\n        vertical-align: middle;\n    }\n\n    .dataframe tbody tr th {\n        vertical-align: top;\n    }\n\n    .dataframe thead th {\n        text-align: right;\n    }\n</style>\n<table border=\"1\" class=\"dataframe\">\n  <thead>\n    <tr style=\"text-align: right;\">\n      <th></th>\n      <th>tokens</th>\n      <th>aspect_tags</th>\n      <th>review</th>\n      <th>author</th>\n      <th>sentence</th>\n    </tr>\n  </thead>\n  <tbody>\n    <tr>\n      <th>0</th>\n      <td>[Um, livro, muito, bom, que, retrata, a, cruel...</td>\n      <td>[0, 1, 0, 0, 0, 0, 0, 0, 0, 0, 0, 0, 0, 0, 0, ...</td>\n      <td>1</td>\n      <td>amado</td>\n      <td>1</td>\n    </tr>\n  </tbody>\n</table>\n</div>"
     },
     "execution_count": 2,
     "metadata": {},
     "output_type": "execute_result"
    }
   ],
   "source": [
    "# lendo e pré-processando os dados (json to dataframe)\n",
    "data = pre_processing.pre_processing_reli_dataset('../datasets/reli/')\n",
    "data.head(1)"
   ]
  },
  {
   "cell_type": "code",
   "execution_count": 3,
   "metadata": {
    "ExecuteTime": {
     "end_time": "2022-12-23T00:26:27.905706Z",
     "start_time": "2022-12-23T00:26:27.897966Z"
    }
   },
   "outputs": [
    {
     "data": {
      "text/plain": "                                              tokens  \\\n0  [Um, livro, muito, bom, que, retrata, a, cruel...   \n\n                                         aspect_tags  review author  sentence  \\\n0  [0, 1, 0, 0, 0, 0, 0, 0, 0, 0, 0, 0, 0, 0, 0, ...       1  amado         1   \n\n   total_aspects  \n0              1  ",
      "text/html": "<div>\n<style scoped>\n    .dataframe tbody tr th:only-of-type {\n        vertical-align: middle;\n    }\n\n    .dataframe tbody tr th {\n        vertical-align: top;\n    }\n\n    .dataframe thead th {\n        text-align: right;\n    }\n</style>\n<table border=\"1\" class=\"dataframe\">\n  <thead>\n    <tr style=\"text-align: right;\">\n      <th></th>\n      <th>tokens</th>\n      <th>aspect_tags</th>\n      <th>review</th>\n      <th>author</th>\n      <th>sentence</th>\n      <th>total_aspects</th>\n    </tr>\n  </thead>\n  <tbody>\n    <tr>\n      <th>0</th>\n      <td>[Um, livro, muito, bom, que, retrata, a, cruel...</td>\n      <td>[0, 1, 0, 0, 0, 0, 0, 0, 0, 0, 0, 0, 0, 0, 0, ...</td>\n      <td>1</td>\n      <td>amado</td>\n      <td>1</td>\n      <td>1</td>\n    </tr>\n  </tbody>\n</table>\n</div>"
     },
     "execution_count": 3,
     "metadata": {},
     "output_type": "execute_result"
    }
   ],
   "source": [
    "# contabilizando o número de aspectos por registro\n",
    "data = utils.aspect_counter(data)\n",
    "data.head(1)"
   ]
  },
  {
   "cell_type": "code",
   "execution_count": 4,
   "metadata": {
    "ExecuteTime": {
     "end_time": "2022-12-23T00:26:27.914353Z",
     "start_time": "2022-12-23T00:26:27.907087Z"
    }
   },
   "outputs": [
    {
     "data": {
      "text/plain": "                                              tokens  \\\n0  [Um, livro, muito, bom, que, retrata, a, cruel...   \n\n                                         aspect_tags  review author  sentence  \\\n0  [0, 1, 0, 0, 0, 0, 0, 0, 0, 0, 0, 0, 0, 0, 0, ...       1  amado         1   \n\n   total_aspects  has_aspect  \n0              1           1  ",
      "text/html": "<div>\n<style scoped>\n    .dataframe tbody tr th:only-of-type {\n        vertical-align: middle;\n    }\n\n    .dataframe tbody tr th {\n        vertical-align: top;\n    }\n\n    .dataframe thead th {\n        text-align: right;\n    }\n</style>\n<table border=\"1\" class=\"dataframe\">\n  <thead>\n    <tr style=\"text-align: right;\">\n      <th></th>\n      <th>tokens</th>\n      <th>aspect_tags</th>\n      <th>review</th>\n      <th>author</th>\n      <th>sentence</th>\n      <th>total_aspects</th>\n      <th>has_aspect</th>\n    </tr>\n  </thead>\n  <tbody>\n    <tr>\n      <th>0</th>\n      <td>[Um, livro, muito, bom, que, retrata, a, cruel...</td>\n      <td>[0, 1, 0, 0, 0, 0, 0, 0, 0, 0, 0, 0, 0, 0, 0, ...</td>\n      <td>1</td>\n      <td>amado</td>\n      <td>1</td>\n      <td>1</td>\n      <td>1</td>\n    </tr>\n  </tbody>\n</table>\n</div>"
     },
     "execution_count": 4,
     "metadata": {},
     "output_type": "execute_result"
    }
   ],
   "source": [
    "# definindo se um registro possui aspecto ou não\n",
    "data = utils.has_aspect(data)\n",
    "data.head(1)"
   ]
  },
  {
   "cell_type": "code",
   "execution_count": 5,
   "outputs": [],
   "source": [
    "# contabilizando reviews por author do dataset original\n",
    "reviews_per_author = utils.summary(data, 'author', 'review', 'nunique')\n",
    "reviews_per_author = reviews_per_author.rename(columns={'review': 'dataset_original'})"
   ],
   "metadata": {
    "collapsed": false
   }
  },
  {
   "cell_type": "code",
   "execution_count": 6,
   "outputs": [],
   "source": [
    "# contabilizando o número de aspectos por autor\n",
    "aspects_per_author = utils.summary(data, 'author', 'total_aspects', 'sum')\n",
    "aspects_per_author = aspects_per_author.rename(columns={'total_aspects': 'dataset_original'})"
   ],
   "metadata": {
    "collapsed": false
   }
  },
  {
   "cell_type": "code",
   "execution_count": 7,
   "outputs": [],
   "source": [
    "# contabilizando número de revisões com aspectos\n",
    "reviews_with_aspects = utils.summary(data, 'author', 'has_aspect', 'sum')\n",
    "reviews_with_aspects = reviews_with_aspects.rename(columns={'has_aspect': 'dataset_original'})"
   ],
   "metadata": {
    "collapsed": false
   }
  },
  {
   "cell_type": "code",
   "execution_count": 8,
   "outputs": [],
   "source": [
    "# nome das colunas para estraficacão\n",
    "y = 'has_aspect'\n",
    "X = ['tokens', 'aspect_tags', 'total_aspects', 'has_aspect', 'author', 'sentence']\n",
    "groups = 'review'"
   ],
   "metadata": {
    "collapsed": false
   }
  },
  {
   "cell_type": "code",
   "execution_count": 9,
   "outputs": [],
   "source": [
    "def agg(original_data, fold_data, fold, colname, agg_name):\n",
    "    df = utils.summary(fold_data, 'author', colname, agg_name)\n",
    "    df = df.rename(columns={colname: f'fold_{fold}'})\n",
    "    return original_data.merge(df, how='outer')\n",
    "\n",
    "def test(data, threshold):\n",
    "    return data.groupby(['fold']).agg({'review': 'nunique'}).review.std() <= threshold"
   ],
   "metadata": {
    "collapsed": false
   }
  },
  {
   "cell_type": "code",
   "execution_count": 10,
   "outputs": [],
   "source": [
    "checker = True\n",
    "stritified_data = None\n",
    "while checker:\n",
    "    new_data = utils.stratified_k_fold(data, X, y, groups, k=10)\n",
    "    reviews_per_author_ = reviews_per_author.copy()\n",
    "    aspects_per_author_ = aspects_per_author.copy()\n",
    "    if test(new_data, 3.):\n",
    "        stritified_data = new_data.copy()\n",
    "        checker = False"
   ],
   "metadata": {
    "collapsed": false
   }
  },
  {
   "cell_type": "code",
   "execution_count": 11,
   "outputs": [],
   "source": [
    "# salvando\n",
    "# stritified_data.to_csv('../datasets/processed/reli_stratified.csv', index=False)"
   ],
   "metadata": {
    "collapsed": false
   }
  },
  {
   "cell_type": "code",
   "execution_count": 12,
   "outputs": [],
   "source": [
    "# lendo os dados\n",
    "data = pd.read_csv('../datasets/processed/reli_stratified.csv')"
   ],
   "metadata": {
    "collapsed": false
   }
  },
  {
   "cell_type": "code",
   "execution_count": 13,
   "outputs": [
    {
     "data": {
      "text/plain": "   fold  review\n0     1     145\n1     2     142\n2     3     145\n3     4     141\n4     5     140\n5     6     147\n6     7     147\n7     8     146\n8     9     141\n9    10     141",
      "text/html": "<div>\n<style scoped>\n    .dataframe tbody tr th:only-of-type {\n        vertical-align: middle;\n    }\n\n    .dataframe tbody tr th {\n        vertical-align: top;\n    }\n\n    .dataframe thead th {\n        text-align: right;\n    }\n</style>\n<table border=\"1\" class=\"dataframe\">\n  <thead>\n    <tr style=\"text-align: right;\">\n      <th></th>\n      <th>fold</th>\n      <th>review</th>\n    </tr>\n  </thead>\n  <tbody>\n    <tr>\n      <th>0</th>\n      <td>1</td>\n      <td>145</td>\n    </tr>\n    <tr>\n      <th>1</th>\n      <td>2</td>\n      <td>142</td>\n    </tr>\n    <tr>\n      <th>2</th>\n      <td>3</td>\n      <td>145</td>\n    </tr>\n    <tr>\n      <th>3</th>\n      <td>4</td>\n      <td>141</td>\n    </tr>\n    <tr>\n      <th>4</th>\n      <td>5</td>\n      <td>140</td>\n    </tr>\n    <tr>\n      <th>5</th>\n      <td>6</td>\n      <td>147</td>\n    </tr>\n    <tr>\n      <th>6</th>\n      <td>7</td>\n      <td>147</td>\n    </tr>\n    <tr>\n      <th>7</th>\n      <td>8</td>\n      <td>146</td>\n    </tr>\n    <tr>\n      <th>8</th>\n      <td>9</td>\n      <td>141</td>\n    </tr>\n    <tr>\n      <th>9</th>\n      <td>10</td>\n      <td>141</td>\n    </tr>\n  </tbody>\n</table>\n</div>"
     },
     "execution_count": 13,
     "metadata": {},
     "output_type": "execute_result"
    }
   ],
   "source": [
    "# número de reviews por fold\n",
    "data.groupby(['fold']).agg({'review': 'nunique'}).reset_index()"
   ],
   "metadata": {
    "collapsed": false
   }
  },
  {
   "cell_type": "code",
   "execution_count": 14,
   "outputs": [],
   "source": [
    "# estatísticas do dataset\n",
    "for fold in data.fold.unique():\n",
    "    curr = data[data.fold == fold]\n",
    "    reviews_per_author = agg(reviews_per_author, curr, fold, 'review', 'nunique')\n",
    "    aspects_per_author = agg(aspects_per_author, curr, fold, 'total_aspects', 'sum')\n",
    "    reviews_with_aspects = agg(reviews_with_aspects, curr, fold, 'has_aspect', 'sum')"
   ],
   "metadata": {
    "collapsed": false
   }
  },
  {
   "cell_type": "code",
   "execution_count": 15,
   "outputs": [
    {
     "data": {
      "text/plain": "     author  dataset_original  fold_1  fold_2  fold_3  fold_4  fold_5  fold_6  \\\n0     meyer             24.74   26.90   25.35   26.21   24.82   26.43   22.45   \n1  saramago             17.42   20.69   14.08   17.24   19.86   17.14   17.01   \n2   sheldon             14.36   12.41   16.90   15.17   13.48   13.57   14.97   \n3    orwell             12.82   11.03   15.49   10.34   14.18   12.86   12.24   \n4     amado             12.06   11.03   13.38   15.17   12.06    9.29   12.93   \n5  reboucas              9.76   11.72    9.15    8.97    7.09   12.14   10.20   \n6  salinger              8.85    6.21    5.63    6.90    8.51    8.57   10.20   \n\n   fold_7  fold_8  fold_9  fold_10  fold_avg  fold_std  \n0   25.85   22.60   21.99    24.82     24.74      1.69  \n1   18.37   17.12   17.02    15.60     17.41      1.80  \n2   17.01   13.70   12.06    14.18     14.34      1.60  \n3    9.52   17.12   14.18    11.35     12.83      2.28  \n4   12.24   10.96   12.77    10.64     12.05      1.57  \n5    8.16    6.85    9.93    13.48      9.77      2.07  \n6    8.84   11.64   12.06     9.93      8.85      2.06  ",
      "text/html": "<div>\n<style scoped>\n    .dataframe tbody tr th:only-of-type {\n        vertical-align: middle;\n    }\n\n    .dataframe tbody tr th {\n        vertical-align: top;\n    }\n\n    .dataframe thead th {\n        text-align: right;\n    }\n</style>\n<table border=\"1\" class=\"dataframe\">\n  <thead>\n    <tr style=\"text-align: right;\">\n      <th></th>\n      <th>author</th>\n      <th>dataset_original</th>\n      <th>fold_1</th>\n      <th>fold_2</th>\n      <th>fold_3</th>\n      <th>fold_4</th>\n      <th>fold_5</th>\n      <th>fold_6</th>\n      <th>fold_7</th>\n      <th>fold_8</th>\n      <th>fold_9</th>\n      <th>fold_10</th>\n      <th>fold_avg</th>\n      <th>fold_std</th>\n    </tr>\n  </thead>\n  <tbody>\n    <tr>\n      <th>0</th>\n      <td>meyer</td>\n      <td>24.74</td>\n      <td>26.90</td>\n      <td>25.35</td>\n      <td>26.21</td>\n      <td>24.82</td>\n      <td>26.43</td>\n      <td>22.45</td>\n      <td>25.85</td>\n      <td>22.60</td>\n      <td>21.99</td>\n      <td>24.82</td>\n      <td>24.74</td>\n      <td>1.69</td>\n    </tr>\n    <tr>\n      <th>1</th>\n      <td>saramago</td>\n      <td>17.42</td>\n      <td>20.69</td>\n      <td>14.08</td>\n      <td>17.24</td>\n      <td>19.86</td>\n      <td>17.14</td>\n      <td>17.01</td>\n      <td>18.37</td>\n      <td>17.12</td>\n      <td>17.02</td>\n      <td>15.60</td>\n      <td>17.41</td>\n      <td>1.80</td>\n    </tr>\n    <tr>\n      <th>2</th>\n      <td>sheldon</td>\n      <td>14.36</td>\n      <td>12.41</td>\n      <td>16.90</td>\n      <td>15.17</td>\n      <td>13.48</td>\n      <td>13.57</td>\n      <td>14.97</td>\n      <td>17.01</td>\n      <td>13.70</td>\n      <td>12.06</td>\n      <td>14.18</td>\n      <td>14.34</td>\n      <td>1.60</td>\n    </tr>\n    <tr>\n      <th>3</th>\n      <td>orwell</td>\n      <td>12.82</td>\n      <td>11.03</td>\n      <td>15.49</td>\n      <td>10.34</td>\n      <td>14.18</td>\n      <td>12.86</td>\n      <td>12.24</td>\n      <td>9.52</td>\n      <td>17.12</td>\n      <td>14.18</td>\n      <td>11.35</td>\n      <td>12.83</td>\n      <td>2.28</td>\n    </tr>\n    <tr>\n      <th>4</th>\n      <td>amado</td>\n      <td>12.06</td>\n      <td>11.03</td>\n      <td>13.38</td>\n      <td>15.17</td>\n      <td>12.06</td>\n      <td>9.29</td>\n      <td>12.93</td>\n      <td>12.24</td>\n      <td>10.96</td>\n      <td>12.77</td>\n      <td>10.64</td>\n      <td>12.05</td>\n      <td>1.57</td>\n    </tr>\n    <tr>\n      <th>5</th>\n      <td>reboucas</td>\n      <td>9.76</td>\n      <td>11.72</td>\n      <td>9.15</td>\n      <td>8.97</td>\n      <td>7.09</td>\n      <td>12.14</td>\n      <td>10.20</td>\n      <td>8.16</td>\n      <td>6.85</td>\n      <td>9.93</td>\n      <td>13.48</td>\n      <td>9.77</td>\n      <td>2.07</td>\n    </tr>\n    <tr>\n      <th>6</th>\n      <td>salinger</td>\n      <td>8.85</td>\n      <td>6.21</td>\n      <td>5.63</td>\n      <td>6.90</td>\n      <td>8.51</td>\n      <td>8.57</td>\n      <td>10.20</td>\n      <td>8.84</td>\n      <td>11.64</td>\n      <td>12.06</td>\n      <td>9.93</td>\n      <td>8.85</td>\n      <td>2.06</td>\n    </tr>\n  </tbody>\n</table>\n</div>"
     },
     "execution_count": 15,
     "metadata": {},
     "output_type": "execute_result"
    }
   ],
   "source": [
    "# reviews por author\n",
    "reviews_per_author = utils.fold_summary(reviews_per_author)\n",
    "reviews_per_author"
   ],
   "metadata": {
    "collapsed": false
   }
  },
  {
   "cell_type": "code",
   "execution_count": 16,
   "outputs": [
    {
     "data": {
      "text/plain": "     author  dataset_original  fold_1  fold_2  fold_3  fold_4  fold_5  fold_6  \\\n0     meyer             30.22   38.51   24.02   30.64   36.55   35.58   26.94   \n1   sheldon             18.09    9.32   24.02   17.45   13.20   18.75   17.35   \n2    orwell             13.44   12.42   13.41   10.64   18.27   15.38   17.35   \n3     amado             12.13    8.70   15.08   17.02    8.63   10.10   10.05   \n4  saramago             10.26   16.15    6.70    9.79    8.63    5.29    9.59   \n5  salinger              8.34    8.70    7.82    6.38    5.58    4.33   11.42   \n6  reboucas              7.53    6.21    8.94    8.09    9.14   10.58    7.31   \n\n   fold_7  fold_8  fold_9  fold_10  fold_avg  fold_std  \n0   31.71   23.15   25.89    30.29     30.33      5.08  \n1   25.37   23.65   14.21    16.00     17.93      4.90  \n2    4.88   14.29   15.23    12.57     13.44      3.60  \n3    8.78   12.32   15.74    14.29     12.07      3.07  \n4   12.68   12.32   10.66    12.00     10.38      2.98  \n5    9.27    9.85   10.66     9.71      8.37      2.19  \n6    7.32    4.43    7.61     5.14      7.48      1.77  ",
      "text/html": "<div>\n<style scoped>\n    .dataframe tbody tr th:only-of-type {\n        vertical-align: middle;\n    }\n\n    .dataframe tbody tr th {\n        vertical-align: top;\n    }\n\n    .dataframe thead th {\n        text-align: right;\n    }\n</style>\n<table border=\"1\" class=\"dataframe\">\n  <thead>\n    <tr style=\"text-align: right;\">\n      <th></th>\n      <th>author</th>\n      <th>dataset_original</th>\n      <th>fold_1</th>\n      <th>fold_2</th>\n      <th>fold_3</th>\n      <th>fold_4</th>\n      <th>fold_5</th>\n      <th>fold_6</th>\n      <th>fold_7</th>\n      <th>fold_8</th>\n      <th>fold_9</th>\n      <th>fold_10</th>\n      <th>fold_avg</th>\n      <th>fold_std</th>\n    </tr>\n  </thead>\n  <tbody>\n    <tr>\n      <th>0</th>\n      <td>meyer</td>\n      <td>30.22</td>\n      <td>38.51</td>\n      <td>24.02</td>\n      <td>30.64</td>\n      <td>36.55</td>\n      <td>35.58</td>\n      <td>26.94</td>\n      <td>31.71</td>\n      <td>23.15</td>\n      <td>25.89</td>\n      <td>30.29</td>\n      <td>30.33</td>\n      <td>5.08</td>\n    </tr>\n    <tr>\n      <th>1</th>\n      <td>sheldon</td>\n      <td>18.09</td>\n      <td>9.32</td>\n      <td>24.02</td>\n      <td>17.45</td>\n      <td>13.20</td>\n      <td>18.75</td>\n      <td>17.35</td>\n      <td>25.37</td>\n      <td>23.65</td>\n      <td>14.21</td>\n      <td>16.00</td>\n      <td>17.93</td>\n      <td>4.90</td>\n    </tr>\n    <tr>\n      <th>2</th>\n      <td>orwell</td>\n      <td>13.44</td>\n      <td>12.42</td>\n      <td>13.41</td>\n      <td>10.64</td>\n      <td>18.27</td>\n      <td>15.38</td>\n      <td>17.35</td>\n      <td>4.88</td>\n      <td>14.29</td>\n      <td>15.23</td>\n      <td>12.57</td>\n      <td>13.44</td>\n      <td>3.60</td>\n    </tr>\n    <tr>\n      <th>3</th>\n      <td>amado</td>\n      <td>12.13</td>\n      <td>8.70</td>\n      <td>15.08</td>\n      <td>17.02</td>\n      <td>8.63</td>\n      <td>10.10</td>\n      <td>10.05</td>\n      <td>8.78</td>\n      <td>12.32</td>\n      <td>15.74</td>\n      <td>14.29</td>\n      <td>12.07</td>\n      <td>3.07</td>\n    </tr>\n    <tr>\n      <th>4</th>\n      <td>saramago</td>\n      <td>10.26</td>\n      <td>16.15</td>\n      <td>6.70</td>\n      <td>9.79</td>\n      <td>8.63</td>\n      <td>5.29</td>\n      <td>9.59</td>\n      <td>12.68</td>\n      <td>12.32</td>\n      <td>10.66</td>\n      <td>12.00</td>\n      <td>10.38</td>\n      <td>2.98</td>\n    </tr>\n    <tr>\n      <th>5</th>\n      <td>salinger</td>\n      <td>8.34</td>\n      <td>8.70</td>\n      <td>7.82</td>\n      <td>6.38</td>\n      <td>5.58</td>\n      <td>4.33</td>\n      <td>11.42</td>\n      <td>9.27</td>\n      <td>9.85</td>\n      <td>10.66</td>\n      <td>9.71</td>\n      <td>8.37</td>\n      <td>2.19</td>\n    </tr>\n    <tr>\n      <th>6</th>\n      <td>reboucas</td>\n      <td>7.53</td>\n      <td>6.21</td>\n      <td>8.94</td>\n      <td>8.09</td>\n      <td>9.14</td>\n      <td>10.58</td>\n      <td>7.31</td>\n      <td>7.32</td>\n      <td>4.43</td>\n      <td>7.61</td>\n      <td>5.14</td>\n      <td>7.48</td>\n      <td>1.77</td>\n    </tr>\n  </tbody>\n</table>\n</div>"
     },
     "execution_count": 16,
     "metadata": {},
     "output_type": "execute_result"
    }
   ],
   "source": [
    "# número de aspectos por autor\n",
    "aspects_per_author = utils.fold_summary(aspects_per_author)\n",
    "aspects_per_author"
   ],
   "metadata": {
    "collapsed": false
   }
  },
  {
   "cell_type": "code",
   "execution_count": 18,
   "outputs": [
    {
     "data": {
      "text/plain": "     author  dataset_original  fold_1  fold_2  fold_3  fold_4  fold_5  fold_6  \\\n0     meyer             29.05   38.57   24.53   29.85   35.50   35.06   25.13   \n1   sheldon             17.38    9.29   23.27   17.41   13.02   14.94   17.95   \n2    orwell             14.38   14.29   15.09   12.44   17.16   15.52   17.44   \n3     amado             12.02    8.57   13.84   14.93   10.06   12.07   10.26   \n4  saramago             10.61   15.00    7.55    9.45    8.88    5.75   10.77   \n5  salinger              8.49    7.14    7.55    7.46    6.51    4.60   10.77   \n6  reboucas              8.07    7.14    8.18    8.46    8.88   12.07    7.69   \n\n   fold_7  fold_8  fold_9  fold_10  fold_avg  fold_std  \n0   27.54   21.71   25.00    29.66     29.26      5.27  \n1   25.75   21.71   13.37    15.86     17.26      4.82  \n2    5.99   16.00   16.28    13.10     14.33      3.18  \n3    8.98   13.14   14.53    13.10     11.95      2.20  \n4   13.17   12.57   11.05    13.10     10.73      2.71  \n5   10.18    9.71   11.63     8.97      8.45      2.06  \n6    8.38    5.14    8.14     6.21      8.03      1.73  ",
      "text/html": "<div>\n<style scoped>\n    .dataframe tbody tr th:only-of-type {\n        vertical-align: middle;\n    }\n\n    .dataframe tbody tr th {\n        vertical-align: top;\n    }\n\n    .dataframe thead th {\n        text-align: right;\n    }\n</style>\n<table border=\"1\" class=\"dataframe\">\n  <thead>\n    <tr style=\"text-align: right;\">\n      <th></th>\n      <th>author</th>\n      <th>dataset_original</th>\n      <th>fold_1</th>\n      <th>fold_2</th>\n      <th>fold_3</th>\n      <th>fold_4</th>\n      <th>fold_5</th>\n      <th>fold_6</th>\n      <th>fold_7</th>\n      <th>fold_8</th>\n      <th>fold_9</th>\n      <th>fold_10</th>\n      <th>fold_avg</th>\n      <th>fold_std</th>\n    </tr>\n  </thead>\n  <tbody>\n    <tr>\n      <th>0</th>\n      <td>meyer</td>\n      <td>29.05</td>\n      <td>38.57</td>\n      <td>24.53</td>\n      <td>29.85</td>\n      <td>35.50</td>\n      <td>35.06</td>\n      <td>25.13</td>\n      <td>27.54</td>\n      <td>21.71</td>\n      <td>25.00</td>\n      <td>29.66</td>\n      <td>29.26</td>\n      <td>5.27</td>\n    </tr>\n    <tr>\n      <th>1</th>\n      <td>sheldon</td>\n      <td>17.38</td>\n      <td>9.29</td>\n      <td>23.27</td>\n      <td>17.41</td>\n      <td>13.02</td>\n      <td>14.94</td>\n      <td>17.95</td>\n      <td>25.75</td>\n      <td>21.71</td>\n      <td>13.37</td>\n      <td>15.86</td>\n      <td>17.26</td>\n      <td>4.82</td>\n    </tr>\n    <tr>\n      <th>2</th>\n      <td>orwell</td>\n      <td>14.38</td>\n      <td>14.29</td>\n      <td>15.09</td>\n      <td>12.44</td>\n      <td>17.16</td>\n      <td>15.52</td>\n      <td>17.44</td>\n      <td>5.99</td>\n      <td>16.00</td>\n      <td>16.28</td>\n      <td>13.10</td>\n      <td>14.33</td>\n      <td>3.18</td>\n    </tr>\n    <tr>\n      <th>3</th>\n      <td>amado</td>\n      <td>12.02</td>\n      <td>8.57</td>\n      <td>13.84</td>\n      <td>14.93</td>\n      <td>10.06</td>\n      <td>12.07</td>\n      <td>10.26</td>\n      <td>8.98</td>\n      <td>13.14</td>\n      <td>14.53</td>\n      <td>13.10</td>\n      <td>11.95</td>\n      <td>2.20</td>\n    </tr>\n    <tr>\n      <th>4</th>\n      <td>saramago</td>\n      <td>10.61</td>\n      <td>15.00</td>\n      <td>7.55</td>\n      <td>9.45</td>\n      <td>8.88</td>\n      <td>5.75</td>\n      <td>10.77</td>\n      <td>13.17</td>\n      <td>12.57</td>\n      <td>11.05</td>\n      <td>13.10</td>\n      <td>10.73</td>\n      <td>2.71</td>\n    </tr>\n    <tr>\n      <th>5</th>\n      <td>salinger</td>\n      <td>8.49</td>\n      <td>7.14</td>\n      <td>7.55</td>\n      <td>7.46</td>\n      <td>6.51</td>\n      <td>4.60</td>\n      <td>10.77</td>\n      <td>10.18</td>\n      <td>9.71</td>\n      <td>11.63</td>\n      <td>8.97</td>\n      <td>8.45</td>\n      <td>2.06</td>\n    </tr>\n    <tr>\n      <th>6</th>\n      <td>reboucas</td>\n      <td>8.07</td>\n      <td>7.14</td>\n      <td>8.18</td>\n      <td>8.46</td>\n      <td>8.88</td>\n      <td>12.07</td>\n      <td>7.69</td>\n      <td>8.38</td>\n      <td>5.14</td>\n      <td>8.14</td>\n      <td>6.21</td>\n      <td>8.03</td>\n      <td>1.73</td>\n    </tr>\n  </tbody>\n</table>\n</div>"
     },
     "execution_count": 18,
     "metadata": {},
     "output_type": "execute_result"
    }
   ],
   "source": [
    "# número de reviews com aspecto por autor\n",
    "reviews_with_aspects = utils.fold_summary(reviews_with_aspects)\n",
    "reviews_with_aspects"
   ],
   "metadata": {
    "collapsed": false
   }
  }
 ],
 "metadata": {
  "hide_input": false,
  "kernelspec": {
   "display_name": "Python 3 (ipykernel)",
   "language": "python",
   "name": "python3"
  },
  "language_info": {
   "codemirror_mode": {
    "name": "ipython",
    "version": 3
   },
   "file_extension": ".py",
   "mimetype": "text/x-python",
   "name": "python",
   "nbconvert_exporter": "python",
   "pygments_lexer": "ipython3",
   "version": "3.9.7"
  }
 },
 "nbformat": 4,
 "nbformat_minor": 1
}
