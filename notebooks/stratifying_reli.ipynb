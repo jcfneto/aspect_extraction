{
 "cells": [
  {
   "cell_type": "code",
   "execution_count": 1,
   "metadata": {
    "ExecuteTime": {
     "end_time": "2022-12-23T00:26:27.030011Z",
     "start_time": "2022-12-23T00:26:24.759157Z"
    }
   },
   "outputs": [],
   "source": [
    "import pandas as pd\n",
    "\n",
    "from src import utils\n",
    "from src import pre_processing"
   ]
  },
  {
   "cell_type": "code",
   "execution_count": 2,
   "metadata": {
    "ExecuteTime": {
     "end_time": "2022-12-23T00:26:27.896563Z",
     "start_time": "2022-12-23T00:26:27.030950Z"
    }
   },
   "outputs": [
    {
     "data": {
      "text/plain": "                                              tokens  \\\n0  [Um, livro, muito, bom, que, retrata, a, cruel...   \n\n                                         aspect_tags  review author  sentence  \n0  [0, 1, 0, 0, 0, 0, 0, 0, 0, 0, 0, 0, 0, 0, 0, ...       1  amado         1  ",
      "text/html": "<div>\n<style scoped>\n    .dataframe tbody tr th:only-of-type {\n        vertical-align: middle;\n    }\n\n    .dataframe tbody tr th {\n        vertical-align: top;\n    }\n\n    .dataframe thead th {\n        text-align: right;\n    }\n</style>\n<table border=\"1\" class=\"dataframe\">\n  <thead>\n    <tr style=\"text-align: right;\">\n      <th></th>\n      <th>tokens</th>\n      <th>aspect_tags</th>\n      <th>review</th>\n      <th>author</th>\n      <th>sentence</th>\n    </tr>\n  </thead>\n  <tbody>\n    <tr>\n      <th>0</th>\n      <td>[Um, livro, muito, bom, que, retrata, a, cruel...</td>\n      <td>[0, 1, 0, 0, 0, 0, 0, 0, 0, 0, 0, 0, 0, 0, 0, ...</td>\n      <td>1</td>\n      <td>amado</td>\n      <td>1</td>\n    </tr>\n  </tbody>\n</table>\n</div>"
     },
     "execution_count": 2,
     "metadata": {},
     "output_type": "execute_result"
    }
   ],
   "source": [
    "# lendo e pré-processando os dados (json to dataframe)\n",
    "data = pre_processing.pre_processing_reli_dataset('../datasets/reli/')\n",
    "data.head(1)"
   ]
  },
  {
   "cell_type": "code",
   "execution_count": 3,
   "metadata": {
    "ExecuteTime": {
     "end_time": "2022-12-23T00:26:27.905706Z",
     "start_time": "2022-12-23T00:26:27.897966Z"
    }
   },
   "outputs": [
    {
     "data": {
      "text/plain": "                                              tokens  \\\n0  [Um, livro, muito, bom, que, retrata, a, cruel...   \n\n                                         aspect_tags  review author  sentence  \\\n0  [0, 1, 0, 0, 0, 0, 0, 0, 0, 0, 0, 0, 0, 0, 0, ...       1  amado         1   \n\n   total_aspects  \n0              1  ",
      "text/html": "<div>\n<style scoped>\n    .dataframe tbody tr th:only-of-type {\n        vertical-align: middle;\n    }\n\n    .dataframe tbody tr th {\n        vertical-align: top;\n    }\n\n    .dataframe thead th {\n        text-align: right;\n    }\n</style>\n<table border=\"1\" class=\"dataframe\">\n  <thead>\n    <tr style=\"text-align: right;\">\n      <th></th>\n      <th>tokens</th>\n      <th>aspect_tags</th>\n      <th>review</th>\n      <th>author</th>\n      <th>sentence</th>\n      <th>total_aspects</th>\n    </tr>\n  </thead>\n  <tbody>\n    <tr>\n      <th>0</th>\n      <td>[Um, livro, muito, bom, que, retrata, a, cruel...</td>\n      <td>[0, 1, 0, 0, 0, 0, 0, 0, 0, 0, 0, 0, 0, 0, 0, ...</td>\n      <td>1</td>\n      <td>amado</td>\n      <td>1</td>\n      <td>1</td>\n    </tr>\n  </tbody>\n</table>\n</div>"
     },
     "execution_count": 3,
     "metadata": {},
     "output_type": "execute_result"
    }
   ],
   "source": [
    "# contabilizando o número de aspectos por registro\n",
    "data = utils.aspect_counter(data)\n",
    "data.head(1)"
   ]
  },
  {
   "cell_type": "code",
   "execution_count": 4,
   "metadata": {
    "ExecuteTime": {
     "end_time": "2022-12-23T00:26:27.914353Z",
     "start_time": "2022-12-23T00:26:27.907087Z"
    }
   },
   "outputs": [
    {
     "data": {
      "text/plain": "                                              tokens  \\\n0  [Um, livro, muito, bom, que, retrata, a, cruel...   \n\n                                         aspect_tags  review author  sentence  \\\n0  [0, 1, 0, 0, 0, 0, 0, 0, 0, 0, 0, 0, 0, 0, 0, ...       1  amado         1   \n\n   total_aspects  has_aspect  \n0              1           1  ",
      "text/html": "<div>\n<style scoped>\n    .dataframe tbody tr th:only-of-type {\n        vertical-align: middle;\n    }\n\n    .dataframe tbody tr th {\n        vertical-align: top;\n    }\n\n    .dataframe thead th {\n        text-align: right;\n    }\n</style>\n<table border=\"1\" class=\"dataframe\">\n  <thead>\n    <tr style=\"text-align: right;\">\n      <th></th>\n      <th>tokens</th>\n      <th>aspect_tags</th>\n      <th>review</th>\n      <th>author</th>\n      <th>sentence</th>\n      <th>total_aspects</th>\n      <th>has_aspect</th>\n    </tr>\n  </thead>\n  <tbody>\n    <tr>\n      <th>0</th>\n      <td>[Um, livro, muito, bom, que, retrata, a, cruel...</td>\n      <td>[0, 1, 0, 0, 0, 0, 0, 0, 0, 0, 0, 0, 0, 0, 0, ...</td>\n      <td>1</td>\n      <td>amado</td>\n      <td>1</td>\n      <td>1</td>\n      <td>1</td>\n    </tr>\n  </tbody>\n</table>\n</div>"
     },
     "execution_count": 4,
     "metadata": {},
     "output_type": "execute_result"
    }
   ],
   "source": [
    "# definindo se um registro possui aspecto ou não\n",
    "data = utils.has_aspect(data)\n",
    "data.head(1)"
   ]
  },
  {
   "cell_type": "code",
   "execution_count": 5,
   "outputs": [],
   "source": [
    "# contabilizando reviews por author do dataset original\n",
    "reviews_per_author = utils.summary(data, 'author', 'review', 'nunique')\n",
    "reviews_per_author = reviews_per_author.rename(columns={'review': 'dataset_original'})"
   ],
   "metadata": {
    "collapsed": false
   }
  },
  {
   "cell_type": "code",
   "execution_count": 6,
   "outputs": [],
   "source": [
    "# contabilizando o número de aspectos por autor\n",
    "aspects_per_author = utils.summary(data, 'author', 'total_aspects', 'sum')\n",
    "aspects_per_author = aspects_per_author.rename(columns={'total_aspects': 'dataset_original'})"
   ],
   "metadata": {
    "collapsed": false
   }
  },
  {
   "cell_type": "code",
   "execution_count": 7,
   "outputs": [],
   "source": [
    "# contabilizando número de revisões com aspectos\n",
    "reviews_with_aspects = utils.summary(data, 'author', 'has_aspect', 'sum')\n",
    "reviews_with_aspects = reviews_with_aspects.rename(columns={'has_aspect': 'dataset_original'})"
   ],
   "metadata": {
    "collapsed": false
   }
  },
  {
   "cell_type": "code",
   "execution_count": 8,
   "outputs": [],
   "source": [
    "# nome das colunas para estraficacão\n",
    "y = 'has_aspect'\n",
    "X = ['tokens', 'aspect_tags', 'total_aspects', 'has_aspect', 'author', 'sentence']\n",
    "groups = 'review'"
   ],
   "metadata": {
    "collapsed": false
   }
  },
  {
   "cell_type": "code",
   "execution_count": 9,
   "outputs": [],
   "source": [
    "def agg(original_data, fold_data, fold, colname, agg_name):\n",
    "    df = utils.summary(fold_data, 'author', colname, agg_name)\n",
    "    df = df.rename(columns={colname: f'fold_{fold}'})\n",
    "    return original_data.merge(df, how='outer')\n",
    "\n",
    "def test(data, threshold):\n",
    "    return data.groupby(['fold']).agg({'review': 'nunique'}).review.std() <= threshold"
   ],
   "metadata": {
    "collapsed": false
   }
  },
  {
   "cell_type": "code",
   "execution_count": null,
   "outputs": [],
   "source": [
    "checker = True\n",
    "stritified_data = None\n",
    "while checker:\n",
    "    new_data = utils.stratified_k_fold(data, X, y, groups, k=10)\n",
    "    reviews_per_author_ = reviews_per_author.copy()\n",
    "    aspects_per_author_ = aspects_per_author.copy()\n",
    "    if test(new_data, 3.):\n",
    "        stritified_data = new_data.copy()\n",
    "        checker = False"
   ],
   "metadata": {
    "collapsed": false
   }
  },
  {
   "cell_type": "code",
   "execution_count": null,
   "outputs": [],
   "source": [
    "# salvando\n",
    "# stritified_data.to_csv('../datasets/processed/reli_stratified.csv', index=False)"
   ],
   "metadata": {
    "collapsed": false
   }
  },
  {
   "cell_type": "code",
   "execution_count": 10,
   "outputs": [],
   "source": [
    "# lendo os dados\n",
    "data = pd.read_csv('../datasets/processed/reli_stratified.csv')"
   ],
   "metadata": {
    "collapsed": false
   }
  },
  {
   "cell_type": "code",
   "execution_count": 11,
   "outputs": [
    {
     "data": {
      "text/plain": "   fold  review\n0     1     145\n1     2     142\n2     3     145\n3     4     141\n4     5     140\n5     6     147\n6     7     147\n7     8     146\n8     9     141\n9    10     141",
      "text/html": "<div>\n<style scoped>\n    .dataframe tbody tr th:only-of-type {\n        vertical-align: middle;\n    }\n\n    .dataframe tbody tr th {\n        vertical-align: top;\n    }\n\n    .dataframe thead th {\n        text-align: right;\n    }\n</style>\n<table border=\"1\" class=\"dataframe\">\n  <thead>\n    <tr style=\"text-align: right;\">\n      <th></th>\n      <th>fold</th>\n      <th>review</th>\n    </tr>\n  </thead>\n  <tbody>\n    <tr>\n      <th>0</th>\n      <td>1</td>\n      <td>145</td>\n    </tr>\n    <tr>\n      <th>1</th>\n      <td>2</td>\n      <td>142</td>\n    </tr>\n    <tr>\n      <th>2</th>\n      <td>3</td>\n      <td>145</td>\n    </tr>\n    <tr>\n      <th>3</th>\n      <td>4</td>\n      <td>141</td>\n    </tr>\n    <tr>\n      <th>4</th>\n      <td>5</td>\n      <td>140</td>\n    </tr>\n    <tr>\n      <th>5</th>\n      <td>6</td>\n      <td>147</td>\n    </tr>\n    <tr>\n      <th>6</th>\n      <td>7</td>\n      <td>147</td>\n    </tr>\n    <tr>\n      <th>7</th>\n      <td>8</td>\n      <td>146</td>\n    </tr>\n    <tr>\n      <th>8</th>\n      <td>9</td>\n      <td>141</td>\n    </tr>\n    <tr>\n      <th>9</th>\n      <td>10</td>\n      <td>141</td>\n    </tr>\n  </tbody>\n</table>\n</div>"
     },
     "execution_count": 11,
     "metadata": {},
     "output_type": "execute_result"
    }
   ],
   "source": [
    "# número de reviews por fold\n",
    "data.groupby(['fold']).agg({'review': 'nunique'}).reset_index()"
   ],
   "metadata": {
    "collapsed": false
   }
  },
  {
   "cell_type": "code",
   "execution_count": 12,
   "outputs": [],
   "source": [
    "# estatísticas do dataset\n",
    "for fold in data.fold.unique():\n",
    "    curr = data[data.fold == fold]\n",
    "    reviews_per_author = agg(reviews_per_author, curr, fold, 'review', 'nunique')\n",
    "    aspects_per_author = agg(aspects_per_author, curr, fold, 'total_aspects', 'sum')\n",
    "    reviews_with_aspects = agg(reviews_with_aspects, curr, fold, 'has_aspect', 'sum')"
   ],
   "metadata": {
    "collapsed": false
   }
  },
  {
   "cell_type": "code",
   "execution_count": 13,
   "outputs": [
    {
     "data": {
      "text/plain": "     author  dataset_original  fold_1  fold_2  fold_3  fold_4  fold_5  fold_6  \\\n0     meyer               355      39      36      38      35      37      33   \n1  saramago               250      30      20      25      28      24      25   \n2   sheldon               206      18      24      22      19      19      22   \n3    orwell               184      16      22      15      20      18      18   \n4     amado               173      16      19      22      17      13      19   \n5  reboucas               140      17      13      13      10      17      15   \n6  salinger               127       9       8      10      12      12      15   \n7     total              1435     145     142     145     141     140     147   \n\n   fold_7  fold_8  fold_9  fold_10  fold_avg  fold_std  \n0      38      33      31       35      35.5       2.5  \n1      27      25      24       22      25.0       2.7  \n2      25      20      17       20      20.6       2.5  \n3      14      25      20       16      18.4       3.2  \n4      18      16      18       15      17.3       2.4  \n5      12      10      14       19      14.0       2.9  \n6      13      17      17       14      12.7       3.0  \n7     147     146     141      141     143.5       2.6  ",
      "text/html": "<div>\n<style scoped>\n    .dataframe tbody tr th:only-of-type {\n        vertical-align: middle;\n    }\n\n    .dataframe tbody tr th {\n        vertical-align: top;\n    }\n\n    .dataframe thead th {\n        text-align: right;\n    }\n</style>\n<table border=\"1\" class=\"dataframe\">\n  <thead>\n    <tr style=\"text-align: right;\">\n      <th></th>\n      <th>author</th>\n      <th>dataset_original</th>\n      <th>fold_1</th>\n      <th>fold_2</th>\n      <th>fold_3</th>\n      <th>fold_4</th>\n      <th>fold_5</th>\n      <th>fold_6</th>\n      <th>fold_7</th>\n      <th>fold_8</th>\n      <th>fold_9</th>\n      <th>fold_10</th>\n      <th>fold_avg</th>\n      <th>fold_std</th>\n    </tr>\n  </thead>\n  <tbody>\n    <tr>\n      <th>0</th>\n      <td>meyer</td>\n      <td>355</td>\n      <td>39</td>\n      <td>36</td>\n      <td>38</td>\n      <td>35</td>\n      <td>37</td>\n      <td>33</td>\n      <td>38</td>\n      <td>33</td>\n      <td>31</td>\n      <td>35</td>\n      <td>35.5</td>\n      <td>2.5</td>\n    </tr>\n    <tr>\n      <th>1</th>\n      <td>saramago</td>\n      <td>250</td>\n      <td>30</td>\n      <td>20</td>\n      <td>25</td>\n      <td>28</td>\n      <td>24</td>\n      <td>25</td>\n      <td>27</td>\n      <td>25</td>\n      <td>24</td>\n      <td>22</td>\n      <td>25.0</td>\n      <td>2.7</td>\n    </tr>\n    <tr>\n      <th>2</th>\n      <td>sheldon</td>\n      <td>206</td>\n      <td>18</td>\n      <td>24</td>\n      <td>22</td>\n      <td>19</td>\n      <td>19</td>\n      <td>22</td>\n      <td>25</td>\n      <td>20</td>\n      <td>17</td>\n      <td>20</td>\n      <td>20.6</td>\n      <td>2.5</td>\n    </tr>\n    <tr>\n      <th>3</th>\n      <td>orwell</td>\n      <td>184</td>\n      <td>16</td>\n      <td>22</td>\n      <td>15</td>\n      <td>20</td>\n      <td>18</td>\n      <td>18</td>\n      <td>14</td>\n      <td>25</td>\n      <td>20</td>\n      <td>16</td>\n      <td>18.4</td>\n      <td>3.2</td>\n    </tr>\n    <tr>\n      <th>4</th>\n      <td>amado</td>\n      <td>173</td>\n      <td>16</td>\n      <td>19</td>\n      <td>22</td>\n      <td>17</td>\n      <td>13</td>\n      <td>19</td>\n      <td>18</td>\n      <td>16</td>\n      <td>18</td>\n      <td>15</td>\n      <td>17.3</td>\n      <td>2.4</td>\n    </tr>\n    <tr>\n      <th>5</th>\n      <td>reboucas</td>\n      <td>140</td>\n      <td>17</td>\n      <td>13</td>\n      <td>13</td>\n      <td>10</td>\n      <td>17</td>\n      <td>15</td>\n      <td>12</td>\n      <td>10</td>\n      <td>14</td>\n      <td>19</td>\n      <td>14.0</td>\n      <td>2.9</td>\n    </tr>\n    <tr>\n      <th>6</th>\n      <td>salinger</td>\n      <td>127</td>\n      <td>9</td>\n      <td>8</td>\n      <td>10</td>\n      <td>12</td>\n      <td>12</td>\n      <td>15</td>\n      <td>13</td>\n      <td>17</td>\n      <td>17</td>\n      <td>14</td>\n      <td>12.7</td>\n      <td>3.0</td>\n    </tr>\n    <tr>\n      <th>7</th>\n      <td>total</td>\n      <td>1435</td>\n      <td>145</td>\n      <td>142</td>\n      <td>145</td>\n      <td>141</td>\n      <td>140</td>\n      <td>147</td>\n      <td>147</td>\n      <td>146</td>\n      <td>141</td>\n      <td>141</td>\n      <td>143.5</td>\n      <td>2.6</td>\n    </tr>\n  </tbody>\n</table>\n</div>"
     },
     "execution_count": 13,
     "metadata": {},
     "output_type": "execute_result"
    }
   ],
   "source": [
    "# reviews por author\n",
    "reviews_per_author = utils.fold_summary(reviews_per_author)\n",
    "reviews_per_author"
   ],
   "metadata": {
    "collapsed": false
   }
  },
  {
   "cell_type": "code",
   "execution_count": 14,
   "outputs": [
    {
     "data": {
      "text/plain": "     author  dataset_original  fold_1  fold_2  fold_3  fold_4  fold_5  fold_6  \\\n0     meyer               598      62      43      72      72      74      59   \n1   sheldon               358      15      43      41      26      39      38   \n2    orwell               266      20      24      25      36      32      38   \n3     amado               240      14      27      40      17      21      22   \n4  saramago               203      26      12      23      17      11      21   \n5  salinger               165      14      14      15      11       9      25   \n6  reboucas               149      10      16      19      18      22      16   \n7     total              1979     161     179     235     197     208     219   \n\n   fold_7  fold_8  fold_9  fold_10  fold_avg  fold_std  \n0      65      47      51       53      59.8      10.5  \n1      52      48      28       28      35.8      10.7  \n2      10      29      30       22      26.6       7.8  \n3      18      25      31       25      24.0       7.2  \n4      26      25      21       21      20.3       5.1  \n5      19      20      21       17      16.5       4.6  \n6      15       9      15        9      14.9       4.2  \n7     205     203     197      175     197.9      20.6  ",
      "text/html": "<div>\n<style scoped>\n    .dataframe tbody tr th:only-of-type {\n        vertical-align: middle;\n    }\n\n    .dataframe tbody tr th {\n        vertical-align: top;\n    }\n\n    .dataframe thead th {\n        text-align: right;\n    }\n</style>\n<table border=\"1\" class=\"dataframe\">\n  <thead>\n    <tr style=\"text-align: right;\">\n      <th></th>\n      <th>author</th>\n      <th>dataset_original</th>\n      <th>fold_1</th>\n      <th>fold_2</th>\n      <th>fold_3</th>\n      <th>fold_4</th>\n      <th>fold_5</th>\n      <th>fold_6</th>\n      <th>fold_7</th>\n      <th>fold_8</th>\n      <th>fold_9</th>\n      <th>fold_10</th>\n      <th>fold_avg</th>\n      <th>fold_std</th>\n    </tr>\n  </thead>\n  <tbody>\n    <tr>\n      <th>0</th>\n      <td>meyer</td>\n      <td>598</td>\n      <td>62</td>\n      <td>43</td>\n      <td>72</td>\n      <td>72</td>\n      <td>74</td>\n      <td>59</td>\n      <td>65</td>\n      <td>47</td>\n      <td>51</td>\n      <td>53</td>\n      <td>59.8</td>\n      <td>10.5</td>\n    </tr>\n    <tr>\n      <th>1</th>\n      <td>sheldon</td>\n      <td>358</td>\n      <td>15</td>\n      <td>43</td>\n      <td>41</td>\n      <td>26</td>\n      <td>39</td>\n      <td>38</td>\n      <td>52</td>\n      <td>48</td>\n      <td>28</td>\n      <td>28</td>\n      <td>35.8</td>\n      <td>10.7</td>\n    </tr>\n    <tr>\n      <th>2</th>\n      <td>orwell</td>\n      <td>266</td>\n      <td>20</td>\n      <td>24</td>\n      <td>25</td>\n      <td>36</td>\n      <td>32</td>\n      <td>38</td>\n      <td>10</td>\n      <td>29</td>\n      <td>30</td>\n      <td>22</td>\n      <td>26.6</td>\n      <td>7.8</td>\n    </tr>\n    <tr>\n      <th>3</th>\n      <td>amado</td>\n      <td>240</td>\n      <td>14</td>\n      <td>27</td>\n      <td>40</td>\n      <td>17</td>\n      <td>21</td>\n      <td>22</td>\n      <td>18</td>\n      <td>25</td>\n      <td>31</td>\n      <td>25</td>\n      <td>24.0</td>\n      <td>7.2</td>\n    </tr>\n    <tr>\n      <th>4</th>\n      <td>saramago</td>\n      <td>203</td>\n      <td>26</td>\n      <td>12</td>\n      <td>23</td>\n      <td>17</td>\n      <td>11</td>\n      <td>21</td>\n      <td>26</td>\n      <td>25</td>\n      <td>21</td>\n      <td>21</td>\n      <td>20.3</td>\n      <td>5.1</td>\n    </tr>\n    <tr>\n      <th>5</th>\n      <td>salinger</td>\n      <td>165</td>\n      <td>14</td>\n      <td>14</td>\n      <td>15</td>\n      <td>11</td>\n      <td>9</td>\n      <td>25</td>\n      <td>19</td>\n      <td>20</td>\n      <td>21</td>\n      <td>17</td>\n      <td>16.5</td>\n      <td>4.6</td>\n    </tr>\n    <tr>\n      <th>6</th>\n      <td>reboucas</td>\n      <td>149</td>\n      <td>10</td>\n      <td>16</td>\n      <td>19</td>\n      <td>18</td>\n      <td>22</td>\n      <td>16</td>\n      <td>15</td>\n      <td>9</td>\n      <td>15</td>\n      <td>9</td>\n      <td>14.9</td>\n      <td>4.2</td>\n    </tr>\n    <tr>\n      <th>7</th>\n      <td>total</td>\n      <td>1979</td>\n      <td>161</td>\n      <td>179</td>\n      <td>235</td>\n      <td>197</td>\n      <td>208</td>\n      <td>219</td>\n      <td>205</td>\n      <td>203</td>\n      <td>197</td>\n      <td>175</td>\n      <td>197.9</td>\n      <td>20.6</td>\n    </tr>\n  </tbody>\n</table>\n</div>"
     },
     "execution_count": 14,
     "metadata": {},
     "output_type": "execute_result"
    }
   ],
   "source": [
    "# número de aspectos por autor\n",
    "aspects_per_author = utils.fold_summary(aspects_per_author)\n",
    "aspects_per_author"
   ],
   "metadata": {
    "collapsed": false
   }
  },
  {
   "cell_type": "code",
   "execution_count": 15,
   "outputs": [
    {
     "data": {
      "text/plain": "     author  dataset_original  fold_1  fold_2  fold_3  fold_4  fold_5  fold_6  \\\n0     meyer               493      54      39      60      60      61      49   \n1   sheldon               295      13      37      35      22      26      35   \n2    orwell               244      20      24      25      29      27      34   \n3     amado               204      12      22      30      17      21      20   \n4  saramago               180      21      12      19      15      10      21   \n5  salinger               144      10      12      15      11       8      21   \n6  reboucas               137      10      13      17      15      21      15   \n7     total              1697     140     159     201     169     174     195   \n\n   fold_7  fold_8  fold_9  fold_10  fold_avg  fold_std  \n0      46      38      43       43      49.3       8.4  \n1      43      38      23       23      29.5       8.9  \n2      10      28      28       19      24.4       6.3  \n3      15      23      25       19      20.4       4.9  \n4      22      22      19       19      18.0       4.0  \n5      17      17      20       13      14.4       4.1  \n6      14       9      14        9      13.7       3.6  \n7     167     175     172      145     169.7      18.1  ",
      "text/html": "<div>\n<style scoped>\n    .dataframe tbody tr th:only-of-type {\n        vertical-align: middle;\n    }\n\n    .dataframe tbody tr th {\n        vertical-align: top;\n    }\n\n    .dataframe thead th {\n        text-align: right;\n    }\n</style>\n<table border=\"1\" class=\"dataframe\">\n  <thead>\n    <tr style=\"text-align: right;\">\n      <th></th>\n      <th>author</th>\n      <th>dataset_original</th>\n      <th>fold_1</th>\n      <th>fold_2</th>\n      <th>fold_3</th>\n      <th>fold_4</th>\n      <th>fold_5</th>\n      <th>fold_6</th>\n      <th>fold_7</th>\n      <th>fold_8</th>\n      <th>fold_9</th>\n      <th>fold_10</th>\n      <th>fold_avg</th>\n      <th>fold_std</th>\n    </tr>\n  </thead>\n  <tbody>\n    <tr>\n      <th>0</th>\n      <td>meyer</td>\n      <td>493</td>\n      <td>54</td>\n      <td>39</td>\n      <td>60</td>\n      <td>60</td>\n      <td>61</td>\n      <td>49</td>\n      <td>46</td>\n      <td>38</td>\n      <td>43</td>\n      <td>43</td>\n      <td>49.3</td>\n      <td>8.4</td>\n    </tr>\n    <tr>\n      <th>1</th>\n      <td>sheldon</td>\n      <td>295</td>\n      <td>13</td>\n      <td>37</td>\n      <td>35</td>\n      <td>22</td>\n      <td>26</td>\n      <td>35</td>\n      <td>43</td>\n      <td>38</td>\n      <td>23</td>\n      <td>23</td>\n      <td>29.5</td>\n      <td>8.9</td>\n    </tr>\n    <tr>\n      <th>2</th>\n      <td>orwell</td>\n      <td>244</td>\n      <td>20</td>\n      <td>24</td>\n      <td>25</td>\n      <td>29</td>\n      <td>27</td>\n      <td>34</td>\n      <td>10</td>\n      <td>28</td>\n      <td>28</td>\n      <td>19</td>\n      <td>24.4</td>\n      <td>6.3</td>\n    </tr>\n    <tr>\n      <th>3</th>\n      <td>amado</td>\n      <td>204</td>\n      <td>12</td>\n      <td>22</td>\n      <td>30</td>\n      <td>17</td>\n      <td>21</td>\n      <td>20</td>\n      <td>15</td>\n      <td>23</td>\n      <td>25</td>\n      <td>19</td>\n      <td>20.4</td>\n      <td>4.9</td>\n    </tr>\n    <tr>\n      <th>4</th>\n      <td>saramago</td>\n      <td>180</td>\n      <td>21</td>\n      <td>12</td>\n      <td>19</td>\n      <td>15</td>\n      <td>10</td>\n      <td>21</td>\n      <td>22</td>\n      <td>22</td>\n      <td>19</td>\n      <td>19</td>\n      <td>18.0</td>\n      <td>4.0</td>\n    </tr>\n    <tr>\n      <th>5</th>\n      <td>salinger</td>\n      <td>144</td>\n      <td>10</td>\n      <td>12</td>\n      <td>15</td>\n      <td>11</td>\n      <td>8</td>\n      <td>21</td>\n      <td>17</td>\n      <td>17</td>\n      <td>20</td>\n      <td>13</td>\n      <td>14.4</td>\n      <td>4.1</td>\n    </tr>\n    <tr>\n      <th>6</th>\n      <td>reboucas</td>\n      <td>137</td>\n      <td>10</td>\n      <td>13</td>\n      <td>17</td>\n      <td>15</td>\n      <td>21</td>\n      <td>15</td>\n      <td>14</td>\n      <td>9</td>\n      <td>14</td>\n      <td>9</td>\n      <td>13.7</td>\n      <td>3.6</td>\n    </tr>\n    <tr>\n      <th>7</th>\n      <td>total</td>\n      <td>1697</td>\n      <td>140</td>\n      <td>159</td>\n      <td>201</td>\n      <td>169</td>\n      <td>174</td>\n      <td>195</td>\n      <td>167</td>\n      <td>175</td>\n      <td>172</td>\n      <td>145</td>\n      <td>169.7</td>\n      <td>18.1</td>\n    </tr>\n  </tbody>\n</table>\n</div>"
     },
     "execution_count": 15,
     "metadata": {},
     "output_type": "execute_result"
    }
   ],
   "source": [
    "# número de reviews com aspecto por autor\n",
    "reviews_with_aspects = utils.fold_summary(reviews_with_aspects)\n",
    "reviews_with_aspects"
   ],
   "metadata": {
    "collapsed": false
   }
  }
 ],
 "metadata": {
  "hide_input": false,
  "kernelspec": {
   "display_name": "Python 3 (ipykernel)",
   "language": "python",
   "name": "python3"
  },
  "language_info": {
   "codemirror_mode": {
    "name": "ipython",
    "version": 3
   },
   "file_extension": ".py",
   "mimetype": "text/x-python",
   "name": "python",
   "nbconvert_exporter": "python",
   "pygments_lexer": "ipython3",
   "version": "3.9.7"
  }
 },
 "nbformat": 4,
 "nbformat_minor": 1
}
