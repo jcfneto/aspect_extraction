{
 "cells": [
  {
   "cell_type": "code",
   "execution_count": null,
   "metadata": {
    "id": "3esu72VBoQW9"
   },
   "outputs": [],
   "source": [
    "!pip install datasets transformers seqeval evaluate"
   ]
  },
  {
   "cell_type": "code",
   "execution_count": 5,
   "metadata": {
    "id": "Or_CtBwApFRU"
   },
   "outputs": [],
   "source": [
    "import json\n",
    "import pandas as pd\n",
    "\n",
    "from ast import literal_eval\n",
    "\n",
    "from collections import defaultdict\n",
    "\n",
    "from datasets import Dataset, DatasetDict\n",
    "\n",
    "from src import utils\n",
    "\n",
    "from transformers import create_optimizer\n",
    "from transformers import DataCollatorForTokenClassification"
   ]
  },
  {
   "cell_type": "code",
   "execution_count": null,
   "metadata": {
    "id": "lxE8ny2XpJmb"
   },
   "outputs": [],
   "source": [
    "def tokenize_and_align_labels(examples: dict) -> Dataset:\n",
    "    \"\"\"Tokenize and align labels with subword tokens.\n",
    "\n",
    "    Args:\n",
    "        examples: Pre-token.\n",
    "\n",
    "    Returns:\n",
    "        Tokens with labels.\n",
    "    \"\"\"\n",
    "    tokenized_inputs = tokenizer(\n",
    "        examples['tokens'],\n",
    "        truncation=True,\n",
    "        is_split_into_words=True,\n",
    "    )\n",
    "    all_labels = examples['aspect_tags']\n",
    "    new_labels = []\n",
    "    for i, labels in enumerate(all_labels):\n",
    "        word_ids = tokenized_inputs.word_ids(i)\n",
    "        new_labels.append(utils.align_labels_with_tokens(labels, word_ids))\n",
    "    tokenized_inputs['labels'] = new_labels\n",
    "    return tokenized_inputs"
   ]
  },
  {
   "cell_type": "code",
   "execution_count": null,
   "metadata": {
    "colab": {
     "base_uri": "https://localhost:8080/"
    },
    "executionInfo": {
     "elapsed": 876,
     "status": "ok",
     "timestamp": 1670505982311,
     "user": {
      "displayName": "José Carlos Ferreira Neto",
      "userId": "09993765487513772420"
     },
     "user_tz": 180
    },
    "id": "QSye0Ev2pJrd",
    "outputId": "6010f62a-8aa6-49bc-ad43-4e815b7e60fd"
   },
   "outputs": [],
   "source": [
    "# lendo os dados\n",
    "data_ds = pd.read_csv('../datasets/processed/tv_stratified.csv')"
   ]
  },
  {
   "cell_type": "code",
   "execution_count": null,
   "metadata": {
    "id": "1W0NrSN7pYNT"
   },
   "outputs": [],
   "source": [
    "# mudando o formato das colunas\n",
    "for col in ('tokens', 'aspect_tags'):\n",
    "    data_ds[col] = data_ds[col].apply(literal_eval)"
   ]
  },
  {
   "cell_type": "code",
   "execution_count": 7,
   "metadata": {
    "id": "0cwSIvo0pYPz"
   },
   "outputs": [],
   "source": [
    "# tag mapping\n",
    "id2label = {0: 'O', 1: 'B-ASP', 2: 'I-ASP'}\n",
    "label2id = {v: k for k, v in id2label.items()}\n",
    "label_names = ['O', 'B-ASP', 'I-ASP']"
   ]
  },
  {
   "cell_type": "code",
   "execution_count": null,
   "metadata": {
    "id": "VNN_uHbiptZl"
   },
   "outputs": [],
   "source": [
    "# seprando os folds\n",
    "cols = ['tokens', 'aspect_tags']\n",
    "\n",
    "data_ds = DatasetDict({\n",
    "    f'fold_{fold}': Dataset.from_pandas(data_ds[data_ds.fold == fold][cols], preserve_index=False)\n",
    "        for fold in data_ds.fold.unique()\n",
    "})"
   ]
  },
  {
   "cell_type": "code",
   "execution_count": null,
   "metadata": {
    "id": "C_o7zSsj4IUA"
   },
   "outputs": [],
   "source": [
    "# initializing the tokenizer\n",
    "model_checkpoint = 'bert-base-multilingual-cased'\n",
    "tokenizer = utils.build_tokenizer(model_checkpoint)"
   ]
  },
  {
   "cell_type": "code",
   "execution_count": null,
   "metadata": {
    "colab": {
     "base_uri": "https://localhost:8080/",
     "height": 222
    },
    "executionInfo": {
     "elapsed": 12,
     "status": "ok",
     "timestamp": 1670455751224,
     "user": {
      "displayName": "José Carlos Ferreira Neto",
      "userId": "09993765487513772420"
     },
     "user_tz": 180
    },
    "id": "pKzuuqBV4jpA",
    "outputId": "f7b83f76-36e2-4f2b-e148-25ed0bfe6aea"
   },
   "outputs": [],
   "source": [
    "# tokenizing and aligning\n",
    "for fold in data_ds:\n",
    "    data_ds[fold] = data_ds[fold].map(\n",
    "        tokenize_and_align_labels,\n",
    "        batched=True,\n",
    "        remove_columns=data_ds[fold].column_names\n",
    "    )"
   ]
  },
  {
   "cell_type": "code",
   "execution_count": null,
   "outputs": [],
   "source": [
    "# params to data collator\n",
    "batch_size = 8\n",
    "columns = data_ds['fold_1'].column_names\n",
    "data_collator = DataCollatorForTokenClassification(\n",
    "    tokenizer=tokenizer,\n",
    "    return_tensors='tf'\n",
    ")"
   ],
   "metadata": {
    "collapsed": false
   }
  },
  {
   "cell_type": "code",
   "execution_count": null,
   "outputs": [],
   "source": [
    "# data collator\n",
    "for fold in data_ds:\n",
    "    data_ds[fold] = data_ds[fold].to_tf_dataset(\n",
    "        columns=columns,\n",
    "        collate_fn=data_collator,\n",
    "        shuffle=True,\n",
    "        batch_size=batch_size\n",
    "    )"
   ],
   "metadata": {
    "collapsed": false
   }
  },
  {
   "cell_type": "code",
   "execution_count": null,
   "outputs": [],
   "source": [
    "# cross-validation\n",
    "results = defaultdict(dict)\n",
    "for k in range(len(data_ds.keys())):\n",
    "\n",
    "    curr_fold = k + 1\n",
    "    curr_splits = data_ds.copy()\n",
    "\n",
    "    validation = curr_splits[f'fold_{curr_fold}']\n",
    "    curr_splits.pop(f'fold_{curr_fold}')\n",
    "\n",
    "    folds = list(curr_splits.keys())\n",
    "    train = curr_splits[folds[0]]\n",
    "    for fold in folds[1:]:\n",
    "        train = train.concatenate(curr_splits[fold])\n",
    "\n",
    "    num_epochs = 3\n",
    "    num_train_steps = len(train) * num_epochs\n",
    "    optimizer, _ = create_optimizer(\n",
    "        init_lr=2e-5,\n",
    "        num_warmup_steps=0,\n",
    "        num_train_steps=num_train_steps,\n",
    "        weight_decay_rate=0.01,\n",
    "    )\n",
    "\n",
    "    model = utils.build_model(\n",
    "        model_checkpoint=model_checkpoint,\n",
    "        id2label=id2label,\n",
    "        label2id=label2id,\n",
    "        from_pt=True\n",
    "    )\n",
    "    model.compile(optimizer=optimizer)\n",
    "\n",
    "    model.fit(\n",
    "        train,\n",
    "        validation_data=validation,\n",
    "        epochs=num_epochs\n",
    "    )\n",
    "\n",
    "    results[f'split_{curr_fold}'] = utils.evaluate_model(\n",
    "        model=model,\n",
    "        test_data=validation,\n",
    "        label_names=label_names\n",
    "    )"
   ],
   "metadata": {
    "collapsed": false
   }
  },
  {
   "cell_type": "code",
   "execution_count": 4,
   "outputs": [],
   "source": [
    "with open(\"../results/baseline_tv.json\", \"w\") as outfile:\n",
    "    json.dump(results, outfile)"
   ],
   "metadata": {
    "collapsed": false
   }
  }
 ],
 "metadata": {
  "accelerator": "GPU",
  "colab": {
   "authorship_tag": "ABX9TyNpCvjTVqetbbEyiIdF/u+A",
   "provenance": []
  },
  "gpuClass": "standard",
  "kernelspec": {
   "display_name": "Python 3",
   "language": "python",
   "name": "python3"
  },
  "language_info": {
   "codemirror_mode": {
    "name": "ipython",
    "version": 3
   },
   "file_extension": ".py",
   "mimetype": "text/x-python",
   "name": "python",
   "nbconvert_exporter": "python",
   "pygments_lexer": "ipython3",
   "version": "3.8.8"
  }
 },
 "nbformat": 4,
 "nbformat_minor": 1
}
