{
 "cells": [
  {
   "cell_type": "code",
   "execution_count": 1,
   "metadata": {
    "collapsed": true
   },
   "outputs": [],
   "source": [
    "import pandas as pd\n",
    "\n",
    "from src import utils\n",
    "from src import pre_processing"
   ]
  },
  {
   "cell_type": "code",
   "execution_count": 2,
   "outputs": [
    {
     "data": {
      "text/plain": "                                              tokens  \\\n0  [Excelente, smart, tv, ., E, foi, entregue, ve...   \n\n                               aspect_tags  \n0  [0, 1, 2, 0, 0, 0, 0, 0, 0, 0, 0, 0, 0]  ",
      "text/html": "<div>\n<style scoped>\n    .dataframe tbody tr th:only-of-type {\n        vertical-align: middle;\n    }\n\n    .dataframe tbody tr th {\n        vertical-align: top;\n    }\n\n    .dataframe thead th {\n        text-align: right;\n    }\n</style>\n<table border=\"1\" class=\"dataframe\">\n  <thead>\n    <tr style=\"text-align: right;\">\n      <th></th>\n      <th>tokens</th>\n      <th>aspect_tags</th>\n    </tr>\n  </thead>\n  <tbody>\n    <tr>\n      <th>0</th>\n      <td>[Excelente, smart, tv, ., E, foi, entregue, ve...</td>\n      <td>[0, 1, 2, 0, 0, 0, 0, 0, 0, 0, 0, 0, 0]</td>\n    </tr>\n  </tbody>\n</table>\n</div>"
     },
     "execution_count": 2,
     "metadata": {},
     "output_type": "execute_result"
    }
   ],
   "source": [
    "# lendo e pré-processando os dados (json to dataframe)\n",
    "data = pre_processing.pre_processing_tv_dataset('../datasets/tv/data.json')\n",
    "data.head(1)"
   ],
   "metadata": {
    "collapsed": false
   }
  },
  {
   "cell_type": "code",
   "execution_count": 3,
   "outputs": [
    {
     "data": {
      "text/plain": "                                              tokens  \\\n0  [Excelente, smart, tv, ., E, foi, entregue, ve...   \n\n                               aspect_tags  total_aspects  \n0  [0, 1, 2, 0, 0, 0, 0, 0, 0, 0, 0, 0, 0]              1  ",
      "text/html": "<div>\n<style scoped>\n    .dataframe tbody tr th:only-of-type {\n        vertical-align: middle;\n    }\n\n    .dataframe tbody tr th {\n        vertical-align: top;\n    }\n\n    .dataframe thead th {\n        text-align: right;\n    }\n</style>\n<table border=\"1\" class=\"dataframe\">\n  <thead>\n    <tr style=\"text-align: right;\">\n      <th></th>\n      <th>tokens</th>\n      <th>aspect_tags</th>\n      <th>total_aspects</th>\n    </tr>\n  </thead>\n  <tbody>\n    <tr>\n      <th>0</th>\n      <td>[Excelente, smart, tv, ., E, foi, entregue, ve...</td>\n      <td>[0, 1, 2, 0, 0, 0, 0, 0, 0, 0, 0, 0, 0]</td>\n      <td>1</td>\n    </tr>\n  </tbody>\n</table>\n</div>"
     },
     "execution_count": 3,
     "metadata": {},
     "output_type": "execute_result"
    }
   ],
   "source": [
    "# contabilizando o número de aspectos por registro\n",
    "data = utils.aspect_counter(data)\n",
    "data.head(1)"
   ],
   "metadata": {
    "collapsed": false
   }
  },
  {
   "cell_type": "code",
   "execution_count": 4,
   "outputs": [
    {
     "data": {
      "text/plain": "                                              tokens  \\\n0  [Excelente, smart, tv, ., E, foi, entregue, ve...   \n\n                               aspect_tags  total_aspects  has_aspect  \n0  [0, 1, 2, 0, 0, 0, 0, 0, 0, 0, 0, 0, 0]              1           1  ",
      "text/html": "<div>\n<style scoped>\n    .dataframe tbody tr th:only-of-type {\n        vertical-align: middle;\n    }\n\n    .dataframe tbody tr th {\n        vertical-align: top;\n    }\n\n    .dataframe thead th {\n        text-align: right;\n    }\n</style>\n<table border=\"1\" class=\"dataframe\">\n  <thead>\n    <tr style=\"text-align: right;\">\n      <th></th>\n      <th>tokens</th>\n      <th>aspect_tags</th>\n      <th>total_aspects</th>\n      <th>has_aspect</th>\n    </tr>\n  </thead>\n  <tbody>\n    <tr>\n      <th>0</th>\n      <td>[Excelente, smart, tv, ., E, foi, entregue, ve...</td>\n      <td>[0, 1, 2, 0, 0, 0, 0, 0, 0, 0, 0, 0, 0]</td>\n      <td>1</td>\n      <td>1</td>\n    </tr>\n  </tbody>\n</table>\n</div>"
     },
     "execution_count": 4,
     "metadata": {},
     "output_type": "execute_result"
    }
   ],
   "source": [
    "# definindo se um registro possui aspecto ou não\n",
    "data = utils.has_aspect(data)\n",
    "data.head(1)"
   ],
   "metadata": {
    "collapsed": false
   }
  },
  {
   "cell_type": "code",
   "execution_count": 5,
   "outputs": [],
   "source": [
    "# review\n",
    "data['review'] = data.index + 1"
   ],
   "metadata": {
    "collapsed": false
   }
  },
  {
   "cell_type": "code",
   "execution_count": 6,
   "outputs": [
    {
     "data": {
      "text/plain": "   has_aspect  original_dataset\n0           1               989\n1           0               102",
      "text/html": "<div>\n<style scoped>\n    .dataframe tbody tr th:only-of-type {\n        vertical-align: middle;\n    }\n\n    .dataframe tbody tr th {\n        vertical-align: top;\n    }\n\n    .dataframe thead th {\n        text-align: right;\n    }\n</style>\n<table border=\"1\" class=\"dataframe\">\n  <thead>\n    <tr style=\"text-align: right;\">\n      <th></th>\n      <th>has_aspect</th>\n      <th>original_dataset</th>\n    </tr>\n  </thead>\n  <tbody>\n    <tr>\n      <th>0</th>\n      <td>1</td>\n      <td>989</td>\n    </tr>\n    <tr>\n      <th>1</th>\n      <td>0</td>\n      <td>102</td>\n    </tr>\n  </tbody>\n</table>\n</div>"
     },
     "execution_count": 6,
     "metadata": {},
     "output_type": "execute_result"
    }
   ],
   "source": [
    "# contabilizando reviews com aspects\n",
    "has_aspect = data.has_aspect.value_counts().reset_index().rename(\n",
    "    columns={'has_aspect': 'original_dataset', 'index': 'has_aspect'})\n",
    "has_aspect"
   ],
   "metadata": {
    "collapsed": false
   }
  },
  {
   "cell_type": "code",
   "execution_count": 7,
   "outputs": [],
   "source": [
    "# nome das colunas para estraficacão\n",
    "y_col = 'has_aspect'\n",
    "X_cols = ['tokens', 'aspect_tags', 'total_aspects']\n",
    "groups = 'review'"
   ],
   "metadata": {
    "collapsed": false
   }
  },
  {
   "cell_type": "code",
   "execution_count": 8,
   "outputs": [],
   "source": [
    "# gerando os folds\n",
    "stratified_data = utils.stratified_k_fold(data, X_cols, y_col, groups, k=10)"
   ],
   "metadata": {
    "collapsed": false
   }
  },
  {
   "cell_type": "code",
   "execution_count": 9,
   "outputs": [],
   "source": [
    "# salvando\n",
    "# data.to_csv('../datasets/processed/tv_stratified.csv', index=False)"
   ],
   "metadata": {
    "collapsed": false
   }
  },
  {
   "cell_type": "code",
   "execution_count": 10,
   "outputs": [],
   "source": [
    "# lendo a base salva\n",
    "data = pd.read_csv('../datasets/processed/tv_stratified.csv')"
   ],
   "metadata": {
    "collapsed": false
   }
  },
  {
   "cell_type": "code",
   "execution_count": 11,
   "outputs": [],
   "source": [
    "# gerando estatísticas dos folds\n",
    "for fold in data.fold.unique():\n",
    "\n",
    "    # filtrando\n",
    "    curr = data[data.fold == fold]\n",
    "\n",
    "    # contabilizando a quantidade de registros por número de aspectos na frase\n",
    "    curr_has_aspect = curr.has_aspect.value_counts().reset_index().rename(\n",
    "        columns={'has_aspect': f'fold_{fold}', 'index': 'has_aspect'})\n",
    "    has_aspect = has_aspect.merge(curr_has_aspect, how='outer')"
   ],
   "metadata": {
    "collapsed": false
   }
  },
  {
   "cell_type": "code",
   "execution_count": 12,
   "outputs": [
    {
     "data": {
      "text/plain": "  has_aspect  original_dataset  fold_1  fold_2  fold_3  fold_4  fold_5  \\\n0          1               989      99      99      99      99      99   \n1          0               102      11      10      10      10      10   \n2      total              1091     110     109     109     109     109   \n\n   fold_6  fold_7  fold_8  fold_9  fold_10  fold_avg  fold_std  \n0      99      99      99      99       98      98.9       0.3  \n1      10      10      10      10       11      10.2       0.4  \n2     109     109     109     109      109     109.1       0.3  ",
      "text/html": "<div>\n<style scoped>\n    .dataframe tbody tr th:only-of-type {\n        vertical-align: middle;\n    }\n\n    .dataframe tbody tr th {\n        vertical-align: top;\n    }\n\n    .dataframe thead th {\n        text-align: right;\n    }\n</style>\n<table border=\"1\" class=\"dataframe\">\n  <thead>\n    <tr style=\"text-align: right;\">\n      <th></th>\n      <th>has_aspect</th>\n      <th>original_dataset</th>\n      <th>fold_1</th>\n      <th>fold_2</th>\n      <th>fold_3</th>\n      <th>fold_4</th>\n      <th>fold_5</th>\n      <th>fold_6</th>\n      <th>fold_7</th>\n      <th>fold_8</th>\n      <th>fold_9</th>\n      <th>fold_10</th>\n      <th>fold_avg</th>\n      <th>fold_std</th>\n    </tr>\n  </thead>\n  <tbody>\n    <tr>\n      <th>0</th>\n      <td>1</td>\n      <td>989</td>\n      <td>99</td>\n      <td>99</td>\n      <td>99</td>\n      <td>99</td>\n      <td>99</td>\n      <td>99</td>\n      <td>99</td>\n      <td>99</td>\n      <td>99</td>\n      <td>98</td>\n      <td>98.9</td>\n      <td>0.3</td>\n    </tr>\n    <tr>\n      <th>1</th>\n      <td>0</td>\n      <td>102</td>\n      <td>11</td>\n      <td>10</td>\n      <td>10</td>\n      <td>10</td>\n      <td>10</td>\n      <td>10</td>\n      <td>10</td>\n      <td>10</td>\n      <td>10</td>\n      <td>11</td>\n      <td>10.2</td>\n      <td>0.4</td>\n    </tr>\n    <tr>\n      <th>2</th>\n      <td>total</td>\n      <td>1091</td>\n      <td>110</td>\n      <td>109</td>\n      <td>109</td>\n      <td>109</td>\n      <td>109</td>\n      <td>109</td>\n      <td>109</td>\n      <td>109</td>\n      <td>109</td>\n      <td>109</td>\n      <td>109.1</td>\n      <td>0.3</td>\n    </tr>\n  </tbody>\n</table>\n</div>"
     },
     "execution_count": 12,
     "metadata": {},
     "output_type": "execute_result"
    }
   ],
   "source": [
    "# quantidade de registros por número de aspectos na frase\n",
    "has_aspect = utils.fold_summary(has_aspect)\n",
    "has_aspect"
   ],
   "metadata": {
    "collapsed": false
   }
  },
  {
   "cell_type": "code",
   "execution_count": 13,
   "outputs": [
    {
     "data": {
      "text/plain": "   fold  reviews\n0     1      110\n1     2      109\n2     3      109\n3     4      109\n4     5      109\n5     6      109\n6     7      109\n7     8      109\n8     9      109\n9    10      109",
      "text/html": "<div>\n<style scoped>\n    .dataframe tbody tr th:only-of-type {\n        vertical-align: middle;\n    }\n\n    .dataframe tbody tr th {\n        vertical-align: top;\n    }\n\n    .dataframe thead th {\n        text-align: right;\n    }\n</style>\n<table border=\"1\" class=\"dataframe\">\n  <thead>\n    <tr style=\"text-align: right;\">\n      <th></th>\n      <th>fold</th>\n      <th>reviews</th>\n    </tr>\n  </thead>\n  <tbody>\n    <tr>\n      <th>0</th>\n      <td>1</td>\n      <td>110</td>\n    </tr>\n    <tr>\n      <th>1</th>\n      <td>2</td>\n      <td>109</td>\n    </tr>\n    <tr>\n      <th>2</th>\n      <td>3</td>\n      <td>109</td>\n    </tr>\n    <tr>\n      <th>3</th>\n      <td>4</td>\n      <td>109</td>\n    </tr>\n    <tr>\n      <th>4</th>\n      <td>5</td>\n      <td>109</td>\n    </tr>\n    <tr>\n      <th>5</th>\n      <td>6</td>\n      <td>109</td>\n    </tr>\n    <tr>\n      <th>6</th>\n      <td>7</td>\n      <td>109</td>\n    </tr>\n    <tr>\n      <th>7</th>\n      <td>8</td>\n      <td>109</td>\n    </tr>\n    <tr>\n      <th>8</th>\n      <td>9</td>\n      <td>109</td>\n    </tr>\n    <tr>\n      <th>9</th>\n      <td>10</td>\n      <td>109</td>\n    </tr>\n  </tbody>\n</table>\n</div>"
     },
     "execution_count": 13,
     "metadata": {},
     "output_type": "execute_result"
    }
   ],
   "source": [
    "# número de reviews por fold\n",
    "reviews_per_fold = data.fold.value_counts().reset_index().rename(columns={'fold': 'reviews', 'index': 'fold'}).sort_values('fold')\n",
    "reviews_per_fold"
   ],
   "metadata": {
    "collapsed": false
   }
  },
  {
   "cell_type": "code",
   "execution_count": 14,
   "outputs": [],
   "source": [
    "# número de aspectos por partićão\n",
    "def aspect_per_fold(df):\n",
    "    apf = utils.summary(df, 'fold', 'total_aspects', 'sum').sort_values('fold')\n",
    "    total = [apf.total_aspects.sum()]\n",
    "    std = [apf.total_aspects.std()]\n",
    "\n",
    "    for value, name in zip([total, std], ['total', 'std']):\n",
    "        apf.loc[len(apf)] = [name] + value\n",
    "    return round(apf, 1)"
   ],
   "metadata": {
    "collapsed": false
   }
  },
  {
   "cell_type": "code",
   "execution_count": 15,
   "outputs": [
    {
     "data": {
      "text/plain": "     fold  total_aspects\n0       1          220.0\n1       2          227.0\n2       3          194.0\n3       4          205.0\n4       5          183.0\n5       6          202.0\n6       7          228.0\n7       8          235.0\n8       9          298.0\n9      10          335.0\n10  total         2327.0\n11    std           47.9",
      "text/html": "<div>\n<style scoped>\n    .dataframe tbody tr th:only-of-type {\n        vertical-align: middle;\n    }\n\n    .dataframe tbody tr th {\n        vertical-align: top;\n    }\n\n    .dataframe thead th {\n        text-align: right;\n    }\n</style>\n<table border=\"1\" class=\"dataframe\">\n  <thead>\n    <tr style=\"text-align: right;\">\n      <th></th>\n      <th>fold</th>\n      <th>total_aspects</th>\n    </tr>\n  </thead>\n  <tbody>\n    <tr>\n      <th>0</th>\n      <td>1</td>\n      <td>220.0</td>\n    </tr>\n    <tr>\n      <th>1</th>\n      <td>2</td>\n      <td>227.0</td>\n    </tr>\n    <tr>\n      <th>2</th>\n      <td>3</td>\n      <td>194.0</td>\n    </tr>\n    <tr>\n      <th>3</th>\n      <td>4</td>\n      <td>205.0</td>\n    </tr>\n    <tr>\n      <th>4</th>\n      <td>5</td>\n      <td>183.0</td>\n    </tr>\n    <tr>\n      <th>5</th>\n      <td>6</td>\n      <td>202.0</td>\n    </tr>\n    <tr>\n      <th>6</th>\n      <td>7</td>\n      <td>228.0</td>\n    </tr>\n    <tr>\n      <th>7</th>\n      <td>8</td>\n      <td>235.0</td>\n    </tr>\n    <tr>\n      <th>8</th>\n      <td>9</td>\n      <td>298.0</td>\n    </tr>\n    <tr>\n      <th>9</th>\n      <td>10</td>\n      <td>335.0</td>\n    </tr>\n    <tr>\n      <th>10</th>\n      <td>total</td>\n      <td>2327.0</td>\n    </tr>\n    <tr>\n      <th>11</th>\n      <td>std</td>\n      <td>47.9</td>\n    </tr>\n  </tbody>\n</table>\n</div>"
     },
     "execution_count": 15,
     "metadata": {},
     "output_type": "execute_result"
    }
   ],
   "source": [
    "# número de aspectos por partićão\n",
    "apf_stats = aspect_per_fold(data)\n",
    "apf_stats"
   ],
   "metadata": {
    "collapsed": false
   }
  },
  {
   "cell_type": "markdown",
   "source": [
    "Balancear o número de aspectos por particão."
   ],
   "metadata": {
    "collapsed": false
   }
  },
  {
   "cell_type": "code",
   "execution_count": 16,
   "outputs": [],
   "source": [
    "# coluna de review\n",
    "data['review'] = data.index + 1"
   ],
   "metadata": {
    "collapsed": false
   }
  },
  {
   "cell_type": "code",
   "execution_count": 17,
   "outputs": [],
   "source": [
    "def rebalance(df, n, fold_from, fold_to):\n",
    "    count = n\n",
    "    while count > 0:\n",
    "        tmp = df[df.fold == fold_from].groupby(['review']).agg({'total_aspects': 'sum'}).reset_index()\n",
    "        tmp = tmp[(tmp.total_aspects > 0) & (tmp.total_aspects <= count)].sample(frac=0.1)\n",
    "        review = tmp.review.values[-1]\n",
    "        count -= tmp.total_aspects.values[-1]\n",
    "        df.loc[df.review == review, 'fold'] = fold_to\n",
    "    return df"
   ],
   "metadata": {
    "collapsed": false
   }
  },
  {
   "cell_type": "code",
   "execution_count": 18,
   "outputs": [
    {
     "data": {
      "text/plain": "     fold  total_aspects\n0       1          220.0\n1       2          227.0\n2       3          194.0\n3       4          205.0\n4       5          232.0\n5       6          202.0\n6       7          228.0\n7       8          235.0\n8       9          298.0\n9      10          286.0\n10  total         2327.0\n11    std           34.2",
      "text/html": "<div>\n<style scoped>\n    .dataframe tbody tr th:only-of-type {\n        vertical-align: middle;\n    }\n\n    .dataframe tbody tr th {\n        vertical-align: top;\n    }\n\n    .dataframe thead th {\n        text-align: right;\n    }\n</style>\n<table border=\"1\" class=\"dataframe\">\n  <thead>\n    <tr style=\"text-align: right;\">\n      <th></th>\n      <th>fold</th>\n      <th>total_aspects</th>\n    </tr>\n  </thead>\n  <tbody>\n    <tr>\n      <th>0</th>\n      <td>1</td>\n      <td>220.0</td>\n    </tr>\n    <tr>\n      <th>1</th>\n      <td>2</td>\n      <td>227.0</td>\n    </tr>\n    <tr>\n      <th>2</th>\n      <td>3</td>\n      <td>194.0</td>\n    </tr>\n    <tr>\n      <th>3</th>\n      <td>4</td>\n      <td>205.0</td>\n    </tr>\n    <tr>\n      <th>4</th>\n      <td>5</td>\n      <td>232.0</td>\n    </tr>\n    <tr>\n      <th>5</th>\n      <td>6</td>\n      <td>202.0</td>\n    </tr>\n    <tr>\n      <th>6</th>\n      <td>7</td>\n      <td>228.0</td>\n    </tr>\n    <tr>\n      <th>7</th>\n      <td>8</td>\n      <td>235.0</td>\n    </tr>\n    <tr>\n      <th>8</th>\n      <td>9</td>\n      <td>298.0</td>\n    </tr>\n    <tr>\n      <th>9</th>\n      <td>10</td>\n      <td>286.0</td>\n    </tr>\n    <tr>\n      <th>10</th>\n      <td>total</td>\n      <td>2327.0</td>\n    </tr>\n    <tr>\n      <th>11</th>\n      <td>std</td>\n      <td>34.2</td>\n    </tr>\n  </tbody>\n</table>\n</div>"
     },
     "execution_count": 18,
     "metadata": {},
     "output_type": "execute_result"
    }
   ],
   "source": [
    "# do fold 10 para o 5\n",
    "data = rebalance(data, 49, 10, 5)\n",
    "\n",
    "# número de aspectos por partićão\n",
    "apf_stats = aspect_per_fold(data)\n",
    "apf_stats"
   ],
   "metadata": {
    "collapsed": false
   }
  },
  {
   "cell_type": "code",
   "execution_count": 19,
   "outputs": [
    {
     "data": {
      "text/plain": "     fold  total_aspects\n0       1          220.0\n1       2          227.0\n2       3          232.0\n3       4          205.0\n4       5          232.0\n5       6          202.0\n6       7          228.0\n7       8          235.0\n8       9          260.0\n9      10          286.0\n10  total         2327.0\n11    std           24.8",
      "text/html": "<div>\n<style scoped>\n    .dataframe tbody tr th:only-of-type {\n        vertical-align: middle;\n    }\n\n    .dataframe tbody tr th {\n        vertical-align: top;\n    }\n\n    .dataframe thead th {\n        text-align: right;\n    }\n</style>\n<table border=\"1\" class=\"dataframe\">\n  <thead>\n    <tr style=\"text-align: right;\">\n      <th></th>\n      <th>fold</th>\n      <th>total_aspects</th>\n    </tr>\n  </thead>\n  <tbody>\n    <tr>\n      <th>0</th>\n      <td>1</td>\n      <td>220.0</td>\n    </tr>\n    <tr>\n      <th>1</th>\n      <td>2</td>\n      <td>227.0</td>\n    </tr>\n    <tr>\n      <th>2</th>\n      <td>3</td>\n      <td>232.0</td>\n    </tr>\n    <tr>\n      <th>3</th>\n      <td>4</td>\n      <td>205.0</td>\n    </tr>\n    <tr>\n      <th>4</th>\n      <td>5</td>\n      <td>232.0</td>\n    </tr>\n    <tr>\n      <th>5</th>\n      <td>6</td>\n      <td>202.0</td>\n    </tr>\n    <tr>\n      <th>6</th>\n      <td>7</td>\n      <td>228.0</td>\n    </tr>\n    <tr>\n      <th>7</th>\n      <td>8</td>\n      <td>235.0</td>\n    </tr>\n    <tr>\n      <th>8</th>\n      <td>9</td>\n      <td>260.0</td>\n    </tr>\n    <tr>\n      <th>9</th>\n      <td>10</td>\n      <td>286.0</td>\n    </tr>\n    <tr>\n      <th>10</th>\n      <td>total</td>\n      <td>2327.0</td>\n    </tr>\n    <tr>\n      <th>11</th>\n      <td>std</td>\n      <td>24.8</td>\n    </tr>\n  </tbody>\n</table>\n</div>"
     },
     "execution_count": 19,
     "metadata": {},
     "output_type": "execute_result"
    }
   ],
   "source": [
    "# do fold 9 para o 3\n",
    "data = rebalance(data, 38, 9, 3)\n",
    "\n",
    "# número de aspectos por partićão\n",
    "apf_stats = aspect_per_fold(data)\n",
    "apf_stats"
   ],
   "metadata": {
    "collapsed": false
   }
  },
  {
   "cell_type": "code",
   "execution_count": 20,
   "outputs": [
    {
     "data": {
      "text/plain": "     fold  total_aspects\n0       1          220.0\n1       2          227.0\n2       3          232.0\n3       4          205.0\n4       5          232.0\n5       6          230.0\n6       7          228.0\n7       8          235.0\n8       9          232.0\n9      10          286.0\n10  total         2327.0\n11    std           20.7",
      "text/html": "<div>\n<style scoped>\n    .dataframe tbody tr th:only-of-type {\n        vertical-align: middle;\n    }\n\n    .dataframe tbody tr th {\n        vertical-align: top;\n    }\n\n    .dataframe thead th {\n        text-align: right;\n    }\n</style>\n<table border=\"1\" class=\"dataframe\">\n  <thead>\n    <tr style=\"text-align: right;\">\n      <th></th>\n      <th>fold</th>\n      <th>total_aspects</th>\n    </tr>\n  </thead>\n  <tbody>\n    <tr>\n      <th>0</th>\n      <td>1</td>\n      <td>220.0</td>\n    </tr>\n    <tr>\n      <th>1</th>\n      <td>2</td>\n      <td>227.0</td>\n    </tr>\n    <tr>\n      <th>2</th>\n      <td>3</td>\n      <td>232.0</td>\n    </tr>\n    <tr>\n      <th>3</th>\n      <td>4</td>\n      <td>205.0</td>\n    </tr>\n    <tr>\n      <th>4</th>\n      <td>5</td>\n      <td>232.0</td>\n    </tr>\n    <tr>\n      <th>5</th>\n      <td>6</td>\n      <td>230.0</td>\n    </tr>\n    <tr>\n      <th>6</th>\n      <td>7</td>\n      <td>228.0</td>\n    </tr>\n    <tr>\n      <th>7</th>\n      <td>8</td>\n      <td>235.0</td>\n    </tr>\n    <tr>\n      <th>8</th>\n      <td>9</td>\n      <td>232.0</td>\n    </tr>\n    <tr>\n      <th>9</th>\n      <td>10</td>\n      <td>286.0</td>\n    </tr>\n    <tr>\n      <th>10</th>\n      <td>total</td>\n      <td>2327.0</td>\n    </tr>\n    <tr>\n      <th>11</th>\n      <td>std</td>\n      <td>20.7</td>\n    </tr>\n  </tbody>\n</table>\n</div>"
     },
     "execution_count": 20,
     "metadata": {},
     "output_type": "execute_result"
    }
   ],
   "source": [
    "# do fold 9 para o 6\n",
    "data = rebalance(data, 28, 9, 6)\n",
    "\n",
    "# número de aspectos por partićão\n",
    "apf_stats = aspect_per_fold(data)\n",
    "apf_stats"
   ],
   "metadata": {
    "collapsed": false
   }
  },
  {
   "cell_type": "code",
   "execution_count": 21,
   "outputs": [
    {
     "data": {
      "text/plain": "     fold  total_aspects\n0       1          220.0\n1       2          227.0\n2       3          232.0\n3       4          232.0\n4       5          232.0\n5       6          230.0\n6       7          228.0\n7       8          235.0\n8       9          232.0\n9      10          259.0\n10  total         2327.0\n11    std           10.1",
      "text/html": "<div>\n<style scoped>\n    .dataframe tbody tr th:only-of-type {\n        vertical-align: middle;\n    }\n\n    .dataframe tbody tr th {\n        vertical-align: top;\n    }\n\n    .dataframe thead th {\n        text-align: right;\n    }\n</style>\n<table border=\"1\" class=\"dataframe\">\n  <thead>\n    <tr style=\"text-align: right;\">\n      <th></th>\n      <th>fold</th>\n      <th>total_aspects</th>\n    </tr>\n  </thead>\n  <tbody>\n    <tr>\n      <th>0</th>\n      <td>1</td>\n      <td>220.0</td>\n    </tr>\n    <tr>\n      <th>1</th>\n      <td>2</td>\n      <td>227.0</td>\n    </tr>\n    <tr>\n      <th>2</th>\n      <td>3</td>\n      <td>232.0</td>\n    </tr>\n    <tr>\n      <th>3</th>\n      <td>4</td>\n      <td>232.0</td>\n    </tr>\n    <tr>\n      <th>4</th>\n      <td>5</td>\n      <td>232.0</td>\n    </tr>\n    <tr>\n      <th>5</th>\n      <td>6</td>\n      <td>230.0</td>\n    </tr>\n    <tr>\n      <th>6</th>\n      <td>7</td>\n      <td>228.0</td>\n    </tr>\n    <tr>\n      <th>7</th>\n      <td>8</td>\n      <td>235.0</td>\n    </tr>\n    <tr>\n      <th>8</th>\n      <td>9</td>\n      <td>232.0</td>\n    </tr>\n    <tr>\n      <th>9</th>\n      <td>10</td>\n      <td>259.0</td>\n    </tr>\n    <tr>\n      <th>10</th>\n      <td>total</td>\n      <td>2327.0</td>\n    </tr>\n    <tr>\n      <th>11</th>\n      <td>std</td>\n      <td>10.1</td>\n    </tr>\n  </tbody>\n</table>\n</div>"
     },
     "execution_count": 21,
     "metadata": {},
     "output_type": "execute_result"
    }
   ],
   "source": [
    "# do fold 10 para o 4\n",
    "data = rebalance(data, 27, 10, 4)\n",
    "\n",
    "# número de aspectos por partićão\n",
    "apf_stats = aspect_per_fold(data)\n",
    "apf_stats"
   ],
   "metadata": {
    "collapsed": false
   }
  },
  {
   "cell_type": "code",
   "execution_count": 22,
   "outputs": [
    {
     "data": {
      "text/plain": "     fold  total_aspects\n0       1          232.0\n1       2          227.0\n2       3          232.0\n3       4          232.0\n4       5          232.0\n5       6          230.0\n6       7          228.0\n7       8          235.0\n8       9          232.0\n9      10          247.0\n10  total         2327.0\n11    std            5.5",
      "text/html": "<div>\n<style scoped>\n    .dataframe tbody tr th:only-of-type {\n        vertical-align: middle;\n    }\n\n    .dataframe tbody tr th {\n        vertical-align: top;\n    }\n\n    .dataframe thead th {\n        text-align: right;\n    }\n</style>\n<table border=\"1\" class=\"dataframe\">\n  <thead>\n    <tr style=\"text-align: right;\">\n      <th></th>\n      <th>fold</th>\n      <th>total_aspects</th>\n    </tr>\n  </thead>\n  <tbody>\n    <tr>\n      <th>0</th>\n      <td>1</td>\n      <td>232.0</td>\n    </tr>\n    <tr>\n      <th>1</th>\n      <td>2</td>\n      <td>227.0</td>\n    </tr>\n    <tr>\n      <th>2</th>\n      <td>3</td>\n      <td>232.0</td>\n    </tr>\n    <tr>\n      <th>3</th>\n      <td>4</td>\n      <td>232.0</td>\n    </tr>\n    <tr>\n      <th>4</th>\n      <td>5</td>\n      <td>232.0</td>\n    </tr>\n    <tr>\n      <th>5</th>\n      <td>6</td>\n      <td>230.0</td>\n    </tr>\n    <tr>\n      <th>6</th>\n      <td>7</td>\n      <td>228.0</td>\n    </tr>\n    <tr>\n      <th>7</th>\n      <td>8</td>\n      <td>235.0</td>\n    </tr>\n    <tr>\n      <th>8</th>\n      <td>9</td>\n      <td>232.0</td>\n    </tr>\n    <tr>\n      <th>9</th>\n      <td>10</td>\n      <td>247.0</td>\n    </tr>\n    <tr>\n      <th>10</th>\n      <td>total</td>\n      <td>2327.0</td>\n    </tr>\n    <tr>\n      <th>11</th>\n      <td>std</td>\n      <td>5.5</td>\n    </tr>\n  </tbody>\n</table>\n</div>"
     },
     "execution_count": 22,
     "metadata": {},
     "output_type": "execute_result"
    }
   ],
   "source": [
    "# do fold 10 para o 1\n",
    "data = rebalance(data, 12, 10, 1)\n",
    "\n",
    "# número de aspectos por partićão\n",
    "apf_stats = aspect_per_fold(data)\n",
    "apf_stats"
   ],
   "metadata": {
    "collapsed": false
   }
  },
  {
   "cell_type": "code",
   "execution_count": 23,
   "outputs": [
    {
     "data": {
      "text/plain": "     fold  total_aspects\n0       1          232.0\n1       2          232.0\n2       3          232.0\n3       4          232.0\n4       5          232.0\n5       6          230.0\n6       7          228.0\n7       8          235.0\n8       9          232.0\n9      10          242.0\n10  total         2327.0\n11    std            3.7",
      "text/html": "<div>\n<style scoped>\n    .dataframe tbody tr th:only-of-type {\n        vertical-align: middle;\n    }\n\n    .dataframe tbody tr th {\n        vertical-align: top;\n    }\n\n    .dataframe thead th {\n        text-align: right;\n    }\n</style>\n<table border=\"1\" class=\"dataframe\">\n  <thead>\n    <tr style=\"text-align: right;\">\n      <th></th>\n      <th>fold</th>\n      <th>total_aspects</th>\n    </tr>\n  </thead>\n  <tbody>\n    <tr>\n      <th>0</th>\n      <td>1</td>\n      <td>232.0</td>\n    </tr>\n    <tr>\n      <th>1</th>\n      <td>2</td>\n      <td>232.0</td>\n    </tr>\n    <tr>\n      <th>2</th>\n      <td>3</td>\n      <td>232.0</td>\n    </tr>\n    <tr>\n      <th>3</th>\n      <td>4</td>\n      <td>232.0</td>\n    </tr>\n    <tr>\n      <th>4</th>\n      <td>5</td>\n      <td>232.0</td>\n    </tr>\n    <tr>\n      <th>5</th>\n      <td>6</td>\n      <td>230.0</td>\n    </tr>\n    <tr>\n      <th>6</th>\n      <td>7</td>\n      <td>228.0</td>\n    </tr>\n    <tr>\n      <th>7</th>\n      <td>8</td>\n      <td>235.0</td>\n    </tr>\n    <tr>\n      <th>8</th>\n      <td>9</td>\n      <td>232.0</td>\n    </tr>\n    <tr>\n      <th>9</th>\n      <td>10</td>\n      <td>242.0</td>\n    </tr>\n    <tr>\n      <th>10</th>\n      <td>total</td>\n      <td>2327.0</td>\n    </tr>\n    <tr>\n      <th>11</th>\n      <td>std</td>\n      <td>3.7</td>\n    </tr>\n  </tbody>\n</table>\n</div>"
     },
     "execution_count": 23,
     "metadata": {},
     "output_type": "execute_result"
    }
   ],
   "source": [
    "# do fold 10 para o 2\n",
    "data = rebalance(data, 5, 10, 2)\n",
    "\n",
    "# número de aspectos por partićão\n",
    "apf_stats = aspect_per_fold(data)\n",
    "apf_stats"
   ],
   "metadata": {
    "collapsed": false
   }
  },
  {
   "cell_type": "code",
   "execution_count": 24,
   "outputs": [
    {
     "data": {
      "text/plain": "     fold  total_aspects\n0       1          232.0\n1       2          232.0\n2       3          232.0\n3       4          232.0\n4       5          232.0\n5       6          232.0\n6       7          228.0\n7       8          235.0\n8       9          232.0\n9      10          240.0\n10  total         2327.0\n11    std            3.1",
      "text/html": "<div>\n<style scoped>\n    .dataframe tbody tr th:only-of-type {\n        vertical-align: middle;\n    }\n\n    .dataframe tbody tr th {\n        vertical-align: top;\n    }\n\n    .dataframe thead th {\n        text-align: right;\n    }\n</style>\n<table border=\"1\" class=\"dataframe\">\n  <thead>\n    <tr style=\"text-align: right;\">\n      <th></th>\n      <th>fold</th>\n      <th>total_aspects</th>\n    </tr>\n  </thead>\n  <tbody>\n    <tr>\n      <th>0</th>\n      <td>1</td>\n      <td>232.0</td>\n    </tr>\n    <tr>\n      <th>1</th>\n      <td>2</td>\n      <td>232.0</td>\n    </tr>\n    <tr>\n      <th>2</th>\n      <td>3</td>\n      <td>232.0</td>\n    </tr>\n    <tr>\n      <th>3</th>\n      <td>4</td>\n      <td>232.0</td>\n    </tr>\n    <tr>\n      <th>4</th>\n      <td>5</td>\n      <td>232.0</td>\n    </tr>\n    <tr>\n      <th>5</th>\n      <td>6</td>\n      <td>232.0</td>\n    </tr>\n    <tr>\n      <th>6</th>\n      <td>7</td>\n      <td>228.0</td>\n    </tr>\n    <tr>\n      <th>7</th>\n      <td>8</td>\n      <td>235.0</td>\n    </tr>\n    <tr>\n      <th>8</th>\n      <td>9</td>\n      <td>232.0</td>\n    </tr>\n    <tr>\n      <th>9</th>\n      <td>10</td>\n      <td>240.0</td>\n    </tr>\n    <tr>\n      <th>10</th>\n      <td>total</td>\n      <td>2327.0</td>\n    </tr>\n    <tr>\n      <th>11</th>\n      <td>std</td>\n      <td>3.1</td>\n    </tr>\n  </tbody>\n</table>\n</div>"
     },
     "execution_count": 24,
     "metadata": {},
     "output_type": "execute_result"
    }
   ],
   "source": [
    "# do fold 10 para o 6\n",
    "data = rebalance(data, 2, 10, 6)\n",
    "\n",
    "# número de aspectos por partićão\n",
    "apf_stats = aspect_per_fold(data)\n",
    "apf_stats"
   ],
   "metadata": {
    "collapsed": false
   }
  },
  {
   "cell_type": "code",
   "execution_count": 26,
   "outputs": [
    {
     "data": {
      "text/plain": "     fold  total_aspects\n0       1          232.0\n1       2          232.0\n2       3          232.0\n3       4          232.0\n4       5          232.0\n5       6          232.0\n6       7          235.0\n7       8          235.0\n8       9          232.0\n9      10          233.0\n10  total         2327.0\n11    std            1.3",
      "text/html": "<div>\n<style scoped>\n    .dataframe tbody tr th:only-of-type {\n        vertical-align: middle;\n    }\n\n    .dataframe tbody tr th {\n        vertical-align: top;\n    }\n\n    .dataframe thead th {\n        text-align: right;\n    }\n</style>\n<table border=\"1\" class=\"dataframe\">\n  <thead>\n    <tr style=\"text-align: right;\">\n      <th></th>\n      <th>fold</th>\n      <th>total_aspects</th>\n    </tr>\n  </thead>\n  <tbody>\n    <tr>\n      <th>0</th>\n      <td>1</td>\n      <td>232.0</td>\n    </tr>\n    <tr>\n      <th>1</th>\n      <td>2</td>\n      <td>232.0</td>\n    </tr>\n    <tr>\n      <th>2</th>\n      <td>3</td>\n      <td>232.0</td>\n    </tr>\n    <tr>\n      <th>3</th>\n      <td>4</td>\n      <td>232.0</td>\n    </tr>\n    <tr>\n      <th>4</th>\n      <td>5</td>\n      <td>232.0</td>\n    </tr>\n    <tr>\n      <th>5</th>\n      <td>6</td>\n      <td>232.0</td>\n    </tr>\n    <tr>\n      <th>6</th>\n      <td>7</td>\n      <td>235.0</td>\n    </tr>\n    <tr>\n      <th>7</th>\n      <td>8</td>\n      <td>235.0</td>\n    </tr>\n    <tr>\n      <th>8</th>\n      <td>9</td>\n      <td>232.0</td>\n    </tr>\n    <tr>\n      <th>9</th>\n      <td>10</td>\n      <td>233.0</td>\n    </tr>\n    <tr>\n      <th>10</th>\n      <td>total</td>\n      <td>2327.0</td>\n    </tr>\n    <tr>\n      <th>11</th>\n      <td>std</td>\n      <td>1.3</td>\n    </tr>\n  </tbody>\n</table>\n</div>"
     },
     "execution_count": 26,
     "metadata": {},
     "output_type": "execute_result"
    }
   ],
   "source": [
    "# do fold 10 para o 7\n",
    "data = rebalance(data, 4, 10, 7)\n",
    "\n",
    "# número de aspectos por partićão\n",
    "apf_stats = aspect_per_fold(data)\n",
    "apf_stats"
   ],
   "metadata": {
    "collapsed": false
   }
  },
  {
   "cell_type": "code",
   "execution_count": 27,
   "outputs": [
    {
     "data": {
      "text/plain": "     fold  total_aspects\n0       1          233.0\n1       2          232.0\n2       3          232.0\n3       4          232.0\n4       5          232.0\n5       6          232.0\n6       7          234.0\n7       8          235.0\n8       9          232.0\n9      10          233.0\n10  total         2327.0\n11    std            1.1",
      "text/html": "<div>\n<style scoped>\n    .dataframe tbody tr th:only-of-type {\n        vertical-align: middle;\n    }\n\n    .dataframe tbody tr th {\n        vertical-align: top;\n    }\n\n    .dataframe thead th {\n        text-align: right;\n    }\n</style>\n<table border=\"1\" class=\"dataframe\">\n  <thead>\n    <tr style=\"text-align: right;\">\n      <th></th>\n      <th>fold</th>\n      <th>total_aspects</th>\n    </tr>\n  </thead>\n  <tbody>\n    <tr>\n      <th>0</th>\n      <td>1</td>\n      <td>233.0</td>\n    </tr>\n    <tr>\n      <th>1</th>\n      <td>2</td>\n      <td>232.0</td>\n    </tr>\n    <tr>\n      <th>2</th>\n      <td>3</td>\n      <td>232.0</td>\n    </tr>\n    <tr>\n      <th>3</th>\n      <td>4</td>\n      <td>232.0</td>\n    </tr>\n    <tr>\n      <th>4</th>\n      <td>5</td>\n      <td>232.0</td>\n    </tr>\n    <tr>\n      <th>5</th>\n      <td>6</td>\n      <td>232.0</td>\n    </tr>\n    <tr>\n      <th>6</th>\n      <td>7</td>\n      <td>234.0</td>\n    </tr>\n    <tr>\n      <th>7</th>\n      <td>8</td>\n      <td>235.0</td>\n    </tr>\n    <tr>\n      <th>8</th>\n      <td>9</td>\n      <td>232.0</td>\n    </tr>\n    <tr>\n      <th>9</th>\n      <td>10</td>\n      <td>233.0</td>\n    </tr>\n    <tr>\n      <th>10</th>\n      <td>total</td>\n      <td>2327.0</td>\n    </tr>\n    <tr>\n      <th>11</th>\n      <td>std</td>\n      <td>1.1</td>\n    </tr>\n  </tbody>\n</table>\n</div>"
     },
     "execution_count": 27,
     "metadata": {},
     "output_type": "execute_result"
    }
   ],
   "source": [
    "# do fold 10 para o 7\n",
    "data = rebalance(data, 1, 7, 1)\n",
    "\n",
    "# número de aspectos por partićão\n",
    "apf_stats = aspect_per_fold(data)\n",
    "apf_stats"
   ],
   "metadata": {
    "collapsed": false
   }
  },
  {
   "cell_type": "code",
   "execution_count": 28,
   "outputs": [
    {
     "data": {
      "text/plain": "     fold  total_aspects\n0       1          233.0\n1       2          233.0\n2       3          232.0\n3       4          232.0\n4       5          232.0\n5       6          232.0\n6       7          233.0\n7       8          235.0\n8       9          232.0\n9      10          233.0\n10  total         2327.0\n11    std            0.9",
      "text/html": "<div>\n<style scoped>\n    .dataframe tbody tr th:only-of-type {\n        vertical-align: middle;\n    }\n\n    .dataframe tbody tr th {\n        vertical-align: top;\n    }\n\n    .dataframe thead th {\n        text-align: right;\n    }\n</style>\n<table border=\"1\" class=\"dataframe\">\n  <thead>\n    <tr style=\"text-align: right;\">\n      <th></th>\n      <th>fold</th>\n      <th>total_aspects</th>\n    </tr>\n  </thead>\n  <tbody>\n    <tr>\n      <th>0</th>\n      <td>1</td>\n      <td>233.0</td>\n    </tr>\n    <tr>\n      <th>1</th>\n      <td>2</td>\n      <td>233.0</td>\n    </tr>\n    <tr>\n      <th>2</th>\n      <td>3</td>\n      <td>232.0</td>\n    </tr>\n    <tr>\n      <th>3</th>\n      <td>4</td>\n      <td>232.0</td>\n    </tr>\n    <tr>\n      <th>4</th>\n      <td>5</td>\n      <td>232.0</td>\n    </tr>\n    <tr>\n      <th>5</th>\n      <td>6</td>\n      <td>232.0</td>\n    </tr>\n    <tr>\n      <th>6</th>\n      <td>7</td>\n      <td>233.0</td>\n    </tr>\n    <tr>\n      <th>7</th>\n      <td>8</td>\n      <td>235.0</td>\n    </tr>\n    <tr>\n      <th>8</th>\n      <td>9</td>\n      <td>232.0</td>\n    </tr>\n    <tr>\n      <th>9</th>\n      <td>10</td>\n      <td>233.0</td>\n    </tr>\n    <tr>\n      <th>10</th>\n      <td>total</td>\n      <td>2327.0</td>\n    </tr>\n    <tr>\n      <th>11</th>\n      <td>std</td>\n      <td>0.9</td>\n    </tr>\n  </tbody>\n</table>\n</div>"
     },
     "execution_count": 28,
     "metadata": {},
     "output_type": "execute_result"
    }
   ],
   "source": [
    "# do fold 10 para o 7\n",
    "data = rebalance(data, 1, 7, 2)\n",
    "\n",
    "# número de aspectos por partićão\n",
    "apf_stats = aspect_per_fold(data)\n",
    "apf_stats"
   ],
   "metadata": {
    "collapsed": false
   }
  },
  {
   "cell_type": "code",
   "execution_count": 29,
   "outputs": [
    {
     "data": {
      "text/plain": "     fold  total_aspects\n0       1          233.0\n1       2          233.0\n2       3          233.0\n3       4          232.0\n4       5          232.0\n5       6          232.0\n6       7          233.0\n7       8          234.0\n8       9          232.0\n9      10          233.0\n10  total         2327.0\n11    std            0.7",
      "text/html": "<div>\n<style scoped>\n    .dataframe tbody tr th:only-of-type {\n        vertical-align: middle;\n    }\n\n    .dataframe tbody tr th {\n        vertical-align: top;\n    }\n\n    .dataframe thead th {\n        text-align: right;\n    }\n</style>\n<table border=\"1\" class=\"dataframe\">\n  <thead>\n    <tr style=\"text-align: right;\">\n      <th></th>\n      <th>fold</th>\n      <th>total_aspects</th>\n    </tr>\n  </thead>\n  <tbody>\n    <tr>\n      <th>0</th>\n      <td>1</td>\n      <td>233.0</td>\n    </tr>\n    <tr>\n      <th>1</th>\n      <td>2</td>\n      <td>233.0</td>\n    </tr>\n    <tr>\n      <th>2</th>\n      <td>3</td>\n      <td>233.0</td>\n    </tr>\n    <tr>\n      <th>3</th>\n      <td>4</td>\n      <td>232.0</td>\n    </tr>\n    <tr>\n      <th>4</th>\n      <td>5</td>\n      <td>232.0</td>\n    </tr>\n    <tr>\n      <th>5</th>\n      <td>6</td>\n      <td>232.0</td>\n    </tr>\n    <tr>\n      <th>6</th>\n      <td>7</td>\n      <td>233.0</td>\n    </tr>\n    <tr>\n      <th>7</th>\n      <td>8</td>\n      <td>234.0</td>\n    </tr>\n    <tr>\n      <th>8</th>\n      <td>9</td>\n      <td>232.0</td>\n    </tr>\n    <tr>\n      <th>9</th>\n      <td>10</td>\n      <td>233.0</td>\n    </tr>\n    <tr>\n      <th>10</th>\n      <td>total</td>\n      <td>2327.0</td>\n    </tr>\n    <tr>\n      <th>11</th>\n      <td>std</td>\n      <td>0.7</td>\n    </tr>\n  </tbody>\n</table>\n</div>"
     },
     "execution_count": 29,
     "metadata": {},
     "output_type": "execute_result"
    }
   ],
   "source": [
    "# do fold 10 para o 7\n",
    "data = rebalance(data, 1, 8, 3)\n",
    "\n",
    "# número de aspectos por partićão\n",
    "apf_stats = aspect_per_fold(data)\n",
    "apf_stats"
   ],
   "metadata": {
    "collapsed": false
   }
  },
  {
   "cell_type": "code",
   "execution_count": 30,
   "outputs": [
    {
     "data": {
      "text/plain": "     fold  total_aspects\n0       1          233.0\n1       2          233.0\n2       3          233.0\n3       4          233.0\n4       5          232.0\n5       6          232.0\n6       7          233.0\n7       8          233.0\n8       9          232.0\n9      10          233.0\n10  total         2327.0\n11    std            0.5",
      "text/html": "<div>\n<style scoped>\n    .dataframe tbody tr th:only-of-type {\n        vertical-align: middle;\n    }\n\n    .dataframe tbody tr th {\n        vertical-align: top;\n    }\n\n    .dataframe thead th {\n        text-align: right;\n    }\n</style>\n<table border=\"1\" class=\"dataframe\">\n  <thead>\n    <tr style=\"text-align: right;\">\n      <th></th>\n      <th>fold</th>\n      <th>total_aspects</th>\n    </tr>\n  </thead>\n  <tbody>\n    <tr>\n      <th>0</th>\n      <td>1</td>\n      <td>233.0</td>\n    </tr>\n    <tr>\n      <th>1</th>\n      <td>2</td>\n      <td>233.0</td>\n    </tr>\n    <tr>\n      <th>2</th>\n      <td>3</td>\n      <td>233.0</td>\n    </tr>\n    <tr>\n      <th>3</th>\n      <td>4</td>\n      <td>233.0</td>\n    </tr>\n    <tr>\n      <th>4</th>\n      <td>5</td>\n      <td>232.0</td>\n    </tr>\n    <tr>\n      <th>5</th>\n      <td>6</td>\n      <td>232.0</td>\n    </tr>\n    <tr>\n      <th>6</th>\n      <td>7</td>\n      <td>233.0</td>\n    </tr>\n    <tr>\n      <th>7</th>\n      <td>8</td>\n      <td>233.0</td>\n    </tr>\n    <tr>\n      <th>8</th>\n      <td>9</td>\n      <td>232.0</td>\n    </tr>\n    <tr>\n      <th>9</th>\n      <td>10</td>\n      <td>233.0</td>\n    </tr>\n    <tr>\n      <th>10</th>\n      <td>total</td>\n      <td>2327.0</td>\n    </tr>\n    <tr>\n      <th>11</th>\n      <td>std</td>\n      <td>0.5</td>\n    </tr>\n  </tbody>\n</table>\n</div>"
     },
     "execution_count": 30,
     "metadata": {},
     "output_type": "execute_result"
    }
   ],
   "source": [
    "# do fold 10 para o 7\n",
    "data = rebalance(data, 1, 8, 4)\n",
    "\n",
    "# número de aspectos por partićão\n",
    "apf_stats = aspect_per_fold(data)\n",
    "apf_stats"
   ],
   "metadata": {
    "collapsed": false
   }
  },
  {
   "cell_type": "code",
   "execution_count": 34,
   "outputs": [
    {
     "data": {
      "text/plain": "   fold  reviews\n4     1      115\n5     2      112\n0     3      122\n2     4      121\n1     5      122\n3     6      118\n6     7      109\n7     8      107\n8     9       89\n9    10       76",
      "text/html": "<div>\n<style scoped>\n    .dataframe tbody tr th:only-of-type {\n        vertical-align: middle;\n    }\n\n    .dataframe tbody tr th {\n        vertical-align: top;\n    }\n\n    .dataframe thead th {\n        text-align: right;\n    }\n</style>\n<table border=\"1\" class=\"dataframe\">\n  <thead>\n    <tr style=\"text-align: right;\">\n      <th></th>\n      <th>fold</th>\n      <th>reviews</th>\n    </tr>\n  </thead>\n  <tbody>\n    <tr>\n      <th>4</th>\n      <td>1</td>\n      <td>115</td>\n    </tr>\n    <tr>\n      <th>5</th>\n      <td>2</td>\n      <td>112</td>\n    </tr>\n    <tr>\n      <th>0</th>\n      <td>3</td>\n      <td>122</td>\n    </tr>\n    <tr>\n      <th>2</th>\n      <td>4</td>\n      <td>121</td>\n    </tr>\n    <tr>\n      <th>1</th>\n      <td>5</td>\n      <td>122</td>\n    </tr>\n    <tr>\n      <th>3</th>\n      <td>6</td>\n      <td>118</td>\n    </tr>\n    <tr>\n      <th>6</th>\n      <td>7</td>\n      <td>109</td>\n    </tr>\n    <tr>\n      <th>7</th>\n      <td>8</td>\n      <td>107</td>\n    </tr>\n    <tr>\n      <th>8</th>\n      <td>9</td>\n      <td>89</td>\n    </tr>\n    <tr>\n      <th>9</th>\n      <td>10</td>\n      <td>76</td>\n    </tr>\n  </tbody>\n</table>\n</div>"
     },
     "execution_count": 34,
     "metadata": {},
     "output_type": "execute_result"
    }
   ],
   "source": [
    "# número de reviews por fold\n",
    "def reviews_per_fold(df):\n",
    "    return df.fold.value_counts().reset_index().rename(columns={'fold': 'reviews', 'index': 'fold'}).sort_values('fold')\n",
    "rpf_stats = reviews_per_fold(data)\n",
    "rpf_stats"
   ],
   "metadata": {
    "collapsed": false
   }
  },
  {
   "cell_type": "code",
   "execution_count": 48,
   "outputs": [],
   "source": [
    "def rebalance_reviews(df, z, n, fold_from, fold_to):\n",
    "    tmp = df[(df.total_aspects == z) & (df.fold == fold_from)].sample(frac=1.).head(n)\n",
    "    df.loc[df.review.isin(tmp.review.values), 'fold'] = fold_to\n",
    "    return df"
   ],
   "metadata": {
    "collapsed": false
   }
  },
  {
   "cell_type": "code",
   "execution_count": 38,
   "outputs": [
    {
     "data": {
      "text/plain": "   fold  reviews\n5     1      110\n4     2      112\n0     3      122\n2     4      121\n1     5      122\n3     6      118\n6     7      109\n7     8      107\n8     9       89\n9    10       81",
      "text/html": "<div>\n<style scoped>\n    .dataframe tbody tr th:only-of-type {\n        vertical-align: middle;\n    }\n\n    .dataframe tbody tr th {\n        vertical-align: top;\n    }\n\n    .dataframe thead th {\n        text-align: right;\n    }\n</style>\n<table border=\"1\" class=\"dataframe\">\n  <thead>\n    <tr style=\"text-align: right;\">\n      <th></th>\n      <th>fold</th>\n      <th>reviews</th>\n    </tr>\n  </thead>\n  <tbody>\n    <tr>\n      <th>5</th>\n      <td>1</td>\n      <td>110</td>\n    </tr>\n    <tr>\n      <th>4</th>\n      <td>2</td>\n      <td>112</td>\n    </tr>\n    <tr>\n      <th>0</th>\n      <td>3</td>\n      <td>122</td>\n    </tr>\n    <tr>\n      <th>2</th>\n      <td>4</td>\n      <td>121</td>\n    </tr>\n    <tr>\n      <th>1</th>\n      <td>5</td>\n      <td>122</td>\n    </tr>\n    <tr>\n      <th>3</th>\n      <td>6</td>\n      <td>118</td>\n    </tr>\n    <tr>\n      <th>6</th>\n      <td>7</td>\n      <td>109</td>\n    </tr>\n    <tr>\n      <th>7</th>\n      <td>8</td>\n      <td>107</td>\n    </tr>\n    <tr>\n      <th>8</th>\n      <td>9</td>\n      <td>89</td>\n    </tr>\n    <tr>\n      <th>9</th>\n      <td>10</td>\n      <td>81</td>\n    </tr>\n  </tbody>\n</table>\n</div>"
     },
     "execution_count": 38,
     "metadata": {},
     "output_type": "execute_result"
    }
   ],
   "source": [
    "# rebalanceando o número de reviews\n",
    "data = rebalance_reviews(data, 0, 5, 1, 10)\n",
    "rpf_stats = reviews_per_fold(data)\n",
    "rpf_stats"
   ],
   "metadata": {
    "collapsed": false
   }
  },
  {
   "cell_type": "code",
   "execution_count": 39,
   "outputs": [
    {
     "data": {
      "text/plain": "   fold  reviews\n4     1      110\n5     2      109\n0     3      122\n2     4      121\n1     5      122\n3     6      118\n6     7      109\n7     8      107\n8     9       89\n9    10       84",
      "text/html": "<div>\n<style scoped>\n    .dataframe tbody tr th:only-of-type {\n        vertical-align: middle;\n    }\n\n    .dataframe tbody tr th {\n        vertical-align: top;\n    }\n\n    .dataframe thead th {\n        text-align: right;\n    }\n</style>\n<table border=\"1\" class=\"dataframe\">\n  <thead>\n    <tr style=\"text-align: right;\">\n      <th></th>\n      <th>fold</th>\n      <th>reviews</th>\n    </tr>\n  </thead>\n  <tbody>\n    <tr>\n      <th>4</th>\n      <td>1</td>\n      <td>110</td>\n    </tr>\n    <tr>\n      <th>5</th>\n      <td>2</td>\n      <td>109</td>\n    </tr>\n    <tr>\n      <th>0</th>\n      <td>3</td>\n      <td>122</td>\n    </tr>\n    <tr>\n      <th>2</th>\n      <td>4</td>\n      <td>121</td>\n    </tr>\n    <tr>\n      <th>1</th>\n      <td>5</td>\n      <td>122</td>\n    </tr>\n    <tr>\n      <th>3</th>\n      <td>6</td>\n      <td>118</td>\n    </tr>\n    <tr>\n      <th>6</th>\n      <td>7</td>\n      <td>109</td>\n    </tr>\n    <tr>\n      <th>7</th>\n      <td>8</td>\n      <td>107</td>\n    </tr>\n    <tr>\n      <th>8</th>\n      <td>9</td>\n      <td>89</td>\n    </tr>\n    <tr>\n      <th>9</th>\n      <td>10</td>\n      <td>84</td>\n    </tr>\n  </tbody>\n</table>\n</div>"
     },
     "execution_count": 39,
     "metadata": {},
     "output_type": "execute_result"
    }
   ],
   "source": [
    "# rebalanceando o número de reviews\n",
    "data = rebalance_reviews(data, 0, 3, 2, 10)\n",
    "rpf_stats = reviews_per_fold(data)\n",
    "rpf_stats"
   ],
   "metadata": {
    "collapsed": false
   }
  },
  {
   "cell_type": "code",
   "execution_count": 40,
   "outputs": [
    {
     "data": {
      "text/plain": "   fold  reviews\n4     1      110\n5     2      109\n3     3      112\n1     4      121\n0     5      122\n2     6      118\n6     7      109\n7     8      107\n8     9       99\n9    10       84",
      "text/html": "<div>\n<style scoped>\n    .dataframe tbody tr th:only-of-type {\n        vertical-align: middle;\n    }\n\n    .dataframe tbody tr th {\n        vertical-align: top;\n    }\n\n    .dataframe thead th {\n        text-align: right;\n    }\n</style>\n<table border=\"1\" class=\"dataframe\">\n  <thead>\n    <tr style=\"text-align: right;\">\n      <th></th>\n      <th>fold</th>\n      <th>reviews</th>\n    </tr>\n  </thead>\n  <tbody>\n    <tr>\n      <th>4</th>\n      <td>1</td>\n      <td>110</td>\n    </tr>\n    <tr>\n      <th>5</th>\n      <td>2</td>\n      <td>109</td>\n    </tr>\n    <tr>\n      <th>3</th>\n      <td>3</td>\n      <td>112</td>\n    </tr>\n    <tr>\n      <th>1</th>\n      <td>4</td>\n      <td>121</td>\n    </tr>\n    <tr>\n      <th>0</th>\n      <td>5</td>\n      <td>122</td>\n    </tr>\n    <tr>\n      <th>2</th>\n      <td>6</td>\n      <td>118</td>\n    </tr>\n    <tr>\n      <th>6</th>\n      <td>7</td>\n      <td>109</td>\n    </tr>\n    <tr>\n      <th>7</th>\n      <td>8</td>\n      <td>107</td>\n    </tr>\n    <tr>\n      <th>8</th>\n      <td>9</td>\n      <td>99</td>\n    </tr>\n    <tr>\n      <th>9</th>\n      <td>10</td>\n      <td>84</td>\n    </tr>\n  </tbody>\n</table>\n</div>"
     },
     "execution_count": 40,
     "metadata": {},
     "output_type": "execute_result"
    }
   ],
   "source": [
    "# rebalanceando o número de reviews\n",
    "data = rebalance_reviews(data, 0, 13, 3, 9)\n",
    "rpf_stats = reviews_per_fold(data)\n",
    "rpf_stats"
   ],
   "metadata": {
    "collapsed": false
   }
  },
  {
   "cell_type": "code",
   "execution_count": 42,
   "outputs": [
    {
     "data": {
      "text/plain": "   fold  reviews\n4     1      110\n5     2      109\n2     3      112\n3     4      111\n0     5      122\n1     6      118\n7     7      109\n8     8      107\n6     9      109\n9    10       84",
      "text/html": "<div>\n<style scoped>\n    .dataframe tbody tr th:only-of-type {\n        vertical-align: middle;\n    }\n\n    .dataframe tbody tr th {\n        vertical-align: top;\n    }\n\n    .dataframe thead th {\n        text-align: right;\n    }\n</style>\n<table border=\"1\" class=\"dataframe\">\n  <thead>\n    <tr style=\"text-align: right;\">\n      <th></th>\n      <th>fold</th>\n      <th>reviews</th>\n    </tr>\n  </thead>\n  <tbody>\n    <tr>\n      <th>4</th>\n      <td>1</td>\n      <td>110</td>\n    </tr>\n    <tr>\n      <th>5</th>\n      <td>2</td>\n      <td>109</td>\n    </tr>\n    <tr>\n      <th>2</th>\n      <td>3</td>\n      <td>112</td>\n    </tr>\n    <tr>\n      <th>3</th>\n      <td>4</td>\n      <td>111</td>\n    </tr>\n    <tr>\n      <th>0</th>\n      <td>5</td>\n      <td>122</td>\n    </tr>\n    <tr>\n      <th>1</th>\n      <td>6</td>\n      <td>118</td>\n    </tr>\n    <tr>\n      <th>7</th>\n      <td>7</td>\n      <td>109</td>\n    </tr>\n    <tr>\n      <th>8</th>\n      <td>8</td>\n      <td>107</td>\n    </tr>\n    <tr>\n      <th>6</th>\n      <td>9</td>\n      <td>109</td>\n    </tr>\n    <tr>\n      <th>9</th>\n      <td>10</td>\n      <td>84</td>\n    </tr>\n  </tbody>\n</table>\n</div>"
     },
     "execution_count": 42,
     "metadata": {},
     "output_type": "execute_result"
    }
   ],
   "source": [
    "# rebalanceando o número de reviews\n",
    "data = rebalance_reviews(data, 0, 10, 4, 9)\n",
    "rpf_stats = reviews_per_fold(data)\n",
    "rpf_stats"
   ],
   "metadata": {
    "collapsed": false
   }
  },
  {
   "cell_type": "code",
   "execution_count": 45,
   "outputs": [
    {
     "data": {
      "text/plain": "   fold  reviews\n4     1      110\n5     2      109\n1     3      112\n3     4      111\n2     5      112\n0     6      118\n7     7      109\n8     8      107\n6     9      109\n9    10       94",
      "text/html": "<div>\n<style scoped>\n    .dataframe tbody tr th:only-of-type {\n        vertical-align: middle;\n    }\n\n    .dataframe tbody tr th {\n        vertical-align: top;\n    }\n\n    .dataframe thead th {\n        text-align: right;\n    }\n</style>\n<table border=\"1\" class=\"dataframe\">\n  <thead>\n    <tr style=\"text-align: right;\">\n      <th></th>\n      <th>fold</th>\n      <th>reviews</th>\n    </tr>\n  </thead>\n  <tbody>\n    <tr>\n      <th>4</th>\n      <td>1</td>\n      <td>110</td>\n    </tr>\n    <tr>\n      <th>5</th>\n      <td>2</td>\n      <td>109</td>\n    </tr>\n    <tr>\n      <th>1</th>\n      <td>3</td>\n      <td>112</td>\n    </tr>\n    <tr>\n      <th>3</th>\n      <td>4</td>\n      <td>111</td>\n    </tr>\n    <tr>\n      <th>2</th>\n      <td>5</td>\n      <td>112</td>\n    </tr>\n    <tr>\n      <th>0</th>\n      <td>6</td>\n      <td>118</td>\n    </tr>\n    <tr>\n      <th>7</th>\n      <td>7</td>\n      <td>109</td>\n    </tr>\n    <tr>\n      <th>8</th>\n      <td>8</td>\n      <td>107</td>\n    </tr>\n    <tr>\n      <th>6</th>\n      <td>9</td>\n      <td>109</td>\n    </tr>\n    <tr>\n      <th>9</th>\n      <td>10</td>\n      <td>94</td>\n    </tr>\n  </tbody>\n</table>\n</div>"
     },
     "execution_count": 45,
     "metadata": {},
     "output_type": "execute_result"
    }
   ],
   "source": [
    "# rebalanceando o número de reviews\n",
    "data = rebalance_reviews(data, 0, 13, 5, 10)\n",
    "rpf_stats = reviews_per_fold(data)\n",
    "rpf_stats"
   ],
   "metadata": {
    "collapsed": false
   }
  },
  {
   "cell_type": "code",
   "execution_count": 47,
   "outputs": [
    {
     "data": {
      "text/plain": "   fold  reviews\n3     1      110\n4     2      109\n0     3      112\n2     4      111\n1     5      112\n6     6      109\n7     7      109\n8     8      107\n5     9      109\n9    10      103",
      "text/html": "<div>\n<style scoped>\n    .dataframe tbody tr th:only-of-type {\n        vertical-align: middle;\n    }\n\n    .dataframe tbody tr th {\n        vertical-align: top;\n    }\n\n    .dataframe thead th {\n        text-align: right;\n    }\n</style>\n<table border=\"1\" class=\"dataframe\">\n  <thead>\n    <tr style=\"text-align: right;\">\n      <th></th>\n      <th>fold</th>\n      <th>reviews</th>\n    </tr>\n  </thead>\n  <tbody>\n    <tr>\n      <th>3</th>\n      <td>1</td>\n      <td>110</td>\n    </tr>\n    <tr>\n      <th>4</th>\n      <td>2</td>\n      <td>109</td>\n    </tr>\n    <tr>\n      <th>0</th>\n      <td>3</td>\n      <td>112</td>\n    </tr>\n    <tr>\n      <th>2</th>\n      <td>4</td>\n      <td>111</td>\n    </tr>\n    <tr>\n      <th>1</th>\n      <td>5</td>\n      <td>112</td>\n    </tr>\n    <tr>\n      <th>6</th>\n      <td>6</td>\n      <td>109</td>\n    </tr>\n    <tr>\n      <th>7</th>\n      <td>7</td>\n      <td>109</td>\n    </tr>\n    <tr>\n      <th>8</th>\n      <td>8</td>\n      <td>107</td>\n    </tr>\n    <tr>\n      <th>5</th>\n      <td>9</td>\n      <td>109</td>\n    </tr>\n    <tr>\n      <th>9</th>\n      <td>10</td>\n      <td>103</td>\n    </tr>\n  </tbody>\n</table>\n</div>"
     },
     "execution_count": 47,
     "metadata": {},
     "output_type": "execute_result"
    }
   ],
   "source": [
    "# rebalanceando o número de reviews\n",
    "data = rebalance_reviews(data, 0, 9, 6, 10)\n",
    "rpf_stats = reviews_per_fold(data)\n",
    "rpf_stats"
   ],
   "metadata": {
    "collapsed": false
   }
  },
  {
   "cell_type": "code",
   "execution_count": 49,
   "outputs": [
    {
     "data": {
      "text/plain": "   fold  reviews\n2     1      110\n3     2      109\n4     3      109\n1     4      111\n0     5      112\n6     6      109\n7     7      109\n8     8      107\n5     9      109\n9    10      106",
      "text/html": "<div>\n<style scoped>\n    .dataframe tbody tr th:only-of-type {\n        vertical-align: middle;\n    }\n\n    .dataframe tbody tr th {\n        vertical-align: top;\n    }\n\n    .dataframe thead th {\n        text-align: right;\n    }\n</style>\n<table border=\"1\" class=\"dataframe\">\n  <thead>\n    <tr style=\"text-align: right;\">\n      <th></th>\n      <th>fold</th>\n      <th>reviews</th>\n    </tr>\n  </thead>\n  <tbody>\n    <tr>\n      <th>2</th>\n      <td>1</td>\n      <td>110</td>\n    </tr>\n    <tr>\n      <th>3</th>\n      <td>2</td>\n      <td>109</td>\n    </tr>\n    <tr>\n      <th>4</th>\n      <td>3</td>\n      <td>109</td>\n    </tr>\n    <tr>\n      <th>1</th>\n      <td>4</td>\n      <td>111</td>\n    </tr>\n    <tr>\n      <th>0</th>\n      <td>5</td>\n      <td>112</td>\n    </tr>\n    <tr>\n      <th>6</th>\n      <td>6</td>\n      <td>109</td>\n    </tr>\n    <tr>\n      <th>7</th>\n      <td>7</td>\n      <td>109</td>\n    </tr>\n    <tr>\n      <th>8</th>\n      <td>8</td>\n      <td>107</td>\n    </tr>\n    <tr>\n      <th>5</th>\n      <td>9</td>\n      <td>109</td>\n    </tr>\n    <tr>\n      <th>9</th>\n      <td>10</td>\n      <td>106</td>\n    </tr>\n  </tbody>\n</table>\n</div>"
     },
     "execution_count": 49,
     "metadata": {},
     "output_type": "execute_result"
    }
   ],
   "source": [
    "# rebalanceando o número de reviews\n",
    "data = rebalance_reviews(data, 1, 3, 3, 10)\n",
    "rpf_stats = reviews_per_fold(data)\n",
    "rpf_stats"
   ],
   "metadata": {
    "collapsed": false
   }
  },
  {
   "cell_type": "code",
   "execution_count": 50,
   "outputs": [
    {
     "data": {
      "text/plain": "   fold  reviews\n1     1      110\n2     2      109\n3     3      109\n5     4      109\n0     5      112\n6     6      109\n7     7      109\n9     8      107\n4     9      109\n8    10      108",
      "text/html": "<div>\n<style scoped>\n    .dataframe tbody tr th:only-of-type {\n        vertical-align: middle;\n    }\n\n    .dataframe tbody tr th {\n        vertical-align: top;\n    }\n\n    .dataframe thead th {\n        text-align: right;\n    }\n</style>\n<table border=\"1\" class=\"dataframe\">\n  <thead>\n    <tr style=\"text-align: right;\">\n      <th></th>\n      <th>fold</th>\n      <th>reviews</th>\n    </tr>\n  </thead>\n  <tbody>\n    <tr>\n      <th>1</th>\n      <td>1</td>\n      <td>110</td>\n    </tr>\n    <tr>\n      <th>2</th>\n      <td>2</td>\n      <td>109</td>\n    </tr>\n    <tr>\n      <th>3</th>\n      <td>3</td>\n      <td>109</td>\n    </tr>\n    <tr>\n      <th>5</th>\n      <td>4</td>\n      <td>109</td>\n    </tr>\n    <tr>\n      <th>0</th>\n      <td>5</td>\n      <td>112</td>\n    </tr>\n    <tr>\n      <th>6</th>\n      <td>6</td>\n      <td>109</td>\n    </tr>\n    <tr>\n      <th>7</th>\n      <td>7</td>\n      <td>109</td>\n    </tr>\n    <tr>\n      <th>9</th>\n      <td>8</td>\n      <td>107</td>\n    </tr>\n    <tr>\n      <th>4</th>\n      <td>9</td>\n      <td>109</td>\n    </tr>\n    <tr>\n      <th>8</th>\n      <td>10</td>\n      <td>108</td>\n    </tr>\n  </tbody>\n</table>\n</div>"
     },
     "execution_count": 50,
     "metadata": {},
     "output_type": "execute_result"
    }
   ],
   "source": [
    "# rebalanceando o número de reviews\n",
    "data = rebalance_reviews(data, 1, 2, 4, 10)\n",
    "rpf_stats = reviews_per_fold(data)\n",
    "rpf_stats"
   ],
   "metadata": {
    "collapsed": false
   }
  },
  {
   "cell_type": "code",
   "execution_count": 51,
   "outputs": [
    {
     "data": {
      "text/plain": "   fold  reviews\n0     1      110\n2     2      109\n3     3      109\n5     4      109\n1     5      110\n7     6      109\n8     7      109\n6     8      109\n4     9      109\n9    10      108",
      "text/html": "<div>\n<style scoped>\n    .dataframe tbody tr th:only-of-type {\n        vertical-align: middle;\n    }\n\n    .dataframe tbody tr th {\n        vertical-align: top;\n    }\n\n    .dataframe thead th {\n        text-align: right;\n    }\n</style>\n<table border=\"1\" class=\"dataframe\">\n  <thead>\n    <tr style=\"text-align: right;\">\n      <th></th>\n      <th>fold</th>\n      <th>reviews</th>\n    </tr>\n  </thead>\n  <tbody>\n    <tr>\n      <th>0</th>\n      <td>1</td>\n      <td>110</td>\n    </tr>\n    <tr>\n      <th>2</th>\n      <td>2</td>\n      <td>109</td>\n    </tr>\n    <tr>\n      <th>3</th>\n      <td>3</td>\n      <td>109</td>\n    </tr>\n    <tr>\n      <th>5</th>\n      <td>4</td>\n      <td>109</td>\n    </tr>\n    <tr>\n      <th>1</th>\n      <td>5</td>\n      <td>110</td>\n    </tr>\n    <tr>\n      <th>7</th>\n      <td>6</td>\n      <td>109</td>\n    </tr>\n    <tr>\n      <th>8</th>\n      <td>7</td>\n      <td>109</td>\n    </tr>\n    <tr>\n      <th>6</th>\n      <td>8</td>\n      <td>109</td>\n    </tr>\n    <tr>\n      <th>4</th>\n      <td>9</td>\n      <td>109</td>\n    </tr>\n    <tr>\n      <th>9</th>\n      <td>10</td>\n      <td>108</td>\n    </tr>\n  </tbody>\n</table>\n</div>"
     },
     "execution_count": 51,
     "metadata": {},
     "output_type": "execute_result"
    }
   ],
   "source": [
    "# rebalanceando o número de reviews\n",
    "data = rebalance_reviews(data, 1, 2, 5, 8)\n",
    "rpf_stats = reviews_per_fold(data)\n",
    "rpf_stats"
   ],
   "metadata": {
    "collapsed": false
   }
  },
  {
   "cell_type": "code",
   "execution_count": 52,
   "outputs": [
    {
     "data": {
      "text/plain": "   fold  reviews\n0     1      110\n2     2      109\n3     3      109\n5     4      109\n6     5      109\n8     6      109\n9     7      109\n7     8      109\n4     9      109\n1    10      109",
      "text/html": "<div>\n<style scoped>\n    .dataframe tbody tr th:only-of-type {\n        vertical-align: middle;\n    }\n\n    .dataframe tbody tr th {\n        vertical-align: top;\n    }\n\n    .dataframe thead th {\n        text-align: right;\n    }\n</style>\n<table border=\"1\" class=\"dataframe\">\n  <thead>\n    <tr style=\"text-align: right;\">\n      <th></th>\n      <th>fold</th>\n      <th>reviews</th>\n    </tr>\n  </thead>\n  <tbody>\n    <tr>\n      <th>0</th>\n      <td>1</td>\n      <td>110</td>\n    </tr>\n    <tr>\n      <th>2</th>\n      <td>2</td>\n      <td>109</td>\n    </tr>\n    <tr>\n      <th>3</th>\n      <td>3</td>\n      <td>109</td>\n    </tr>\n    <tr>\n      <th>5</th>\n      <td>4</td>\n      <td>109</td>\n    </tr>\n    <tr>\n      <th>6</th>\n      <td>5</td>\n      <td>109</td>\n    </tr>\n    <tr>\n      <th>8</th>\n      <td>6</td>\n      <td>109</td>\n    </tr>\n    <tr>\n      <th>9</th>\n      <td>7</td>\n      <td>109</td>\n    </tr>\n    <tr>\n      <th>7</th>\n      <td>8</td>\n      <td>109</td>\n    </tr>\n    <tr>\n      <th>4</th>\n      <td>9</td>\n      <td>109</td>\n    </tr>\n    <tr>\n      <th>1</th>\n      <td>10</td>\n      <td>109</td>\n    </tr>\n  </tbody>\n</table>\n</div>"
     },
     "execution_count": 52,
     "metadata": {},
     "output_type": "execute_result"
    }
   ],
   "source": [
    "# rebalanceando o número de reviews\n",
    "data = rebalance_reviews(data, 1, 1, 5, 10)\n",
    "rpf_stats = reviews_per_fold(data)\n",
    "rpf_stats"
   ],
   "metadata": {
    "collapsed": false
   }
  },
  {
   "cell_type": "code",
   "execution_count": 54,
   "outputs": [
    {
     "data": {
      "text/plain": "     fold  total_aspects\n0       1          233.0\n1       2          233.0\n2       3          230.0\n3       4          231.0\n4       5          229.0\n5       6          232.0\n6       7          233.0\n7       8          235.0\n8       9          232.0\n9      10          239.0\n10  total         2327.0\n11    std            2.8",
      "text/html": "<div>\n<style scoped>\n    .dataframe tbody tr th:only-of-type {\n        vertical-align: middle;\n    }\n\n    .dataframe tbody tr th {\n        vertical-align: top;\n    }\n\n    .dataframe thead th {\n        text-align: right;\n    }\n</style>\n<table border=\"1\" class=\"dataframe\">\n  <thead>\n    <tr style=\"text-align: right;\">\n      <th></th>\n      <th>fold</th>\n      <th>total_aspects</th>\n    </tr>\n  </thead>\n  <tbody>\n    <tr>\n      <th>0</th>\n      <td>1</td>\n      <td>233.0</td>\n    </tr>\n    <tr>\n      <th>1</th>\n      <td>2</td>\n      <td>233.0</td>\n    </tr>\n    <tr>\n      <th>2</th>\n      <td>3</td>\n      <td>230.0</td>\n    </tr>\n    <tr>\n      <th>3</th>\n      <td>4</td>\n      <td>231.0</td>\n    </tr>\n    <tr>\n      <th>4</th>\n      <td>5</td>\n      <td>229.0</td>\n    </tr>\n    <tr>\n      <th>5</th>\n      <td>6</td>\n      <td>232.0</td>\n    </tr>\n    <tr>\n      <th>6</th>\n      <td>7</td>\n      <td>233.0</td>\n    </tr>\n    <tr>\n      <th>7</th>\n      <td>8</td>\n      <td>235.0</td>\n    </tr>\n    <tr>\n      <th>8</th>\n      <td>9</td>\n      <td>232.0</td>\n    </tr>\n    <tr>\n      <th>9</th>\n      <td>10</td>\n      <td>239.0</td>\n    </tr>\n    <tr>\n      <th>10</th>\n      <td>total</td>\n      <td>2327.0</td>\n    </tr>\n    <tr>\n      <th>11</th>\n      <td>std</td>\n      <td>2.8</td>\n    </tr>\n  </tbody>\n</table>\n</div>"
     },
     "execution_count": 54,
     "metadata": {},
     "output_type": "execute_result"
    }
   ],
   "source": [
    "apf_stats = aspect_per_fold(data)\n",
    "apf_stats"
   ],
   "metadata": {
    "collapsed": false
   }
  },
  {
   "cell_type": "code",
   "execution_count": 55,
   "outputs": [
    {
     "data": {
      "text/plain": "   fold  reviews\n0     1      110\n2     2      109\n3     3      109\n5     4      109\n1     5      110\n7     6      109\n8     7      109\n6     8      109\n4     9      109\n9    10      108",
      "text/html": "<div>\n<style scoped>\n    .dataframe tbody tr th:only-of-type {\n        vertical-align: middle;\n    }\n\n    .dataframe tbody tr th {\n        vertical-align: top;\n    }\n\n    .dataframe thead th {\n        text-align: right;\n    }\n</style>\n<table border=\"1\" class=\"dataframe\">\n  <thead>\n    <tr style=\"text-align: right;\">\n      <th></th>\n      <th>fold</th>\n      <th>reviews</th>\n    </tr>\n  </thead>\n  <tbody>\n    <tr>\n      <th>0</th>\n      <td>1</td>\n      <td>110</td>\n    </tr>\n    <tr>\n      <th>2</th>\n      <td>2</td>\n      <td>109</td>\n    </tr>\n    <tr>\n      <th>3</th>\n      <td>3</td>\n      <td>109</td>\n    </tr>\n    <tr>\n      <th>5</th>\n      <td>4</td>\n      <td>109</td>\n    </tr>\n    <tr>\n      <th>1</th>\n      <td>5</td>\n      <td>110</td>\n    </tr>\n    <tr>\n      <th>7</th>\n      <td>6</td>\n      <td>109</td>\n    </tr>\n    <tr>\n      <th>8</th>\n      <td>7</td>\n      <td>109</td>\n    </tr>\n    <tr>\n      <th>6</th>\n      <td>8</td>\n      <td>109</td>\n    </tr>\n    <tr>\n      <th>4</th>\n      <td>9</td>\n      <td>109</td>\n    </tr>\n    <tr>\n      <th>9</th>\n      <td>10</td>\n      <td>108</td>\n    </tr>\n  </tbody>\n</table>\n</div>"
     },
     "execution_count": 55,
     "metadata": {},
     "output_type": "execute_result"
    }
   ],
   "source": [
    "# rebalanceando o número de reviews\n",
    "data = rebalance_reviews(data, 4, 1, 10, 5)\n",
    "rpf_stats = reviews_per_fold(data)\n",
    "rpf_stats"
   ],
   "metadata": {
    "collapsed": false
   }
  },
  {
   "cell_type": "code",
   "execution_count": 56,
   "outputs": [
    {
     "data": {
      "text/plain": "     fold  total_aspects\n0       1          233.0\n1       2          233.0\n2       3          230.0\n3       4          231.0\n4       5          233.0\n5       6          232.0\n6       7          233.0\n7       8          235.0\n8       9          232.0\n9      10          235.0\n10  total         2327.0\n11    std            1.6",
      "text/html": "<div>\n<style scoped>\n    .dataframe tbody tr th:only-of-type {\n        vertical-align: middle;\n    }\n\n    .dataframe tbody tr th {\n        vertical-align: top;\n    }\n\n    .dataframe thead th {\n        text-align: right;\n    }\n</style>\n<table border=\"1\" class=\"dataframe\">\n  <thead>\n    <tr style=\"text-align: right;\">\n      <th></th>\n      <th>fold</th>\n      <th>total_aspects</th>\n    </tr>\n  </thead>\n  <tbody>\n    <tr>\n      <th>0</th>\n      <td>1</td>\n      <td>233.0</td>\n    </tr>\n    <tr>\n      <th>1</th>\n      <td>2</td>\n      <td>233.0</td>\n    </tr>\n    <tr>\n      <th>2</th>\n      <td>3</td>\n      <td>230.0</td>\n    </tr>\n    <tr>\n      <th>3</th>\n      <td>4</td>\n      <td>231.0</td>\n    </tr>\n    <tr>\n      <th>4</th>\n      <td>5</td>\n      <td>233.0</td>\n    </tr>\n    <tr>\n      <th>5</th>\n      <td>6</td>\n      <td>232.0</td>\n    </tr>\n    <tr>\n      <th>6</th>\n      <td>7</td>\n      <td>233.0</td>\n    </tr>\n    <tr>\n      <th>7</th>\n      <td>8</td>\n      <td>235.0</td>\n    </tr>\n    <tr>\n      <th>8</th>\n      <td>9</td>\n      <td>232.0</td>\n    </tr>\n    <tr>\n      <th>9</th>\n      <td>10</td>\n      <td>235.0</td>\n    </tr>\n    <tr>\n      <th>10</th>\n      <td>total</td>\n      <td>2327.0</td>\n    </tr>\n    <tr>\n      <th>11</th>\n      <td>std</td>\n      <td>1.6</td>\n    </tr>\n  </tbody>\n</table>\n</div>"
     },
     "execution_count": 56,
     "metadata": {},
     "output_type": "execute_result"
    }
   ],
   "source": [
    "apf_stats = aspect_per_fold(data)\n",
    "apf_stats"
   ],
   "metadata": {
    "collapsed": false
   }
  },
  {
   "cell_type": "code",
   "execution_count": 57,
   "outputs": [],
   "source": [
    "data.to_csv('../datasets/processed/tv_stratified.csv', index=False)"
   ],
   "metadata": {
    "collapsed": false
   }
  }
 ],
 "metadata": {
  "kernelspec": {
   "display_name": "Python 3",
   "language": "python",
   "name": "python3"
  },
  "language_info": {
   "codemirror_mode": {
    "name": "ipython",
    "version": 2
   },
   "file_extension": ".py",
   "mimetype": "text/x-python",
   "name": "python",
   "nbconvert_exporter": "python",
   "pygments_lexer": "ipython2",
   "version": "2.7.6"
  }
 },
 "nbformat": 4,
 "nbformat_minor": 0
}
