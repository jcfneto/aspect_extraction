{
 "cells": [
  {
   "cell_type": "code",
   "execution_count": 1,
   "metadata": {
    "collapsed": true
   },
   "outputs": [],
   "source": [
    "import pandas as pd\n",
    "\n",
    "from src import utils\n",
    "from src import pre_processing"
   ]
  },
  {
   "cell_type": "code",
   "execution_count": 2,
   "outputs": [
    {
     "data": {
      "text/plain": "                                              tokens  \\\n0  [Excelente, smart, tv, ., E, foi, entregue, ve...   \n\n                               aspect_tags  \n0  [0, 1, 2, 0, 0, 0, 0, 0, 0, 0, 0, 0, 0]  ",
      "text/html": "<div>\n<style scoped>\n    .dataframe tbody tr th:only-of-type {\n        vertical-align: middle;\n    }\n\n    .dataframe tbody tr th {\n        vertical-align: top;\n    }\n\n    .dataframe thead th {\n        text-align: right;\n    }\n</style>\n<table border=\"1\" class=\"dataframe\">\n  <thead>\n    <tr style=\"text-align: right;\">\n      <th></th>\n      <th>tokens</th>\n      <th>aspect_tags</th>\n    </tr>\n  </thead>\n  <tbody>\n    <tr>\n      <th>0</th>\n      <td>[Excelente, smart, tv, ., E, foi, entregue, ve...</td>\n      <td>[0, 1, 2, 0, 0, 0, 0, 0, 0, 0, 0, 0, 0]</td>\n    </tr>\n  </tbody>\n</table>\n</div>"
     },
     "execution_count": 2,
     "metadata": {},
     "output_type": "execute_result"
    }
   ],
   "source": [
    "# lendo e pré-processando os dados (json to dataframe)\n",
    "data = pre_processing.pre_processing_tv_dataset('datasets/tv/data.json')\n",
    "data.head(1)"
   ],
   "metadata": {
    "collapsed": false
   }
  },
  {
   "cell_type": "code",
   "execution_count": 3,
   "outputs": [
    {
     "data": {
      "text/plain": "                                              tokens  \\\n0  [Excelente, smart, tv, ., E, foi, entregue, ve...   \n\n                               aspect_tags  num_aspects  \n0  [0, 1, 2, 0, 0, 0, 0, 0, 0, 0, 0, 0, 0]            1  ",
      "text/html": "<div>\n<style scoped>\n    .dataframe tbody tr th:only-of-type {\n        vertical-align: middle;\n    }\n\n    .dataframe tbody tr th {\n        vertical-align: top;\n    }\n\n    .dataframe thead th {\n        text-align: right;\n    }\n</style>\n<table border=\"1\" class=\"dataframe\">\n  <thead>\n    <tr style=\"text-align: right;\">\n      <th></th>\n      <th>tokens</th>\n      <th>aspect_tags</th>\n      <th>num_aspects</th>\n    </tr>\n  </thead>\n  <tbody>\n    <tr>\n      <th>0</th>\n      <td>[Excelente, smart, tv, ., E, foi, entregue, ve...</td>\n      <td>[0, 1, 2, 0, 0, 0, 0, 0, 0, 0, 0, 0, 0]</td>\n      <td>1</td>\n    </tr>\n  </tbody>\n</table>\n</div>"
     },
     "execution_count": 3,
     "metadata": {},
     "output_type": "execute_result"
    }
   ],
   "source": [
    "# contabilizando o número de aspectos por registro\n",
    "data = utils.aspect_counter(data)\n",
    "data.head(1)"
   ],
   "metadata": {
    "collapsed": false
   }
  },
  {
   "cell_type": "code",
   "execution_count": 4,
   "outputs": [
    {
     "data": {
      "text/plain": "                                              tokens  \\\n0  [Excelente, smart, tv, ., E, foi, entregue, ve...   \n\n                               aspect_tags  num_aspects  has_aspect  \n0  [0, 1, 2, 0, 0, 0, 0, 0, 0, 0, 0, 0, 0]            1           1  ",
      "text/html": "<div>\n<style scoped>\n    .dataframe tbody tr th:only-of-type {\n        vertical-align: middle;\n    }\n\n    .dataframe tbody tr th {\n        vertical-align: top;\n    }\n\n    .dataframe thead th {\n        text-align: right;\n    }\n</style>\n<table border=\"1\" class=\"dataframe\">\n  <thead>\n    <tr style=\"text-align: right;\">\n      <th></th>\n      <th>tokens</th>\n      <th>aspect_tags</th>\n      <th>num_aspects</th>\n      <th>has_aspect</th>\n    </tr>\n  </thead>\n  <tbody>\n    <tr>\n      <th>0</th>\n      <td>[Excelente, smart, tv, ., E, foi, entregue, ve...</td>\n      <td>[0, 1, 2, 0, 0, 0, 0, 0, 0, 0, 0, 0, 0]</td>\n      <td>1</td>\n      <td>1</td>\n    </tr>\n  </tbody>\n</table>\n</div>"
     },
     "execution_count": 4,
     "metadata": {},
     "output_type": "execute_result"
    }
   ],
   "source": [
    "# definindo se um registro possui aspecto ou não\n",
    "data = utils.has_aspect(data)\n",
    "data.head(1)"
   ],
   "metadata": {
    "collapsed": false
   }
  },
  {
   "cell_type": "code",
   "execution_count": 5,
   "outputs": [
    {
     "data": {
      "text/plain": "    num_aspects  original_dataset\n0             2          0.310724\n1             1          0.256645\n2             3          0.190651\n3             4          0.097159\n4             0          0.093492\n5             5          0.028414\n6             6          0.013749\n7             7          0.006416\n8             8          0.000917\n9             9          0.000917\n10           10          0.000917",
      "text/html": "<div>\n<style scoped>\n    .dataframe tbody tr th:only-of-type {\n        vertical-align: middle;\n    }\n\n    .dataframe tbody tr th {\n        vertical-align: top;\n    }\n\n    .dataframe thead th {\n        text-align: right;\n    }\n</style>\n<table border=\"1\" class=\"dataframe\">\n  <thead>\n    <tr style=\"text-align: right;\">\n      <th></th>\n      <th>num_aspects</th>\n      <th>original_dataset</th>\n    </tr>\n  </thead>\n  <tbody>\n    <tr>\n      <th>0</th>\n      <td>2</td>\n      <td>0.310724</td>\n    </tr>\n    <tr>\n      <th>1</th>\n      <td>1</td>\n      <td>0.256645</td>\n    </tr>\n    <tr>\n      <th>2</th>\n      <td>3</td>\n      <td>0.190651</td>\n    </tr>\n    <tr>\n      <th>3</th>\n      <td>4</td>\n      <td>0.097159</td>\n    </tr>\n    <tr>\n      <th>4</th>\n      <td>0</td>\n      <td>0.093492</td>\n    </tr>\n    <tr>\n      <th>5</th>\n      <td>5</td>\n      <td>0.028414</td>\n    </tr>\n    <tr>\n      <th>6</th>\n      <td>6</td>\n      <td>0.013749</td>\n    </tr>\n    <tr>\n      <th>7</th>\n      <td>7</td>\n      <td>0.006416</td>\n    </tr>\n    <tr>\n      <th>8</th>\n      <td>8</td>\n      <td>0.000917</td>\n    </tr>\n    <tr>\n      <th>9</th>\n      <td>9</td>\n      <td>0.000917</td>\n    </tr>\n    <tr>\n      <th>10</th>\n      <td>10</td>\n      <td>0.000917</td>\n    </tr>\n  </tbody>\n</table>\n</div>"
     },
     "execution_count": 5,
     "metadata": {},
     "output_type": "execute_result"
    }
   ],
   "source": [
    "# contabilizando a quantidade de registros por número de aspectos na frase do dataset original\n",
    "num_aspects_summary = data.num_aspects.value_counts(normalize=True).reset_index().rename(\n",
    "    columns={'num_aspects': 'original_dataset', 'index': 'num_aspects'})\n",
    "num_aspects_summary"
   ],
   "metadata": {
    "collapsed": false
   }
  },
  {
   "cell_type": "code",
   "execution_count": 6,
   "outputs": [
    {
     "data": {
      "text/plain": "   has_aspect  original_dataset\n0           1          0.906508\n1           0          0.093492",
      "text/html": "<div>\n<style scoped>\n    .dataframe tbody tr th:only-of-type {\n        vertical-align: middle;\n    }\n\n    .dataframe tbody tr th {\n        vertical-align: top;\n    }\n\n    .dataframe thead th {\n        text-align: right;\n    }\n</style>\n<table border=\"1\" class=\"dataframe\">\n  <thead>\n    <tr style=\"text-align: right;\">\n      <th></th>\n      <th>has_aspect</th>\n      <th>original_dataset</th>\n    </tr>\n  </thead>\n  <tbody>\n    <tr>\n      <th>0</th>\n      <td>1</td>\n      <td>0.906508</td>\n    </tr>\n    <tr>\n      <th>1</th>\n      <td>0</td>\n      <td>0.093492</td>\n    </tr>\n  </tbody>\n</table>\n</div>"
     },
     "execution_count": 6,
     "metadata": {},
     "output_type": "execute_result"
    }
   ],
   "source": [
    "# contabilizando a quantidade de registros com e sem aspectos do dataset original\n",
    "aspects_summary = data.has_aspect.value_counts(normalize=True).reset_index().rename(\n",
    "    columns={'index': 'has_aspect', 'has_aspect': 'original_dataset'})\n",
    "aspects_summary"
   ],
   "metadata": {
    "collapsed": false
   }
  },
  {
   "cell_type": "code",
   "execution_count": 7,
   "outputs": [],
   "source": [
    "# nome das colunas para estraficacão\n",
    "y_col = 'has_aspect'\n",
    "X_cols = ['tokens', 'aspect_tags', 'num_aspects']"
   ],
   "metadata": {
    "collapsed": false
   }
  },
  {
   "cell_type": "code",
   "execution_count": 8,
   "outputs": [],
   "source": [
    "# gerando os folds\n",
    "data = utils.stratified_k_fold(data, X_cols, y_col, k=10)"
   ],
   "metadata": {
    "collapsed": false
   }
  },
  {
   "cell_type": "code",
   "execution_count": 9,
   "outputs": [
    {
     "data": {
      "text/plain": "   index  fold\n0      1   110\n1      2   109\n2      3   109\n3      4   109\n4      5   109\n5      6   109\n6      7   109\n7      8   109\n8      9   109\n9     10   109",
      "text/html": "<div>\n<style scoped>\n    .dataframe tbody tr th:only-of-type {\n        vertical-align: middle;\n    }\n\n    .dataframe tbody tr th {\n        vertical-align: top;\n    }\n\n    .dataframe thead th {\n        text-align: right;\n    }\n</style>\n<table border=\"1\" class=\"dataframe\">\n  <thead>\n    <tr style=\"text-align: right;\">\n      <th></th>\n      <th>index</th>\n      <th>fold</th>\n    </tr>\n  </thead>\n  <tbody>\n    <tr>\n      <th>0</th>\n      <td>1</td>\n      <td>110</td>\n    </tr>\n    <tr>\n      <th>1</th>\n      <td>2</td>\n      <td>109</td>\n    </tr>\n    <tr>\n      <th>2</th>\n      <td>3</td>\n      <td>109</td>\n    </tr>\n    <tr>\n      <th>3</th>\n      <td>4</td>\n      <td>109</td>\n    </tr>\n    <tr>\n      <th>4</th>\n      <td>5</td>\n      <td>109</td>\n    </tr>\n    <tr>\n      <th>5</th>\n      <td>6</td>\n      <td>109</td>\n    </tr>\n    <tr>\n      <th>6</th>\n      <td>7</td>\n      <td>109</td>\n    </tr>\n    <tr>\n      <th>7</th>\n      <td>8</td>\n      <td>109</td>\n    </tr>\n    <tr>\n      <th>8</th>\n      <td>9</td>\n      <td>109</td>\n    </tr>\n    <tr>\n      <th>9</th>\n      <td>10</td>\n      <td>109</td>\n    </tr>\n  </tbody>\n</table>\n</div>"
     },
     "execution_count": 9,
     "metadata": {},
     "output_type": "execute_result"
    }
   ],
   "source": [
    "# número de registros por fold\n",
    "data.fold.value_counts().reset_index()"
   ],
   "metadata": {
    "collapsed": false
   }
  },
  {
   "cell_type": "raw",
   "source": [
    "# salvando\n",
    "data.to_csv('datasets/tv_estratified.csv', index=False)"
   ],
   "metadata": {
    "collapsed": false
   }
  },
  {
   "cell_type": "code",
   "execution_count": 10,
   "outputs": [],
   "source": [
    "# lendo a base salva\n",
    "data = pd.read_csv('datasets/tv_stratified.csv')"
   ],
   "metadata": {
    "collapsed": false
   }
  },
  {
   "cell_type": "code",
   "execution_count": 11,
   "outputs": [],
   "source": [
    "# gerando estatísticas dos folds\n",
    "for fold in data.fold.unique():\n",
    "\n",
    "    # filtrando\n",
    "    curr = data[data.fold == fold]\n",
    "\n",
    "    # contabilizando a quantidade de registros por número de aspectos na frase\n",
    "    curr_num_aspects_summary = curr.num_aspects.value_counts(normalize=True).reset_index().rename(\n",
    "        columns={'num_aspects': f'fold_{fold}', 'index': 'num_aspects'})\n",
    "    num_aspects_summary = num_aspects_summary.merge(curr_num_aspects_summary, how='outer')\n",
    "\n",
    "    # contabilizando a quantidade de registros com e sem aspectos\n",
    "    curr_aspects_summary = curr.has_aspect.value_counts(normalize=True).reset_index().rename(\n",
    "        columns={'has_aspect': f'fold_{fold}', 'index': 'has_aspect'})\n",
    "    aspects_summary = aspects_summary.merge(curr_aspects_summary, how='outer')"
   ],
   "metadata": {
    "collapsed": false
   }
  },
  {
   "cell_type": "code",
   "execution_count": 12,
   "outputs": [
    {
     "data": {
      "text/plain": "    num_aspects  original_dataset  fold_1  fold_2  fold_3  fold_4  fold_5  \\\n0             2             31.07   39.09   32.11   23.85   36.70   35.78   \n1             1             25.66   21.82   22.94   39.45   31.19   37.61   \n2             3             19.07   19.09   24.77   19.27   11.01   11.93   \n3             4              9.72    7.27    9.17    8.26   10.09    4.59   \n4             0              9.35   10.00    9.17    9.17    9.17    9.17   \n5             5              2.84    2.73    0.92     NaN    0.92    0.92   \n6             6              1.37     NaN    0.92     NaN    0.92     NaN   \n7             7              0.64     NaN     NaN     NaN     NaN     NaN   \n8             8              0.09     NaN     NaN     NaN     NaN     NaN   \n9             9              0.09     NaN     NaN     NaN     NaN     NaN   \n10           10              0.09     NaN     NaN     NaN     NaN     NaN   \n\n    fold_6  fold_7  fold_8  fold_9  fold_10  fold_avg  fold_std  \n0    35.78   35.78   32.11   17.43    22.02     31.07      6.96  \n1    31.19   23.85   22.02   17.43     9.17     25.67      8.79  \n2    15.60   18.35   22.94   25.69    22.02     19.07      4.78  \n3     5.50    6.42   10.09   17.43    18.35      9.72      4.45  \n4     9.17    9.17    9.17    9.17    10.09      9.35      0.35  \n5     2.75    5.50    2.75    5.50     6.42      3.16      2.03  \n6      NaN    0.92     NaN    5.50     5.50      2.75      2.25  \n7      NaN     NaN    0.92    0.92     4.59      2.14      1.73  \n8      NaN     NaN     NaN    0.92      NaN      0.92      0.00  \n9      NaN     NaN     NaN     NaN     0.92      0.92      0.00  \n10     NaN     NaN     NaN     NaN     0.92      0.92      0.00  ",
      "text/html": "<div>\n<style scoped>\n    .dataframe tbody tr th:only-of-type {\n        vertical-align: middle;\n    }\n\n    .dataframe tbody tr th {\n        vertical-align: top;\n    }\n\n    .dataframe thead th {\n        text-align: right;\n    }\n</style>\n<table border=\"1\" class=\"dataframe\">\n  <thead>\n    <tr style=\"text-align: right;\">\n      <th></th>\n      <th>num_aspects</th>\n      <th>original_dataset</th>\n      <th>fold_1</th>\n      <th>fold_2</th>\n      <th>fold_3</th>\n      <th>fold_4</th>\n      <th>fold_5</th>\n      <th>fold_6</th>\n      <th>fold_7</th>\n      <th>fold_8</th>\n      <th>fold_9</th>\n      <th>fold_10</th>\n      <th>fold_avg</th>\n      <th>fold_std</th>\n    </tr>\n  </thead>\n  <tbody>\n    <tr>\n      <th>0</th>\n      <td>2</td>\n      <td>31.07</td>\n      <td>39.09</td>\n      <td>32.11</td>\n      <td>23.85</td>\n      <td>36.70</td>\n      <td>35.78</td>\n      <td>35.78</td>\n      <td>35.78</td>\n      <td>32.11</td>\n      <td>17.43</td>\n      <td>22.02</td>\n      <td>31.07</td>\n      <td>6.96</td>\n    </tr>\n    <tr>\n      <th>1</th>\n      <td>1</td>\n      <td>25.66</td>\n      <td>21.82</td>\n      <td>22.94</td>\n      <td>39.45</td>\n      <td>31.19</td>\n      <td>37.61</td>\n      <td>31.19</td>\n      <td>23.85</td>\n      <td>22.02</td>\n      <td>17.43</td>\n      <td>9.17</td>\n      <td>25.67</td>\n      <td>8.79</td>\n    </tr>\n    <tr>\n      <th>2</th>\n      <td>3</td>\n      <td>19.07</td>\n      <td>19.09</td>\n      <td>24.77</td>\n      <td>19.27</td>\n      <td>11.01</td>\n      <td>11.93</td>\n      <td>15.60</td>\n      <td>18.35</td>\n      <td>22.94</td>\n      <td>25.69</td>\n      <td>22.02</td>\n      <td>19.07</td>\n      <td>4.78</td>\n    </tr>\n    <tr>\n      <th>3</th>\n      <td>4</td>\n      <td>9.72</td>\n      <td>7.27</td>\n      <td>9.17</td>\n      <td>8.26</td>\n      <td>10.09</td>\n      <td>4.59</td>\n      <td>5.50</td>\n      <td>6.42</td>\n      <td>10.09</td>\n      <td>17.43</td>\n      <td>18.35</td>\n      <td>9.72</td>\n      <td>4.45</td>\n    </tr>\n    <tr>\n      <th>4</th>\n      <td>0</td>\n      <td>9.35</td>\n      <td>10.00</td>\n      <td>9.17</td>\n      <td>9.17</td>\n      <td>9.17</td>\n      <td>9.17</td>\n      <td>9.17</td>\n      <td>9.17</td>\n      <td>9.17</td>\n      <td>9.17</td>\n      <td>10.09</td>\n      <td>9.35</td>\n      <td>0.35</td>\n    </tr>\n    <tr>\n      <th>5</th>\n      <td>5</td>\n      <td>2.84</td>\n      <td>2.73</td>\n      <td>0.92</td>\n      <td>NaN</td>\n      <td>0.92</td>\n      <td>0.92</td>\n      <td>2.75</td>\n      <td>5.50</td>\n      <td>2.75</td>\n      <td>5.50</td>\n      <td>6.42</td>\n      <td>3.16</td>\n      <td>2.03</td>\n    </tr>\n    <tr>\n      <th>6</th>\n      <td>6</td>\n      <td>1.37</td>\n      <td>NaN</td>\n      <td>0.92</td>\n      <td>NaN</td>\n      <td>0.92</td>\n      <td>NaN</td>\n      <td>NaN</td>\n      <td>0.92</td>\n      <td>NaN</td>\n      <td>5.50</td>\n      <td>5.50</td>\n      <td>2.75</td>\n      <td>2.25</td>\n    </tr>\n    <tr>\n      <th>7</th>\n      <td>7</td>\n      <td>0.64</td>\n      <td>NaN</td>\n      <td>NaN</td>\n      <td>NaN</td>\n      <td>NaN</td>\n      <td>NaN</td>\n      <td>NaN</td>\n      <td>NaN</td>\n      <td>0.92</td>\n      <td>0.92</td>\n      <td>4.59</td>\n      <td>2.14</td>\n      <td>1.73</td>\n    </tr>\n    <tr>\n      <th>8</th>\n      <td>8</td>\n      <td>0.09</td>\n      <td>NaN</td>\n      <td>NaN</td>\n      <td>NaN</td>\n      <td>NaN</td>\n      <td>NaN</td>\n      <td>NaN</td>\n      <td>NaN</td>\n      <td>NaN</td>\n      <td>0.92</td>\n      <td>NaN</td>\n      <td>0.92</td>\n      <td>0.00</td>\n    </tr>\n    <tr>\n      <th>9</th>\n      <td>9</td>\n      <td>0.09</td>\n      <td>NaN</td>\n      <td>NaN</td>\n      <td>NaN</td>\n      <td>NaN</td>\n      <td>NaN</td>\n      <td>NaN</td>\n      <td>NaN</td>\n      <td>NaN</td>\n      <td>NaN</td>\n      <td>0.92</td>\n      <td>0.92</td>\n      <td>0.00</td>\n    </tr>\n    <tr>\n      <th>10</th>\n      <td>10</td>\n      <td>0.09</td>\n      <td>NaN</td>\n      <td>NaN</td>\n      <td>NaN</td>\n      <td>NaN</td>\n      <td>NaN</td>\n      <td>NaN</td>\n      <td>NaN</td>\n      <td>NaN</td>\n      <td>NaN</td>\n      <td>0.92</td>\n      <td>0.92</td>\n      <td>0.00</td>\n    </tr>\n  </tbody>\n</table>\n</div>"
     },
     "execution_count": 12,
     "metadata": {},
     "output_type": "execute_result"
    }
   ],
   "source": [
    "# quantidade de registros por número de aspectos na frase\n",
    "for col in num_aspects_summary.iloc[:, 1:].columns:\n",
    "    num_aspects_summary[col] = num_aspects_summary[col] * 100\n",
    "num_aspects_summary['fold_avg'] = num_aspects_summary.iloc[:, 2:].mean(axis=1)\n",
    "num_aspects_summary['fold_std'] = num_aspects_summary.iloc[:, 2:].std(axis=1)\n",
    "num_aspects_summary = round(num_aspects_summary, 2)\n",
    "num_aspects_summary"
   ],
   "metadata": {
    "collapsed": false
   }
  },
  {
   "cell_type": "code",
   "execution_count": 13,
   "outputs": [
    {
     "data": {
      "text/plain": "   has_aspect  original_dataset  fold_1  fold_2  fold_3  fold_4  fold_5  \\\n0           1             90.65    90.0   90.83   90.83   90.83   90.83   \n1           0              9.35    10.0    9.17    9.17    9.17    9.17   \n\n   fold_6  fold_7  fold_8  fold_9  fold_10  fold_avg  fold_std  \n0   90.83   90.83   90.83   90.83    89.91     90.65      0.35  \n1    9.17    9.17    9.17    9.17    10.09      9.35      0.35  ",
      "text/html": "<div>\n<style scoped>\n    .dataframe tbody tr th:only-of-type {\n        vertical-align: middle;\n    }\n\n    .dataframe tbody tr th {\n        vertical-align: top;\n    }\n\n    .dataframe thead th {\n        text-align: right;\n    }\n</style>\n<table border=\"1\" class=\"dataframe\">\n  <thead>\n    <tr style=\"text-align: right;\">\n      <th></th>\n      <th>has_aspect</th>\n      <th>original_dataset</th>\n      <th>fold_1</th>\n      <th>fold_2</th>\n      <th>fold_3</th>\n      <th>fold_4</th>\n      <th>fold_5</th>\n      <th>fold_6</th>\n      <th>fold_7</th>\n      <th>fold_8</th>\n      <th>fold_9</th>\n      <th>fold_10</th>\n      <th>fold_avg</th>\n      <th>fold_std</th>\n    </tr>\n  </thead>\n  <tbody>\n    <tr>\n      <th>0</th>\n      <td>1</td>\n      <td>90.65</td>\n      <td>90.0</td>\n      <td>90.83</td>\n      <td>90.83</td>\n      <td>90.83</td>\n      <td>90.83</td>\n      <td>90.83</td>\n      <td>90.83</td>\n      <td>90.83</td>\n      <td>90.83</td>\n      <td>89.91</td>\n      <td>90.65</td>\n      <td>0.35</td>\n    </tr>\n    <tr>\n      <th>1</th>\n      <td>0</td>\n      <td>9.35</td>\n      <td>10.0</td>\n      <td>9.17</td>\n      <td>9.17</td>\n      <td>9.17</td>\n      <td>9.17</td>\n      <td>9.17</td>\n      <td>9.17</td>\n      <td>9.17</td>\n      <td>9.17</td>\n      <td>10.09</td>\n      <td>9.35</td>\n      <td>0.35</td>\n    </tr>\n  </tbody>\n</table>\n</div>"
     },
     "execution_count": 13,
     "metadata": {},
     "output_type": "execute_result"
    }
   ],
   "source": [
    "# tem ou não aspecto\n",
    "for col in aspects_summary.iloc[:, 1:].columns:\n",
    "    aspects_summary[col] = aspects_summary[col] * 100\n",
    "aspects_summary['fold_avg'] = aspects_summary.iloc[:, 2:].mean(axis=1)\n",
    "aspects_summary['fold_std'] = aspects_summary.iloc[:, 2:].std(axis=1)\n",
    "aspects_summary = round(aspects_summary, 2)\n",
    "aspects_summary"
   ],
   "metadata": {
    "collapsed": false
   }
  }
 ],
 "metadata": {
  "kernelspec": {
   "display_name": "Python 3",
   "language": "python",
   "name": "python3"
  },
  "language_info": {
   "codemirror_mode": {
    "name": "ipython",
    "version": 2
   },
   "file_extension": ".py",
   "mimetype": "text/x-python",
   "name": "python",
   "nbconvert_exporter": "python",
   "pygments_lexer": "ipython2",
   "version": "2.7.6"
  }
 },
 "nbformat": 4,
 "nbformat_minor": 0
}
