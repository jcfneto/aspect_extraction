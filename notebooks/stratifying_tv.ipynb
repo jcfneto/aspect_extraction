{
 "cells": [
  {
   "cell_type": "code",
   "execution_count": 1,
   "metadata": {
    "collapsed": true
   },
   "outputs": [],
   "source": [
    "import pandas as pd\n",
    "\n",
    "from src import utils\n",
    "from src import pre_processing"
   ]
  },
  {
   "cell_type": "code",
   "execution_count": 2,
   "outputs": [
    {
     "data": {
      "text/plain": "                                              tokens  \\\n0  [Excelente, smart, tv, ., E, foi, entregue, ve...   \n\n                               aspect_tags  \n0  [0, 1, 2, 0, 0, 0, 0, 0, 0, 0, 0, 0, 0]  ",
      "text/html": "<div>\n<style scoped>\n    .dataframe tbody tr th:only-of-type {\n        vertical-align: middle;\n    }\n\n    .dataframe tbody tr th {\n        vertical-align: top;\n    }\n\n    .dataframe thead th {\n        text-align: right;\n    }\n</style>\n<table border=\"1\" class=\"dataframe\">\n  <thead>\n    <tr style=\"text-align: right;\">\n      <th></th>\n      <th>tokens</th>\n      <th>aspect_tags</th>\n    </tr>\n  </thead>\n  <tbody>\n    <tr>\n      <th>0</th>\n      <td>[Excelente, smart, tv, ., E, foi, entregue, ve...</td>\n      <td>[0, 1, 2, 0, 0, 0, 0, 0, 0, 0, 0, 0, 0]</td>\n    </tr>\n  </tbody>\n</table>\n</div>"
     },
     "execution_count": 2,
     "metadata": {},
     "output_type": "execute_result"
    }
   ],
   "source": [
    "# lendo e pré-processando os dados (json to dataframe)\n",
    "data = pre_processing.pre_processing_tv_dataset('../datasets/tv/data.json')\n",
    "data.head(1)"
   ],
   "metadata": {
    "collapsed": false
   }
  },
  {
   "cell_type": "code",
   "execution_count": 3,
   "outputs": [
    {
     "data": {
      "text/plain": "                                              tokens  \\\n0  [Excelente, smart, tv, ., E, foi, entregue, ve...   \n\n                               aspect_tags  total_aspects  \n0  [0, 1, 2, 0, 0, 0, 0, 0, 0, 0, 0, 0, 0]              1  ",
      "text/html": "<div>\n<style scoped>\n    .dataframe tbody tr th:only-of-type {\n        vertical-align: middle;\n    }\n\n    .dataframe tbody tr th {\n        vertical-align: top;\n    }\n\n    .dataframe thead th {\n        text-align: right;\n    }\n</style>\n<table border=\"1\" class=\"dataframe\">\n  <thead>\n    <tr style=\"text-align: right;\">\n      <th></th>\n      <th>tokens</th>\n      <th>aspect_tags</th>\n      <th>total_aspects</th>\n    </tr>\n  </thead>\n  <tbody>\n    <tr>\n      <th>0</th>\n      <td>[Excelente, smart, tv, ., E, foi, entregue, ve...</td>\n      <td>[0, 1, 2, 0, 0, 0, 0, 0, 0, 0, 0, 0, 0]</td>\n      <td>1</td>\n    </tr>\n  </tbody>\n</table>\n</div>"
     },
     "execution_count": 3,
     "metadata": {},
     "output_type": "execute_result"
    }
   ],
   "source": [
    "# contabilizando o número de aspectos por registro\n",
    "data = utils.aspect_counter(data)\n",
    "data.head(1)"
   ],
   "metadata": {
    "collapsed": false
   }
  },
  {
   "cell_type": "code",
   "execution_count": 4,
   "outputs": [
    {
     "data": {
      "text/plain": "                                              tokens  \\\n0  [Excelente, smart, tv, ., E, foi, entregue, ve...   \n\n                               aspect_tags  total_aspects  has_aspect  \n0  [0, 1, 2, 0, 0, 0, 0, 0, 0, 0, 0, 0, 0]              1           1  ",
      "text/html": "<div>\n<style scoped>\n    .dataframe tbody tr th:only-of-type {\n        vertical-align: middle;\n    }\n\n    .dataframe tbody tr th {\n        vertical-align: top;\n    }\n\n    .dataframe thead th {\n        text-align: right;\n    }\n</style>\n<table border=\"1\" class=\"dataframe\">\n  <thead>\n    <tr style=\"text-align: right;\">\n      <th></th>\n      <th>tokens</th>\n      <th>aspect_tags</th>\n      <th>total_aspects</th>\n      <th>has_aspect</th>\n    </tr>\n  </thead>\n  <tbody>\n    <tr>\n      <th>0</th>\n      <td>[Excelente, smart, tv, ., E, foi, entregue, ve...</td>\n      <td>[0, 1, 2, 0, 0, 0, 0, 0, 0, 0, 0, 0, 0]</td>\n      <td>1</td>\n      <td>1</td>\n    </tr>\n  </tbody>\n</table>\n</div>"
     },
     "execution_count": 4,
     "metadata": {},
     "output_type": "execute_result"
    }
   ],
   "source": [
    "# definindo se um registro possui aspecto ou não\n",
    "data = utils.has_aspect(data)\n",
    "data.head(1)"
   ],
   "metadata": {
    "collapsed": false
   }
  },
  {
   "cell_type": "code",
   "execution_count": 5,
   "outputs": [],
   "source": [
    "# review\n",
    "data['review'] = data.index + 1"
   ],
   "metadata": {
    "collapsed": false
   }
  },
  {
   "cell_type": "code",
   "execution_count": 6,
   "outputs": [
    {
     "data": {
      "text/plain": "   has_aspect  original_dataset\n0           1               989\n1           0               102",
      "text/html": "<div>\n<style scoped>\n    .dataframe tbody tr th:only-of-type {\n        vertical-align: middle;\n    }\n\n    .dataframe tbody tr th {\n        vertical-align: top;\n    }\n\n    .dataframe thead th {\n        text-align: right;\n    }\n</style>\n<table border=\"1\" class=\"dataframe\">\n  <thead>\n    <tr style=\"text-align: right;\">\n      <th></th>\n      <th>has_aspect</th>\n      <th>original_dataset</th>\n    </tr>\n  </thead>\n  <tbody>\n    <tr>\n      <th>0</th>\n      <td>1</td>\n      <td>989</td>\n    </tr>\n    <tr>\n      <th>1</th>\n      <td>0</td>\n      <td>102</td>\n    </tr>\n  </tbody>\n</table>\n</div>"
     },
     "execution_count": 6,
     "metadata": {},
     "output_type": "execute_result"
    }
   ],
   "source": [
    "# contabilizando reviews com aspects\n",
    "has_aspect = data.has_aspect.value_counts().reset_index().rename(\n",
    "    columns={'has_aspect': 'original_dataset', 'index': 'has_aspect'})\n",
    "has_aspect"
   ],
   "metadata": {
    "collapsed": false
   }
  },
  {
   "cell_type": "code",
   "execution_count": 7,
   "outputs": [],
   "source": [
    "# nome das colunas para estraficacão\n",
    "y_col = 'has_aspect'\n",
    "X_cols = ['tokens', 'aspect_tags', 'total_aspects']\n",
    "groups = 'review'"
   ],
   "metadata": {
    "collapsed": false
   }
  },
  {
   "cell_type": "code",
   "execution_count": 8,
   "outputs": [],
   "source": [
    "# gerando os folds\n",
    "data = utils.stratified_k_fold(data, X_cols, y_col, groups, k=10)"
   ],
   "metadata": {
    "collapsed": false
   }
  },
  {
   "cell_type": "code",
   "execution_count": 9,
   "outputs": [],
   "source": [
    "# salvando\n",
    "# data.to_csv('../datasets/processed/tv_stratified.csv', index=False)"
   ],
   "metadata": {
    "collapsed": false
   }
  },
  {
   "cell_type": "code",
   "execution_count": 10,
   "outputs": [],
   "source": [
    "# lendo a base salva\n",
    "data = pd.read_csv('../datasets/processed/tv_stratified.csv')"
   ],
   "metadata": {
    "collapsed": false
   }
  },
  {
   "cell_type": "code",
   "execution_count": 11,
   "outputs": [],
   "source": [
    "# gerando estatísticas dos folds\n",
    "for fold in data.fold.unique():\n",
    "\n",
    "    # filtrando\n",
    "    curr = data[data.fold == fold]\n",
    "\n",
    "    # contabilizando a quantidade de registros por número de aspectos na frase\n",
    "    curr_has_aspect = curr.has_aspect.value_counts().reset_index().rename(\n",
    "        columns={'has_aspect': f'fold_{fold}', 'index': 'has_aspect'})\n",
    "    has_aspect = has_aspect.merge(curr_has_aspect, how='outer')"
   ],
   "metadata": {
    "collapsed": false
   }
  },
  {
   "cell_type": "code",
   "execution_count": 12,
   "outputs": [
    {
     "data": {
      "text/plain": "  has_aspect  original_dataset  fold_1  fold_2  fold_3  fold_4  fold_5  \\\n0          1               989      99      99      99      99      99   \n1          0               102      11      10      10      10      10   \n2      total              1091     110     109     109     109     109   \n\n   fold_6  fold_7  fold_8  fold_9  fold_10  fold_avg  fold_std  \n0      99      99      99      99       98      98.9       0.3  \n1      10      10      10      10       11      10.2       0.4  \n2     109     109     109     109      109     109.1       0.3  ",
      "text/html": "<div>\n<style scoped>\n    .dataframe tbody tr th:only-of-type {\n        vertical-align: middle;\n    }\n\n    .dataframe tbody tr th {\n        vertical-align: top;\n    }\n\n    .dataframe thead th {\n        text-align: right;\n    }\n</style>\n<table border=\"1\" class=\"dataframe\">\n  <thead>\n    <tr style=\"text-align: right;\">\n      <th></th>\n      <th>has_aspect</th>\n      <th>original_dataset</th>\n      <th>fold_1</th>\n      <th>fold_2</th>\n      <th>fold_3</th>\n      <th>fold_4</th>\n      <th>fold_5</th>\n      <th>fold_6</th>\n      <th>fold_7</th>\n      <th>fold_8</th>\n      <th>fold_9</th>\n      <th>fold_10</th>\n      <th>fold_avg</th>\n      <th>fold_std</th>\n    </tr>\n  </thead>\n  <tbody>\n    <tr>\n      <th>0</th>\n      <td>1</td>\n      <td>989</td>\n      <td>99</td>\n      <td>99</td>\n      <td>99</td>\n      <td>99</td>\n      <td>99</td>\n      <td>99</td>\n      <td>99</td>\n      <td>99</td>\n      <td>99</td>\n      <td>98</td>\n      <td>98.9</td>\n      <td>0.3</td>\n    </tr>\n    <tr>\n      <th>1</th>\n      <td>0</td>\n      <td>102</td>\n      <td>11</td>\n      <td>10</td>\n      <td>10</td>\n      <td>10</td>\n      <td>10</td>\n      <td>10</td>\n      <td>10</td>\n      <td>10</td>\n      <td>10</td>\n      <td>11</td>\n      <td>10.2</td>\n      <td>0.4</td>\n    </tr>\n    <tr>\n      <th>2</th>\n      <td>total</td>\n      <td>1091</td>\n      <td>110</td>\n      <td>109</td>\n      <td>109</td>\n      <td>109</td>\n      <td>109</td>\n      <td>109</td>\n      <td>109</td>\n      <td>109</td>\n      <td>109</td>\n      <td>109</td>\n      <td>109.1</td>\n      <td>0.3</td>\n    </tr>\n  </tbody>\n</table>\n</div>"
     },
     "execution_count": 12,
     "metadata": {},
     "output_type": "execute_result"
    }
   ],
   "source": [
    "# quantidade de registros por número de aspectos na frase\n",
    "has_aspect = utils.fold_summary(has_aspect)\n",
    "has_aspect"
   ],
   "metadata": {
    "collapsed": false
   }
  },
  {
   "cell_type": "code",
   "execution_count": 13,
   "outputs": [
    {
     "data": {
      "text/plain": "   fold  reviews\n0     1      110\n1     2      109\n2     3      109\n3     4      109\n4     5      109\n5     6      109\n6     7      109\n7     8      109\n8     9      109\n9    10      109",
      "text/html": "<div>\n<style scoped>\n    .dataframe tbody tr th:only-of-type {\n        vertical-align: middle;\n    }\n\n    .dataframe tbody tr th {\n        vertical-align: top;\n    }\n\n    .dataframe thead th {\n        text-align: right;\n    }\n</style>\n<table border=\"1\" class=\"dataframe\">\n  <thead>\n    <tr style=\"text-align: right;\">\n      <th></th>\n      <th>fold</th>\n      <th>reviews</th>\n    </tr>\n  </thead>\n  <tbody>\n    <tr>\n      <th>0</th>\n      <td>1</td>\n      <td>110</td>\n    </tr>\n    <tr>\n      <th>1</th>\n      <td>2</td>\n      <td>109</td>\n    </tr>\n    <tr>\n      <th>2</th>\n      <td>3</td>\n      <td>109</td>\n    </tr>\n    <tr>\n      <th>3</th>\n      <td>4</td>\n      <td>109</td>\n    </tr>\n    <tr>\n      <th>4</th>\n      <td>5</td>\n      <td>109</td>\n    </tr>\n    <tr>\n      <th>5</th>\n      <td>6</td>\n      <td>109</td>\n    </tr>\n    <tr>\n      <th>6</th>\n      <td>7</td>\n      <td>109</td>\n    </tr>\n    <tr>\n      <th>7</th>\n      <td>8</td>\n      <td>109</td>\n    </tr>\n    <tr>\n      <th>8</th>\n      <td>9</td>\n      <td>109</td>\n    </tr>\n    <tr>\n      <th>9</th>\n      <td>10</td>\n      <td>109</td>\n    </tr>\n  </tbody>\n</table>\n</div>"
     },
     "execution_count": 13,
     "metadata": {},
     "output_type": "execute_result"
    }
   ],
   "source": [
    "# número de reviews por fold\n",
    "reviews_per_fold = data.fold.value_counts().reset_index().rename(columns={'fold': 'reviews', 'index': 'fold'}).sort_values('fold')\n",
    "reviews_per_fold"
   ],
   "metadata": {
    "collapsed": false
   }
  },
  {
   "cell_type": "code",
   "execution_count": 14,
   "outputs": [
    {
     "data": {
      "text/plain": "     fold  total_aspects\n0       1          220.0\n1       2          227.0\n2       3          194.0\n3       4          205.0\n4       5          183.0\n5       6          202.0\n6       7          228.0\n7       8          235.0\n8       9          298.0\n9      10          335.0\n10  total         2327.0\n11    std           47.9",
      "text/html": "<div>\n<style scoped>\n    .dataframe tbody tr th:only-of-type {\n        vertical-align: middle;\n    }\n\n    .dataframe tbody tr th {\n        vertical-align: top;\n    }\n\n    .dataframe thead th {\n        text-align: right;\n    }\n</style>\n<table border=\"1\" class=\"dataframe\">\n  <thead>\n    <tr style=\"text-align: right;\">\n      <th></th>\n      <th>fold</th>\n      <th>total_aspects</th>\n    </tr>\n  </thead>\n  <tbody>\n    <tr>\n      <th>0</th>\n      <td>1</td>\n      <td>220.0</td>\n    </tr>\n    <tr>\n      <th>1</th>\n      <td>2</td>\n      <td>227.0</td>\n    </tr>\n    <tr>\n      <th>2</th>\n      <td>3</td>\n      <td>194.0</td>\n    </tr>\n    <tr>\n      <th>3</th>\n      <td>4</td>\n      <td>205.0</td>\n    </tr>\n    <tr>\n      <th>4</th>\n      <td>5</td>\n      <td>183.0</td>\n    </tr>\n    <tr>\n      <th>5</th>\n      <td>6</td>\n      <td>202.0</td>\n    </tr>\n    <tr>\n      <th>6</th>\n      <td>7</td>\n      <td>228.0</td>\n    </tr>\n    <tr>\n      <th>7</th>\n      <td>8</td>\n      <td>235.0</td>\n    </tr>\n    <tr>\n      <th>8</th>\n      <td>9</td>\n      <td>298.0</td>\n    </tr>\n    <tr>\n      <th>9</th>\n      <td>10</td>\n      <td>335.0</td>\n    </tr>\n    <tr>\n      <th>10</th>\n      <td>total</td>\n      <td>2327.0</td>\n    </tr>\n    <tr>\n      <th>11</th>\n      <td>std</td>\n      <td>47.9</td>\n    </tr>\n  </tbody>\n</table>\n</div>"
     },
     "execution_count": 14,
     "metadata": {},
     "output_type": "execute_result"
    }
   ],
   "source": [
    "# número de aspectos por partićão\n",
    "aspects_per_fold = utils.summary(data, 'fold', 'total_aspects', 'sum').sort_values('fold')\n",
    "total = [aspects_per_fold.total_aspects.sum()]\n",
    "std = [aspects_per_fold.total_aspects.std()]\n",
    "\n",
    "for value, name in zip([total, std], ['total', 'std']):\n",
    "    aspects_per_fold.loc[len(aspects_per_fold)] = [name] + value\n",
    "aspects_per_fold = round(aspects_per_fold, 1)\n",
    "aspects_per_fold"
   ],
   "metadata": {
    "collapsed": false
   }
  }
 ],
 "metadata": {
  "kernelspec": {
   "display_name": "Python 3",
   "language": "python",
   "name": "python3"
  },
  "language_info": {
   "codemirror_mode": {
    "name": "ipython",
    "version": 2
   },
   "file_extension": ".py",
   "mimetype": "text/x-python",
   "name": "python",
   "nbconvert_exporter": "python",
   "pygments_lexer": "ipython2",
   "version": "2.7.6"
  }
 },
 "nbformat": 4,
 "nbformat_minor": 0
}
