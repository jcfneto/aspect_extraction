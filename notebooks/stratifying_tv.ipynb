{
 "cells": [
  {
   "cell_type": "code",
   "execution_count": 1,
   "metadata": {
    "collapsed": true
   },
   "outputs": [],
   "source": [
    "import pandas as pd\n",
    "\n",
    "from src import utils\n",
    "from src import pre_processing"
   ]
  },
  {
   "cell_type": "code",
   "execution_count": 2,
   "outputs": [
    {
     "data": {
      "text/plain": "                                              tokens  \\\n0  [Excelente, smart, tv, ., E, foi, entregue, ve...   \n\n                               aspect_tags  \n0  [0, 1, 2, 0, 0, 0, 0, 0, 0, 0, 0, 0, 0]  ",
      "text/html": "<div>\n<style scoped>\n    .dataframe tbody tr th:only-of-type {\n        vertical-align: middle;\n    }\n\n    .dataframe tbody tr th {\n        vertical-align: top;\n    }\n\n    .dataframe thead th {\n        text-align: right;\n    }\n</style>\n<table border=\"1\" class=\"dataframe\">\n  <thead>\n    <tr style=\"text-align: right;\">\n      <th></th>\n      <th>tokens</th>\n      <th>aspect_tags</th>\n    </tr>\n  </thead>\n  <tbody>\n    <tr>\n      <th>0</th>\n      <td>[Excelente, smart, tv, ., E, foi, entregue, ve...</td>\n      <td>[0, 1, 2, 0, 0, 0, 0, 0, 0, 0, 0, 0, 0]</td>\n    </tr>\n  </tbody>\n</table>\n</div>"
     },
     "execution_count": 2,
     "metadata": {},
     "output_type": "execute_result"
    }
   ],
   "source": [
    "# lendo e pré-processando os dados (json to dataframe)\n",
    "data = pre_processing.pre_processing_tv_dataset('../datasets/tv/data.json')\n",
    "data.head(1)"
   ],
   "metadata": {
    "collapsed": false
   }
  },
  {
   "cell_type": "code",
   "execution_count": 3,
   "outputs": [
    {
     "data": {
      "text/plain": "                                              tokens  \\\n0  [Excelente, smart, tv, ., E, foi, entregue, ve...   \n\n                               aspect_tags  total_aspects  \n0  [0, 1, 2, 0, 0, 0, 0, 0, 0, 0, 0, 0, 0]              1  ",
      "text/html": "<div>\n<style scoped>\n    .dataframe tbody tr th:only-of-type {\n        vertical-align: middle;\n    }\n\n    .dataframe tbody tr th {\n        vertical-align: top;\n    }\n\n    .dataframe thead th {\n        text-align: right;\n    }\n</style>\n<table border=\"1\" class=\"dataframe\">\n  <thead>\n    <tr style=\"text-align: right;\">\n      <th></th>\n      <th>tokens</th>\n      <th>aspect_tags</th>\n      <th>total_aspects</th>\n    </tr>\n  </thead>\n  <tbody>\n    <tr>\n      <th>0</th>\n      <td>[Excelente, smart, tv, ., E, foi, entregue, ve...</td>\n      <td>[0, 1, 2, 0, 0, 0, 0, 0, 0, 0, 0, 0, 0]</td>\n      <td>1</td>\n    </tr>\n  </tbody>\n</table>\n</div>"
     },
     "execution_count": 3,
     "metadata": {},
     "output_type": "execute_result"
    }
   ],
   "source": [
    "# contabilizando o número de aspectos por registro\n",
    "data = utils.aspect_counter(data)\n",
    "data.head(1)"
   ],
   "metadata": {
    "collapsed": false
   }
  },
  {
   "cell_type": "code",
   "execution_count": 4,
   "outputs": [
    {
     "data": {
      "text/plain": "                                              tokens  \\\n0  [Excelente, smart, tv, ., E, foi, entregue, ve...   \n\n                               aspect_tags  total_aspects  has_aspect  \n0  [0, 1, 2, 0, 0, 0, 0, 0, 0, 0, 0, 0, 0]              1           1  ",
      "text/html": "<div>\n<style scoped>\n    .dataframe tbody tr th:only-of-type {\n        vertical-align: middle;\n    }\n\n    .dataframe tbody tr th {\n        vertical-align: top;\n    }\n\n    .dataframe thead th {\n        text-align: right;\n    }\n</style>\n<table border=\"1\" class=\"dataframe\">\n  <thead>\n    <tr style=\"text-align: right;\">\n      <th></th>\n      <th>tokens</th>\n      <th>aspect_tags</th>\n      <th>total_aspects</th>\n      <th>has_aspect</th>\n    </tr>\n  </thead>\n  <tbody>\n    <tr>\n      <th>0</th>\n      <td>[Excelente, smart, tv, ., E, foi, entregue, ve...</td>\n      <td>[0, 1, 2, 0, 0, 0, 0, 0, 0, 0, 0, 0, 0]</td>\n      <td>1</td>\n      <td>1</td>\n    </tr>\n  </tbody>\n</table>\n</div>"
     },
     "execution_count": 4,
     "metadata": {},
     "output_type": "execute_result"
    }
   ],
   "source": [
    "# definindo se um registro possui aspecto ou não\n",
    "data = utils.has_aspect(data)\n",
    "data.head(1)"
   ],
   "metadata": {
    "collapsed": false
   }
  },
  {
   "cell_type": "code",
   "execution_count": 5,
   "outputs": [],
   "source": [
    "# review\n",
    "data['review'] = data.index + 1"
   ],
   "metadata": {
    "collapsed": false
   }
  },
  {
   "cell_type": "code",
   "execution_count": 6,
   "outputs": [
    {
     "data": {
      "text/plain": "   has_aspect  original_dataset\n0           1          0.906508\n1           0          0.093492",
      "text/html": "<div>\n<style scoped>\n    .dataframe tbody tr th:only-of-type {\n        vertical-align: middle;\n    }\n\n    .dataframe tbody tr th {\n        vertical-align: top;\n    }\n\n    .dataframe thead th {\n        text-align: right;\n    }\n</style>\n<table border=\"1\" class=\"dataframe\">\n  <thead>\n    <tr style=\"text-align: right;\">\n      <th></th>\n      <th>has_aspect</th>\n      <th>original_dataset</th>\n    </tr>\n  </thead>\n  <tbody>\n    <tr>\n      <th>0</th>\n      <td>1</td>\n      <td>0.906508</td>\n    </tr>\n    <tr>\n      <th>1</th>\n      <td>0</td>\n      <td>0.093492</td>\n    </tr>\n  </tbody>\n</table>\n</div>"
     },
     "execution_count": 6,
     "metadata": {},
     "output_type": "execute_result"
    }
   ],
   "source": [
    "# contabilizando reviews com aspects\n",
    "has_aspect = data.has_aspect.value_counts(normalize=True).reset_index().rename(\n",
    "    columns={'has_aspect': 'original_dataset', 'index': 'has_aspect'})\n",
    "has_aspect"
   ],
   "metadata": {
    "collapsed": false
   }
  },
  {
   "cell_type": "code",
   "execution_count": 7,
   "outputs": [],
   "source": [
    "# nome das colunas para estraficacão\n",
    "y_col = 'has_aspect'\n",
    "X_cols = ['tokens', 'aspect_tags', 'total_aspects']\n",
    "groups = 'review'"
   ],
   "metadata": {
    "collapsed": false
   }
  },
  {
   "cell_type": "code",
   "execution_count": 8,
   "outputs": [],
   "source": [
    "# gerando os folds\n",
    "data = utils.stratified_k_fold(data, X_cols, y_col, groups, k=10)"
   ],
   "metadata": {
    "collapsed": false
   }
  },
  {
   "cell_type": "code",
   "execution_count": 9,
   "outputs": [
    {
     "data": {
      "text/plain": "   index  fold\n0      7   110\n1      1   109\n2      2   109\n3      3   109\n4      4   109\n5      5   109\n6      6   109\n7      8   109\n8      9   109\n9     10   109",
      "text/html": "<div>\n<style scoped>\n    .dataframe tbody tr th:only-of-type {\n        vertical-align: middle;\n    }\n\n    .dataframe tbody tr th {\n        vertical-align: top;\n    }\n\n    .dataframe thead th {\n        text-align: right;\n    }\n</style>\n<table border=\"1\" class=\"dataframe\">\n  <thead>\n    <tr style=\"text-align: right;\">\n      <th></th>\n      <th>index</th>\n      <th>fold</th>\n    </tr>\n  </thead>\n  <tbody>\n    <tr>\n      <th>0</th>\n      <td>7</td>\n      <td>110</td>\n    </tr>\n    <tr>\n      <th>1</th>\n      <td>1</td>\n      <td>109</td>\n    </tr>\n    <tr>\n      <th>2</th>\n      <td>2</td>\n      <td>109</td>\n    </tr>\n    <tr>\n      <th>3</th>\n      <td>3</td>\n      <td>109</td>\n    </tr>\n    <tr>\n      <th>4</th>\n      <td>4</td>\n      <td>109</td>\n    </tr>\n    <tr>\n      <th>5</th>\n      <td>5</td>\n      <td>109</td>\n    </tr>\n    <tr>\n      <th>6</th>\n      <td>6</td>\n      <td>109</td>\n    </tr>\n    <tr>\n      <th>7</th>\n      <td>8</td>\n      <td>109</td>\n    </tr>\n    <tr>\n      <th>8</th>\n      <td>9</td>\n      <td>109</td>\n    </tr>\n    <tr>\n      <th>9</th>\n      <td>10</td>\n      <td>109</td>\n    </tr>\n  </tbody>\n</table>\n</div>"
     },
     "execution_count": 9,
     "metadata": {},
     "output_type": "execute_result"
    }
   ],
   "source": [
    "# número de registros por fold\n",
    "data.fold.value_counts().reset_index()"
   ],
   "metadata": {
    "collapsed": false
   }
  },
  {
   "cell_type": "code",
   "execution_count": 10,
   "outputs": [],
   "source": [
    "# salvando\n",
    "# data.to_csv('../datasets/processed/tv_stratified.csv', index=False)"
   ],
   "metadata": {
    "collapsed": false
   }
  },
  {
   "cell_type": "code",
   "execution_count": 11,
   "outputs": [],
   "source": [
    "# lendo a base salva\n",
    "data = pd.read_csv('../datasets/processed/tv_stratified.csv')"
   ],
   "metadata": {
    "collapsed": false
   }
  },
  {
   "cell_type": "code",
   "execution_count": 12,
   "outputs": [],
   "source": [
    "# gerando estatísticas dos folds\n",
    "for fold in data.fold.unique():\n",
    "\n",
    "    # filtrando\n",
    "    curr = data[data.fold == fold]\n",
    "\n",
    "    # contabilizando a quantidade de registros por número de aspectos na frase\n",
    "    curr_has_aspect = curr.has_aspect.value_counts(normalize=True).reset_index().rename(\n",
    "        columns={'has_aspect': f'fold_{fold}', 'index': 'has_aspect'})\n",
    "    has_aspect = has_aspect.merge(curr_has_aspect, how='outer')"
   ],
   "metadata": {
    "collapsed": false
   }
  },
  {
   "cell_type": "code",
   "execution_count": 13,
   "outputs": [
    {
     "data": {
      "text/plain": "   has_aspect  original_dataset  fold_1  fold_2  fold_3  fold_4  fold_5  \\\n0           1             90.65    90.0   90.83   90.83   90.83   90.83   \n1           0              9.35    10.0    9.17    9.17    9.17    9.17   \n\n   fold_6  fold_7  fold_8  fold_9  fold_10  fold_avg  fold_std  \n0   90.83   90.83   90.83   90.83    89.91     90.65      0.35  \n1    9.17    9.17    9.17    9.17    10.09      9.35      0.35  ",
      "text/html": "<div>\n<style scoped>\n    .dataframe tbody tr th:only-of-type {\n        vertical-align: middle;\n    }\n\n    .dataframe tbody tr th {\n        vertical-align: top;\n    }\n\n    .dataframe thead th {\n        text-align: right;\n    }\n</style>\n<table border=\"1\" class=\"dataframe\">\n  <thead>\n    <tr style=\"text-align: right;\">\n      <th></th>\n      <th>has_aspect</th>\n      <th>original_dataset</th>\n      <th>fold_1</th>\n      <th>fold_2</th>\n      <th>fold_3</th>\n      <th>fold_4</th>\n      <th>fold_5</th>\n      <th>fold_6</th>\n      <th>fold_7</th>\n      <th>fold_8</th>\n      <th>fold_9</th>\n      <th>fold_10</th>\n      <th>fold_avg</th>\n      <th>fold_std</th>\n    </tr>\n  </thead>\n  <tbody>\n    <tr>\n      <th>0</th>\n      <td>1</td>\n      <td>90.65</td>\n      <td>90.0</td>\n      <td>90.83</td>\n      <td>90.83</td>\n      <td>90.83</td>\n      <td>90.83</td>\n      <td>90.83</td>\n      <td>90.83</td>\n      <td>90.83</td>\n      <td>90.83</td>\n      <td>89.91</td>\n      <td>90.65</td>\n      <td>0.35</td>\n    </tr>\n    <tr>\n      <th>1</th>\n      <td>0</td>\n      <td>9.35</td>\n      <td>10.0</td>\n      <td>9.17</td>\n      <td>9.17</td>\n      <td>9.17</td>\n      <td>9.17</td>\n      <td>9.17</td>\n      <td>9.17</td>\n      <td>9.17</td>\n      <td>9.17</td>\n      <td>10.09</td>\n      <td>9.35</td>\n      <td>0.35</td>\n    </tr>\n  </tbody>\n</table>\n</div>"
     },
     "execution_count": 13,
     "metadata": {},
     "output_type": "execute_result"
    }
   ],
   "source": [
    "# quantidade de registros por número de aspectos na frase\n",
    "has_aspect = utils.fold_summary(has_aspect)\n",
    "has_aspect"
   ],
   "metadata": {
    "collapsed": false
   }
  }
 ],
 "metadata": {
  "kernelspec": {
   "display_name": "Python 3",
   "language": "python",
   "name": "python3"
  },
  "language_info": {
   "codemirror_mode": {
    "name": "ipython",
    "version": 2
   },
   "file_extension": ".py",
   "mimetype": "text/x-python",
   "name": "python",
   "nbconvert_exporter": "python",
   "pygments_lexer": "ipython2",
   "version": "2.7.6"
  }
 },
 "nbformat": 4,
 "nbformat_minor": 0
}
