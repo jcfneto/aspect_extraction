{
 "cells": [
  {
   "cell_type": "raw",
   "source": [
    "!pip install datasets transformers seqeval evaluate"
   ],
   "metadata": {
    "collapsed": false
   }
  },
  {
   "cell_type": "code",
   "execution_count": 2,
   "metadata": {
    "executionInfo": {
     "elapsed": 4745,
     "status": "ok",
     "timestamp": 1670516256849,
     "user": {
      "displayName": "José Carlos Ferreira Neto",
      "userId": "09993765487513772420"
     },
     "user_tz": 180
    },
    "id": "WZdByUFEHobJ"
   },
   "outputs": [],
   "source": [
    "import json\n",
    "import pandas as pd\n",
    "\n",
    "from ast import literal_eval\n",
    "\n",
    "from collections import defaultdict\n",
    "\n",
    "from datasets import Dataset, DatasetDict\n",
    "\n",
    "from src import utils\n",
    "\n",
    "from transformers import create_optimizer\n",
    "from transformers import DataCollatorForTokenClassification"
   ]
  },
  {
   "cell_type": "code",
   "execution_count": 3,
   "metadata": {
    "executionInfo": {
     "elapsed": 12,
     "status": "ok",
     "timestamp": 1670516256850,
     "user": {
      "displayName": "José Carlos Ferreira Neto",
      "userId": "09993765487513772420"
     },
     "user_tz": 180
    },
    "id": "7SJP2FmjMju5"
   },
   "outputs": [],
   "source": [
    "def tokenize_and_align_labels(examples: dict) -> Dataset:\n",
    "    \"\"\"Tokenize and align labels with subword tokens.\n",
    "\n",
    "    Args:\n",
    "        examples: Pre-token.\n",
    "\n",
    "    Returns:\n",
    "        Tokens with labels.\n",
    "    \"\"\"\n",
    "    tokenized_inputs = tokenizer(\n",
    "        examples['tokens'],\n",
    "        truncation=True,\n",
    "        is_split_into_words=True,\n",
    "    )\n",
    "    all_labels = examples['aspect_tags']\n",
    "    new_labels = []\n",
    "    for i, labels in enumerate(all_labels):\n",
    "        word_ids = tokenized_inputs.word_ids(i)\n",
    "        new_labels.append(utils.align_labels_with_tokens(labels, word_ids))\n",
    "    tokenized_inputs['labels'] = new_labels\n",
    "    return tokenized_inputs"
   ]
  },
  {
   "cell_type": "code",
   "execution_count": 4,
   "metadata": {
    "executionInfo": {
     "elapsed": 847,
     "status": "ok",
     "timestamp": 1670516257687,
     "user": {
      "displayName": "José Carlos Ferreira Neto",
      "userId": "09993765487513772420"
     },
     "user_tz": 180
    },
    "id": "HdnYup1nKS9O"
   },
   "outputs": [],
   "source": [
    "# lendo os dados\n",
    "data_ds = pd.read_csv('../datasets/processed/reli_stratified.csv')"
   ]
  },
  {
   "cell_type": "code",
   "execution_count": 5,
   "outputs": [],
   "source": [
    "# mudando o formato das colunas\n",
    "for col in ('tokens', 'aspect_tags'):\n",
    "    data_ds[col] = data_ds[col].apply(literal_eval)"
   ],
   "metadata": {
    "collapsed": false
   }
  },
  {
   "cell_type": "code",
   "execution_count": 6,
   "metadata": {
    "executionInfo": {
     "elapsed": 14,
     "status": "ok",
     "timestamp": 1670516257689,
     "user": {
      "displayName": "José Carlos Ferreira Neto",
      "userId": "09993765487513772420"
     },
     "user_tz": 180
    },
    "id": "5Gva2L8bLoKL"
   },
   "outputs": [],
   "source": [
    "# tag mapping\n",
    "id2label = {0: 'O', 1: 'B-ASP', 2: 'I-ASP'}\n",
    "label2id = {v: k for k, v in id2label.items()}\n",
    "label_names = ['O', 'B-ASP', 'I-ASP']"
   ]
  },
  {
   "cell_type": "code",
   "execution_count": 7,
   "outputs": [],
   "source": [
    "# seprando os folds\n",
    "cols = ['tokens', 'aspect_tags']\n",
    "\n",
    "data_ds = DatasetDict({\n",
    "    f'fold_{fold}': Dataset.from_pandas(data_ds[data_ds.fold == fold][cols], preserve_index=False)\n",
    "        for fold in data_ds.fold.unique()\n",
    "})"
   ],
   "metadata": {
    "collapsed": false
   }
  },
  {
   "cell_type": "code",
   "execution_count": 8,
   "outputs": [],
   "source": [
    "# initializing the tokenizer\n",
    "model_checkpoint = 'bert-base-multilingual-cased'\n",
    "tokenizer = utils.build_tokenizer(model_checkpoint)"
   ],
   "metadata": {
    "collapsed": false
   }
  },
  {
   "cell_type": "code",
   "execution_count": null,
   "outputs": [],
   "source": [
    "# tokenizing and aligning\n",
    "for fold in data_ds:\n",
    "    data_ds[fold] = data_ds[fold].map(\n",
    "        tokenize_and_align_labels,\n",
    "        batched=True,\n",
    "        remove_columns=data_ds[fold].column_names\n",
    "    )"
   ],
   "metadata": {
    "collapsed": false,
    "pycharm": {
     "is_executing": true
    }
   }
  },
  {
   "cell_type": "code",
   "execution_count": 10,
   "outputs": [],
   "source": [
    "# params to data collator\n",
    "batch_size = 8\n",
    "columns = data_ds['fold_1'].column_names\n",
    "data_collator = DataCollatorForTokenClassification(\n",
    "    tokenizer=tokenizer,\n",
    "    return_tensors='tf'\n",
    ")"
   ],
   "metadata": {
    "collapsed": false
   }
  },
  {
   "cell_type": "code",
   "execution_count": 11,
   "outputs": [
    {
     "name": "stderr",
     "output_type": "stream",
     "text": [
      "2022-12-26 14:03:14.435851: I tensorflow/stream_executor/cuda/cuda_gpu_executor.cc:975] successful NUMA node read from SysFS had negative value (-1), but there must be at least one NUMA node, so returning NUMA node zero\n",
      "2022-12-26 14:03:14.465206: I tensorflow/stream_executor/cuda/cuda_gpu_executor.cc:975] successful NUMA node read from SysFS had negative value (-1), but there must be at least one NUMA node, so returning NUMA node zero\n",
      "2022-12-26 14:03:14.465500: I tensorflow/stream_executor/cuda/cuda_gpu_executor.cc:975] successful NUMA node read from SysFS had negative value (-1), but there must be at least one NUMA node, so returning NUMA node zero\n",
      "2022-12-26 14:03:14.466356: I tensorflow/core/platform/cpu_feature_guard.cc:193] This TensorFlow binary is optimized with oneAPI Deep Neural Network Library (oneDNN) to use the following CPU instructions in performance-critical operations:  AVX2 FMA\n",
      "To enable them in other operations, rebuild TensorFlow with the appropriate compiler flags.\n",
      "2022-12-26 14:03:14.466927: I tensorflow/stream_executor/cuda/cuda_gpu_executor.cc:975] successful NUMA node read from SysFS had negative value (-1), but there must be at least one NUMA node, so returning NUMA node zero\n",
      "2022-12-26 14:03:14.467100: I tensorflow/stream_executor/cuda/cuda_gpu_executor.cc:975] successful NUMA node read from SysFS had negative value (-1), but there must be at least one NUMA node, so returning NUMA node zero\n",
      "2022-12-26 14:03:14.467271: I tensorflow/stream_executor/cuda/cuda_gpu_executor.cc:975] successful NUMA node read from SysFS had negative value (-1), but there must be at least one NUMA node, so returning NUMA node zero\n",
      "2022-12-26 14:03:14.861358: I tensorflow/stream_executor/cuda/cuda_gpu_executor.cc:975] successful NUMA node read from SysFS had negative value (-1), but there must be at least one NUMA node, so returning NUMA node zero\n",
      "2022-12-26 14:03:14.861559: I tensorflow/stream_executor/cuda/cuda_gpu_executor.cc:975] successful NUMA node read from SysFS had negative value (-1), but there must be at least one NUMA node, so returning NUMA node zero\n",
      "2022-12-26 14:03:14.861721: I tensorflow/stream_executor/cuda/cuda_gpu_executor.cc:975] successful NUMA node read from SysFS had negative value (-1), but there must be at least one NUMA node, so returning NUMA node zero\n",
      "2022-12-26 14:03:14.861870: I tensorflow/core/common_runtime/gpu/gpu_device.cc:1532] Created device /job:localhost/replica:0/task:0/device:GPU:0 with 3974 MB memory:  -> device: 0, name: NVIDIA GeForce GTX 1660 Ti, pci bus id: 0000:06:00.0, compute capability: 7.5\n",
      "/home/ferreira/anaconda3/lib/python3.9/site-packages/numpy/core/_asarray.py:102: VisibleDeprecationWarning: Creating an ndarray from ragged nested sequences (which is a list-or-tuple of lists-or-tuples-or ndarrays with different lengths or shapes) is deprecated. If you meant to do this, you must specify 'dtype=object' when creating the ndarray.\n",
      "  return array(a, dtype, copy=False, order=order)\n"
     ]
    }
   ],
   "source": [
    "# data collator\n",
    "for fold in data_ds:\n",
    "    data_ds[fold] = data_ds[fold].to_tf_dataset(\n",
    "        columns=columns,\n",
    "        collate_fn=data_collator,\n",
    "        shuffle=True,\n",
    "        batch_size=batch_size\n",
    "    )"
   ],
   "metadata": {
    "collapsed": false
   }
  },
  {
   "cell_type": "code",
   "execution_count": 23,
   "outputs": [],
   "source": [
    "# cross-validation\n",
    "results = defaultdict(dict)\n",
    "for k in range(len(data_ds.keys())):\n",
    "\n",
    "    curr_fold = k + 1\n",
    "    curr_splits = data_ds.copy()\n",
    "\n",
    "    validation = curr_splits[f'fold_{curr_fold}']\n",
    "    curr_splits.pop(f'fold_{curr_fold}')\n",
    "\n",
    "    folds = list(curr_splits.keys())\n",
    "    train = curr_splits[folds[0]]\n",
    "    for fold in folds[1:]:\n",
    "        train = train.concatenate(curr_splits[fold])\n",
    "\n",
    "    num_epochs = 3\n",
    "    num_train_steps = len(train) * num_epochs\n",
    "    optimizer, _ = create_optimizer(\n",
    "        init_lr=2e-5,\n",
    "        num_warmup_steps=0,\n",
    "        num_train_steps=num_train_steps,\n",
    "        weight_decay_rate=0.01,\n",
    "    )\n",
    "\n",
    "    model = utils.build_model(\n",
    "        model_checkpoint=model_checkpoint,\n",
    "        id2label=id2label,\n",
    "        label2id=label2id,\n",
    "        from_pt=True\n",
    "    )\n",
    "    model.compile(optimizer=optimizer)\n",
    "\n",
    "    model.fit(\n",
    "        train,\n",
    "        validation_data=validation,\n",
    "        epochs=num_epochs\n",
    "    )\n",
    "\n",
    "    results[f'split_{curr_fold}'] = utils.evaluate_model(\n",
    "        model=model,\n",
    "        test_data=validation,\n",
    "        label_names=label_names\n",
    "    )"
   ],
   "metadata": {
    "collapsed": false
   }
  },
  {
   "cell_type": "code",
   "execution_count": 15,
   "outputs": [],
   "source": [
    "with open(\"../results/baseline_reli.json\", \"w\") as outfile:\n",
    "    json.dump(results, outfile)"
   ],
   "metadata": {
    "collapsed": false
   }
  }
 ],
 "metadata": {
  "accelerator": "GPU",
  "colab": {
   "authorship_tag": "ABX9TyO8Pk7zQmNBVQd6jvKDdmFm",
   "provenance": []
  },
  "gpuClass": "premium",
  "kernelspec": {
   "display_name": "Python 3",
   "language": "python",
   "name": "python3"
  },
  "language_info": {
   "codemirror_mode": {
    "name": "ipython",
    "version": 3
   },
   "file_extension": ".py",
   "mimetype": "text/x-python",
   "name": "python",
   "nbconvert_exporter": "python",
   "pygments_lexer": "ipython3",
   "version": "3.8.8"
  }
 },
 "nbformat": 4,
 "nbformat_minor": 1
}
